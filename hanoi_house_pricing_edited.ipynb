{
  "cells": [
    {
      "cell_type": "markdown",
      "id": "f11a1221",
      "metadata": {
        "papermill": {
          "duration": 0.024391,
          "end_time": "2022-03-21T23:13:44.736018",
          "exception": false,
          "start_time": "2022-03-21T23:13:44.711627",
          "status": "completed"
        },
        "tags": [],
        "id": "f11a1221"
      },
      "source": [
        "# An Analysis of Hanoi, Vietnam Housing Price using Machine Learning"
      ]
    },
    {
      "cell_type": "markdown",
      "id": "dce352eb",
      "metadata": {
        "papermill": {
          "duration": 0.023913,
          "end_time": "2022-03-21T23:13:44.785415",
          "exception": false,
          "start_time": "2022-03-21T23:13:44.761502",
          "status": "completed"
        },
        "tags": [],
        "id": "dce352eb"
      },
      "source": [
        "# Exploratory Data Analysis (EDA)"
      ]
    },
    {
      "cell_type": "markdown",
      "id": "1c2edc24",
      "metadata": {
        "papermill": {
          "duration": 0.02296,
          "end_time": "2022-03-21T23:13:44.832055",
          "exception": false,
          "start_time": "2022-03-21T23:13:44.809095",
          "status": "completed"
        },
        "tags": [],
        "id": "1c2edc24"
      },
      "source": [
        "## Importing necessary libraries and initiate the dataframe"
      ]
    },
    {
      "cell_type": "code",
      "source": [
        "!pip install scikeras"
      ],
      "metadata": {
        "colab": {
          "base_uri": "https://localhost:8080/"
        },
        "id": "k32n2VmWiAi5",
        "outputId": "e170fb4d-c945-4c4a-ca02-4fde719b3128"
      },
      "id": "k32n2VmWiAi5",
      "execution_count": 2,
      "outputs": [
        {
          "output_type": "stream",
          "name": "stdout",
          "text": [
            "Collecting scikeras\n",
            "  Downloading scikeras-0.12.0-py3-none-any.whl (27 kB)\n",
            "Requirement already satisfied: packaging>=0.21 in /usr/local/lib/python3.10/dist-packages (from scikeras) (23.2)\n",
            "Requirement already satisfied: scikit-learn>=1.0.0 in /usr/local/lib/python3.10/dist-packages (from scikeras) (1.2.2)\n",
            "Requirement already satisfied: numpy>=1.17.3 in /usr/local/lib/python3.10/dist-packages (from scikit-learn>=1.0.0->scikeras) (1.23.5)\n",
            "Requirement already satisfied: scipy>=1.3.2 in /usr/local/lib/python3.10/dist-packages (from scikit-learn>=1.0.0->scikeras) (1.11.3)\n",
            "Requirement already satisfied: joblib>=1.1.1 in /usr/local/lib/python3.10/dist-packages (from scikit-learn>=1.0.0->scikeras) (1.3.2)\n",
            "Requirement already satisfied: threadpoolctl>=2.0.0 in /usr/local/lib/python3.10/dist-packages (from scikit-learn>=1.0.0->scikeras) (3.2.0)\n",
            "Installing collected packages: scikeras\n",
            "Successfully installed scikeras-0.12.0\n"
          ]
        }
      ]
    },
    {
      "cell_type": "code",
      "execution_count": 3,
      "id": "90c90fa0",
      "metadata": {
        "_cell_guid": "b1076dfc-b9ad-4769-8c92-a6c4dae69d19",
        "_uuid": "8f2839f25d086af736a60e9eeb907d3b93b6e0e5",
        "execution": {
          "iopub.execute_input": "2022-03-21T23:13:44.893110Z",
          "iopub.status.busy": "2022-03-21T23:13:44.892419Z",
          "iopub.status.idle": "2022-03-21T23:13:52.093105Z",
          "shell.execute_reply": "2022-03-21T23:13:52.092314Z",
          "shell.execute_reply.started": "2022-03-21T15:03:15.204633Z"
        },
        "papermill": {
          "duration": 7.237969,
          "end_time": "2022-03-21T23:13:52.093304",
          "exception": false,
          "start_time": "2022-03-21T23:13:44.855335",
          "status": "completed"
        },
        "tags": [],
        "id": "90c90fa0"
      },
      "outputs": [],
      "source": [
        "import warnings\n",
        "import os\n",
        "import numpy as np\n",
        "import pandas as pd\n",
        "import datetime\n",
        "import seaborn as sns\n",
        "import matplotlib.pyplot as plt\n",
        "\n",
        "from sklearn.preprocessing import StandardScaler\n",
        "from sklearn.ensemble import RandomForestRegressor\n",
        "from sklearn.model_selection import train_test_split\n",
        "from sklearn.model_selection import RandomizedSearchCV\n",
        "from sklearn.model_selection import GridSearchCV\n",
        "\n",
        "from tensorflow.keras.models import Sequential\n",
        "from tensorflow.keras.layers import Dense\n",
        "from scikeras.wrappers import KerasRegressor, KerasClassifier\n",
        "\n",
        "# Ignoring future warnings and deprecation warnings so as not to make the notebook full of warnings\n",
        "warnings.filterwarnings(\"ignore\")"
      ]
    },
    {
      "cell_type": "code",
      "source": [
        "from google.colab import drive\n",
        "drive.mount(\"/content/MyDrive\")"
      ],
      "metadata": {
        "colab": {
          "base_uri": "https://localhost:8080/"
        },
        "id": "quIiQjpEgKTi",
        "outputId": "d097ff8f-7109-433f-9629-8aac7d2b6aa2"
      },
      "id": "quIiQjpEgKTi",
      "execution_count": 4,
      "outputs": [
        {
          "output_type": "stream",
          "name": "stdout",
          "text": [
            "Mounted at /content/MyDrive\n"
          ]
        }
      ]
    },
    {
      "cell_type": "code",
      "source": [
        "%cd \"MyDrive/MyDrive/Hanoi House Pricing\"\n",
        "!ls"
      ],
      "metadata": {
        "colab": {
          "base_uri": "https://localhost:8080/"
        },
        "id": "IuEQ3kvngbgs",
        "outputId": "766429ab-e968-4e04-e105-1ef8fa97eb68"
      },
      "id": "IuEQ3kvngbgs",
      "execution_count": 5,
      "outputs": [
        {
          "output_type": "stream",
          "name": "stdout",
          "text": [
            "/content/MyDrive/MyDrive/Hanoi House Pricing\n",
            "Document.gdoc  hanoi_house_pricing.ipynb  Hanoi_housing_dataset.csv\n"
          ]
        }
      ]
    },
    {
      "cell_type": "code",
      "execution_count": 6,
      "id": "131b56a8",
      "metadata": {
        "execution": {
          "iopub.execute_input": "2022-03-21T23:13:52.196737Z",
          "iopub.status.busy": "2022-03-21T23:13:52.196059Z",
          "iopub.status.idle": "2022-03-21T23:13:52.809681Z",
          "shell.execute_reply": "2022-03-21T23:13:52.810239Z",
          "shell.execute_reply.started": "2022-03-21T15:03:23.203148Z"
        },
        "papermill": {
          "duration": 0.640035,
          "end_time": "2022-03-21T23:13:52.810419",
          "exception": false,
          "start_time": "2022-03-21T23:13:52.170384",
          "status": "completed"
        },
        "tags": [],
        "colab": {
          "base_uri": "https://localhost:8080/",
          "height": 397
        },
        "id": "131b56a8",
        "outputId": "5271a4ac-cf66-4c94-a149-962037f33170"
      },
      "outputs": [
        {
          "output_type": "execute_result",
          "data": {
            "text/plain": [
              "   Unnamed: 0        Ngày                                            Địa chỉ  \\\n",
              "0         0.0  2020-08-05  Đường Hoàng Quốc Việt, Phường Nghĩa Đô, Quận C...   \n",
              "1         1.0  2020-08-05  Đường Kim Giang, Phường Kim Giang, Quận Thanh ...   \n",
              "2         2.0  2020-08-05  phố minh khai, Phường Minh Khai, Quận Hai Bà T...   \n",
              "3         3.0  2020-08-05  Đường Võng Thị, Phường Thụy Khuê, Quận Tây Hồ,...   \n",
              "4         4.0  2020-08-05  Đường Kim Giang, Phường Kim Giang, Quận Thanh ...   \n",
              "\n",
              "                Quận             Huyện        Loại hình nhà ở Giấy tờ pháp lý  \\\n",
              "0      Quận Cầu Giấy   Phường Nghĩa Đô           Nhà ngõ, hẻm        Đã có sổ   \n",
              "1    Quận Thanh Xuân  Phường Kim Giang  Nhà mặt phố, mặt tiền             NaN   \n",
              "2  Quận Hai Bà Trưng  Phường Minh Khai           Nhà ngõ, hẻm        Đã có sổ   \n",
              "3        Quận Tây Hồ  Phường Thụy Khuê           Nhà ngõ, hẻm        Đã có sổ   \n",
              "4    Quận Thanh Xuân  Phường Kim Giang           Nhà ngõ, hẻm             NaN   \n",
              "\n",
              "  Số tầng Số phòng ngủ Diện tích      Dài Rộng           Giá/m2  \n",
              "0       4      5 phòng     46 m²      NaN  NaN   86,96 triệu/m²  \n",
              "1     NaN      3 phòng     37 m²      NaN  NaN  116,22 triệu/m²  \n",
              "2       4      4 phòng     40 m²     10 m  4 m      65 triệu/m²  \n",
              "3     NaN      6 phòng     51 m²  12.75 m  4 m     100 triệu/m²  \n",
              "4     NaN      4 phòng     36 m²      9 m  4 m   86,11 triệu/m²  "
            ],
            "text/html": [
              "\n",
              "  <div id=\"df-ec7f6042-4baa-4a58-a711-1ea1c051bf96\" class=\"colab-df-container\">\n",
              "    <div>\n",
              "<style scoped>\n",
              "    .dataframe tbody tr th:only-of-type {\n",
              "        vertical-align: middle;\n",
              "    }\n",
              "\n",
              "    .dataframe tbody tr th {\n",
              "        vertical-align: top;\n",
              "    }\n",
              "\n",
              "    .dataframe thead th {\n",
              "        text-align: right;\n",
              "    }\n",
              "</style>\n",
              "<table border=\"1\" class=\"dataframe\">\n",
              "  <thead>\n",
              "    <tr style=\"text-align: right;\">\n",
              "      <th></th>\n",
              "      <th>Unnamed: 0</th>\n",
              "      <th>Ngày</th>\n",
              "      <th>Địa chỉ</th>\n",
              "      <th>Quận</th>\n",
              "      <th>Huyện</th>\n",
              "      <th>Loại hình nhà ở</th>\n",
              "      <th>Giấy tờ pháp lý</th>\n",
              "      <th>Số tầng</th>\n",
              "      <th>Số phòng ngủ</th>\n",
              "      <th>Diện tích</th>\n",
              "      <th>Dài</th>\n",
              "      <th>Rộng</th>\n",
              "      <th>Giá/m2</th>\n",
              "    </tr>\n",
              "  </thead>\n",
              "  <tbody>\n",
              "    <tr>\n",
              "      <th>0</th>\n",
              "      <td>0.0</td>\n",
              "      <td>2020-08-05</td>\n",
              "      <td>Đường Hoàng Quốc Việt, Phường Nghĩa Đô, Quận C...</td>\n",
              "      <td>Quận Cầu Giấy</td>\n",
              "      <td>Phường Nghĩa Đô</td>\n",
              "      <td>Nhà ngõ, hẻm</td>\n",
              "      <td>Đã có sổ</td>\n",
              "      <td>4</td>\n",
              "      <td>5 phòng</td>\n",
              "      <td>46 m²</td>\n",
              "      <td>NaN</td>\n",
              "      <td>NaN</td>\n",
              "      <td>86,96 triệu/m²</td>\n",
              "    </tr>\n",
              "    <tr>\n",
              "      <th>1</th>\n",
              "      <td>1.0</td>\n",
              "      <td>2020-08-05</td>\n",
              "      <td>Đường Kim Giang, Phường Kim Giang, Quận Thanh ...</td>\n",
              "      <td>Quận Thanh Xuân</td>\n",
              "      <td>Phường Kim Giang</td>\n",
              "      <td>Nhà mặt phố, mặt tiền</td>\n",
              "      <td>NaN</td>\n",
              "      <td>NaN</td>\n",
              "      <td>3 phòng</td>\n",
              "      <td>37 m²</td>\n",
              "      <td>NaN</td>\n",
              "      <td>NaN</td>\n",
              "      <td>116,22 triệu/m²</td>\n",
              "    </tr>\n",
              "    <tr>\n",
              "      <th>2</th>\n",
              "      <td>2.0</td>\n",
              "      <td>2020-08-05</td>\n",
              "      <td>phố minh khai, Phường Minh Khai, Quận Hai Bà T...</td>\n",
              "      <td>Quận Hai Bà Trưng</td>\n",
              "      <td>Phường Minh Khai</td>\n",
              "      <td>Nhà ngõ, hẻm</td>\n",
              "      <td>Đã có sổ</td>\n",
              "      <td>4</td>\n",
              "      <td>4 phòng</td>\n",
              "      <td>40 m²</td>\n",
              "      <td>10 m</td>\n",
              "      <td>4 m</td>\n",
              "      <td>65 triệu/m²</td>\n",
              "    </tr>\n",
              "    <tr>\n",
              "      <th>3</th>\n",
              "      <td>3.0</td>\n",
              "      <td>2020-08-05</td>\n",
              "      <td>Đường Võng Thị, Phường Thụy Khuê, Quận Tây Hồ,...</td>\n",
              "      <td>Quận Tây Hồ</td>\n",
              "      <td>Phường Thụy Khuê</td>\n",
              "      <td>Nhà ngõ, hẻm</td>\n",
              "      <td>Đã có sổ</td>\n",
              "      <td>NaN</td>\n",
              "      <td>6 phòng</td>\n",
              "      <td>51 m²</td>\n",
              "      <td>12.75 m</td>\n",
              "      <td>4 m</td>\n",
              "      <td>100 triệu/m²</td>\n",
              "    </tr>\n",
              "    <tr>\n",
              "      <th>4</th>\n",
              "      <td>4.0</td>\n",
              "      <td>2020-08-05</td>\n",
              "      <td>Đường Kim Giang, Phường Kim Giang, Quận Thanh ...</td>\n",
              "      <td>Quận Thanh Xuân</td>\n",
              "      <td>Phường Kim Giang</td>\n",
              "      <td>Nhà ngõ, hẻm</td>\n",
              "      <td>NaN</td>\n",
              "      <td>NaN</td>\n",
              "      <td>4 phòng</td>\n",
              "      <td>36 m²</td>\n",
              "      <td>9 m</td>\n",
              "      <td>4 m</td>\n",
              "      <td>86,11 triệu/m²</td>\n",
              "    </tr>\n",
              "  </tbody>\n",
              "</table>\n",
              "</div>\n",
              "    <div class=\"colab-df-buttons\">\n",
              "\n",
              "  <div class=\"colab-df-container\">\n",
              "    <button class=\"colab-df-convert\" onclick=\"convertToInteractive('df-ec7f6042-4baa-4a58-a711-1ea1c051bf96')\"\n",
              "            title=\"Convert this dataframe to an interactive table.\"\n",
              "            style=\"display:none;\">\n",
              "\n",
              "  <svg xmlns=\"http://www.w3.org/2000/svg\" height=\"24px\" viewBox=\"0 -960 960 960\">\n",
              "    <path d=\"M120-120v-720h720v720H120Zm60-500h600v-160H180v160Zm220 220h160v-160H400v160Zm0 220h160v-160H400v160ZM180-400h160v-160H180v160Zm440 0h160v-160H620v160ZM180-180h160v-160H180v160Zm440 0h160v-160H620v160Z\"/>\n",
              "  </svg>\n",
              "    </button>\n",
              "\n",
              "  <style>\n",
              "    .colab-df-container {\n",
              "      display:flex;\n",
              "      gap: 12px;\n",
              "    }\n",
              "\n",
              "    .colab-df-convert {\n",
              "      background-color: #E8F0FE;\n",
              "      border: none;\n",
              "      border-radius: 50%;\n",
              "      cursor: pointer;\n",
              "      display: none;\n",
              "      fill: #1967D2;\n",
              "      height: 32px;\n",
              "      padding: 0 0 0 0;\n",
              "      width: 32px;\n",
              "    }\n",
              "\n",
              "    .colab-df-convert:hover {\n",
              "      background-color: #E2EBFA;\n",
              "      box-shadow: 0px 1px 2px rgba(60, 64, 67, 0.3), 0px 1px 3px 1px rgba(60, 64, 67, 0.15);\n",
              "      fill: #174EA6;\n",
              "    }\n",
              "\n",
              "    .colab-df-buttons div {\n",
              "      margin-bottom: 4px;\n",
              "    }\n",
              "\n",
              "    [theme=dark] .colab-df-convert {\n",
              "      background-color: #3B4455;\n",
              "      fill: #D2E3FC;\n",
              "    }\n",
              "\n",
              "    [theme=dark] .colab-df-convert:hover {\n",
              "      background-color: #434B5C;\n",
              "      box-shadow: 0px 1px 3px 1px rgba(0, 0, 0, 0.15);\n",
              "      filter: drop-shadow(0px 1px 2px rgba(0, 0, 0, 0.3));\n",
              "      fill: #FFFFFF;\n",
              "    }\n",
              "  </style>\n",
              "\n",
              "    <script>\n",
              "      const buttonEl =\n",
              "        document.querySelector('#df-ec7f6042-4baa-4a58-a711-1ea1c051bf96 button.colab-df-convert');\n",
              "      buttonEl.style.display =\n",
              "        google.colab.kernel.accessAllowed ? 'block' : 'none';\n",
              "\n",
              "      async function convertToInteractive(key) {\n",
              "        const element = document.querySelector('#df-ec7f6042-4baa-4a58-a711-1ea1c051bf96');\n",
              "        const dataTable =\n",
              "          await google.colab.kernel.invokeFunction('convertToInteractive',\n",
              "                                                    [key], {});\n",
              "        if (!dataTable) return;\n",
              "\n",
              "        const docLinkHtml = 'Like what you see? Visit the ' +\n",
              "          '<a target=\"_blank\" href=https://colab.research.google.com/notebooks/data_table.ipynb>data table notebook</a>'\n",
              "          + ' to learn more about interactive tables.';\n",
              "        element.innerHTML = '';\n",
              "        dataTable['output_type'] = 'display_data';\n",
              "        await google.colab.output.renderOutput(dataTable, element);\n",
              "        const docLink = document.createElement('div');\n",
              "        docLink.innerHTML = docLinkHtml;\n",
              "        element.appendChild(docLink);\n",
              "      }\n",
              "    </script>\n",
              "  </div>\n",
              "\n",
              "\n",
              "<div id=\"df-5843a23d-92e2-4829-b9dd-5679c6ad7826\">\n",
              "  <button class=\"colab-df-quickchart\" onclick=\"quickchart('df-5843a23d-92e2-4829-b9dd-5679c6ad7826')\"\n",
              "            title=\"Suggest charts.\"\n",
              "            style=\"display:none;\">\n",
              "\n",
              "<svg xmlns=\"http://www.w3.org/2000/svg\" height=\"24px\"viewBox=\"0 0 24 24\"\n",
              "     width=\"24px\">\n",
              "    <g>\n",
              "        <path d=\"M19 3H5c-1.1 0-2 .9-2 2v14c0 1.1.9 2 2 2h14c1.1 0 2-.9 2-2V5c0-1.1-.9-2-2-2zM9 17H7v-7h2v7zm4 0h-2V7h2v10zm4 0h-2v-4h2v4z\"/>\n",
              "    </g>\n",
              "</svg>\n",
              "  </button>\n",
              "\n",
              "<style>\n",
              "  .colab-df-quickchart {\n",
              "      --bg-color: #E8F0FE;\n",
              "      --fill-color: #1967D2;\n",
              "      --hover-bg-color: #E2EBFA;\n",
              "      --hover-fill-color: #174EA6;\n",
              "      --disabled-fill-color: #AAA;\n",
              "      --disabled-bg-color: #DDD;\n",
              "  }\n",
              "\n",
              "  [theme=dark] .colab-df-quickchart {\n",
              "      --bg-color: #3B4455;\n",
              "      --fill-color: #D2E3FC;\n",
              "      --hover-bg-color: #434B5C;\n",
              "      --hover-fill-color: #FFFFFF;\n",
              "      --disabled-bg-color: #3B4455;\n",
              "      --disabled-fill-color: #666;\n",
              "  }\n",
              "\n",
              "  .colab-df-quickchart {\n",
              "    background-color: var(--bg-color);\n",
              "    border: none;\n",
              "    border-radius: 50%;\n",
              "    cursor: pointer;\n",
              "    display: none;\n",
              "    fill: var(--fill-color);\n",
              "    height: 32px;\n",
              "    padding: 0;\n",
              "    width: 32px;\n",
              "  }\n",
              "\n",
              "  .colab-df-quickchart:hover {\n",
              "    background-color: var(--hover-bg-color);\n",
              "    box-shadow: 0 1px 2px rgba(60, 64, 67, 0.3), 0 1px 3px 1px rgba(60, 64, 67, 0.15);\n",
              "    fill: var(--button-hover-fill-color);\n",
              "  }\n",
              "\n",
              "  .colab-df-quickchart-complete:disabled,\n",
              "  .colab-df-quickchart-complete:disabled:hover {\n",
              "    background-color: var(--disabled-bg-color);\n",
              "    fill: var(--disabled-fill-color);\n",
              "    box-shadow: none;\n",
              "  }\n",
              "\n",
              "  .colab-df-spinner {\n",
              "    border: 2px solid var(--fill-color);\n",
              "    border-color: transparent;\n",
              "    border-bottom-color: var(--fill-color);\n",
              "    animation:\n",
              "      spin 1s steps(1) infinite;\n",
              "  }\n",
              "\n",
              "  @keyframes spin {\n",
              "    0% {\n",
              "      border-color: transparent;\n",
              "      border-bottom-color: var(--fill-color);\n",
              "      border-left-color: var(--fill-color);\n",
              "    }\n",
              "    20% {\n",
              "      border-color: transparent;\n",
              "      border-left-color: var(--fill-color);\n",
              "      border-top-color: var(--fill-color);\n",
              "    }\n",
              "    30% {\n",
              "      border-color: transparent;\n",
              "      border-left-color: var(--fill-color);\n",
              "      border-top-color: var(--fill-color);\n",
              "      border-right-color: var(--fill-color);\n",
              "    }\n",
              "    40% {\n",
              "      border-color: transparent;\n",
              "      border-right-color: var(--fill-color);\n",
              "      border-top-color: var(--fill-color);\n",
              "    }\n",
              "    60% {\n",
              "      border-color: transparent;\n",
              "      border-right-color: var(--fill-color);\n",
              "    }\n",
              "    80% {\n",
              "      border-color: transparent;\n",
              "      border-right-color: var(--fill-color);\n",
              "      border-bottom-color: var(--fill-color);\n",
              "    }\n",
              "    90% {\n",
              "      border-color: transparent;\n",
              "      border-bottom-color: var(--fill-color);\n",
              "    }\n",
              "  }\n",
              "</style>\n",
              "\n",
              "  <script>\n",
              "    async function quickchart(key) {\n",
              "      const quickchartButtonEl =\n",
              "        document.querySelector('#' + key + ' button');\n",
              "      quickchartButtonEl.disabled = true;  // To prevent multiple clicks.\n",
              "      quickchartButtonEl.classList.add('colab-df-spinner');\n",
              "      try {\n",
              "        const charts = await google.colab.kernel.invokeFunction(\n",
              "            'suggestCharts', [key], {});\n",
              "      } catch (error) {\n",
              "        console.error('Error during call to suggestCharts:', error);\n",
              "      }\n",
              "      quickchartButtonEl.classList.remove('colab-df-spinner');\n",
              "      quickchartButtonEl.classList.add('colab-df-quickchart-complete');\n",
              "    }\n",
              "    (() => {\n",
              "      let quickchartButtonEl =\n",
              "        document.querySelector('#df-5843a23d-92e2-4829-b9dd-5679c6ad7826 button');\n",
              "      quickchartButtonEl.style.display =\n",
              "        google.colab.kernel.accessAllowed ? 'block' : 'none';\n",
              "    })();\n",
              "  </script>\n",
              "</div>\n",
              "    </div>\n",
              "  </div>\n"
            ]
          },
          "metadata": {},
          "execution_count": 6
        }
      ],
      "source": [
        "# Reading the first few lines of the dataset\n",
        "df = pd.read_csv(\"Hanoi_housing_dataset.csv\")\n",
        "df.head()"
      ]
    },
    {
      "cell_type": "markdown",
      "source": [
        "### The total records of the dataset"
      ],
      "metadata": {
        "id": "flojodGz9HUd"
      },
      "id": "flojodGz9HUd"
    },
    {
      "cell_type": "code",
      "execution_count": null,
      "id": "fb61ace9",
      "metadata": {
        "execution": {
          "iopub.execute_input": "2022-03-21T23:13:52.864474Z",
          "iopub.status.busy": "2022-03-21T23:13:52.863796Z",
          "iopub.status.idle": "2022-03-21T23:13:52.867130Z",
          "shell.execute_reply": "2022-03-21T23:13:52.866656Z",
          "shell.execute_reply.started": "2022-03-21T15:03:23.913967Z"
        },
        "papermill": {
          "duration": 0.032479,
          "end_time": "2022-03-21T23:13:52.867294",
          "exception": false,
          "start_time": "2022-03-21T23:13:52.834815",
          "status": "completed"
        },
        "tags": [],
        "colab": {
          "base_uri": "https://localhost:8080/"
        },
        "id": "fb61ace9",
        "outputId": "964fae54-b91e-4fa3-9423-a87a19cb338b"
      },
      "outputs": [
        {
          "output_type": "stream",
          "name": "stdout",
          "text": [
            "The total records of the dataset are:  82497 records.\n"
          ]
        }
      ],
      "source": [
        "print(\"The total records of the dataset are: \", str(len(df)), \"records.\")"
      ]
    },
    {
      "cell_type": "markdown",
      "source": [
        "### Analyse some features in this data set"
      ],
      "metadata": {
        "id": "DvQbTIZT9NhE"
      },
      "id": "DvQbTIZT9NhE"
    },
    {
      "cell_type": "code",
      "source": [
        "x = df['Quận'].value_counts().keys()\n",
        "\n",
        "plt.barh(x[:10], df['Quận'].value_counts()[:10]);"
      ],
      "metadata": {
        "colab": {
          "base_uri": "https://localhost:8080/",
          "height": 430
        },
        "id": "g_MJUUxZTla3",
        "outputId": "b5c08008-564a-4446-bfcd-936e7e0b2f29"
      },
      "id": "g_MJUUxZTla3",
      "execution_count": null,
      "outputs": [
        {
          "output_type": "display_data",
          "data": {
            "text/plain": [
              "<Figure size 640x480 with 1 Axes>"
            ],
            "image/png": "[encoded data removed]"
          },
          "metadata": {}
        }
      ]
    },
    {
      "cell_type": "markdown",
      "source": [
        "Based on the information above, most of records come from: Quận Đống Đa, Quận Thanh Xuân, Quận Hoàng Mai, Quận Hai Bà Trưng, and Quận Hà Đông. It can be inferred that these districts have a high number of real estate transactions."
      ],
      "metadata": {
        "id": "zFHXJEEH9eF1"
      },
      "id": "zFHXJEEH9eF1"
    },
    {
      "cell_type": "code",
      "source": [
        "x = df['Loại hình nhà ở'].value_counts()\n",
        "plt.barh(x.keys(), x);"
      ],
      "metadata": {
        "colab": {
          "base_uri": "https://localhost:8080/",
          "height": 430
        },
        "id": "WGHDQYu8T6Qm",
        "outputId": "ffd86f05-fc15-456b-b1c6-7621e4a8957d"
      },
      "id": "WGHDQYu8T6Qm",
      "execution_count": null,
      "outputs": [
        {
          "output_type": "display_data",
          "data": {
            "text/plain": [
              "<Figure size 640x480 with 1 Axes>"
            ],
            "image/png": "[encoded data removed]"
          },
          "metadata": {}
        }
      ]
    },
    {
      "cell_type": "markdown",
      "source": [
        "Based on the information above, most of records are “Nhà ngõ, hẻm” and “Nhà mặt phố, mặt tiền”."
      ],
      "metadata": {
        "id": "xyaFflsQUAXY"
      },
      "id": "xyaFflsQUAXY"
    },
    {
      "cell_type": "code",
      "source": [
        "x = df['Giấy tờ pháp lý'].value_counts()\n",
        "plt.barh(x.keys(), x);"
      ],
      "metadata": {
        "colab": {
          "base_uri": "https://localhost:8080/",
          "height": 430
        },
        "id": "QTCl8JzHUJJI",
        "outputId": "1cf265ea-722b-4836-b032-dfd6b3bb3b7b"
      },
      "id": "QTCl8JzHUJJI",
      "execution_count": null,
      "outputs": [
        {
          "output_type": "display_data",
          "data": {
            "text/plain": [
              "<Figure size 640x480 with 1 Axes>"
            ],
            "image/png": "[encoded data removed]"
          },
          "metadata": {}
        }
      ]
    },
    {
      "cell_type": "markdown",
      "source": [
        "Based on the information above, most of records already have legal paper \"Đã có sổ\"."
      ],
      "metadata": {
        "id": "CR5BqGsHUaWT"
      },
      "id": "CR5BqGsHUaWT"
    },
    {
      "cell_type": "code",
      "source": [
        "x = df['Số tầng'].value_counts()\n",
        "plt.bar(x.keys()[:10], x[:10]);"
      ],
      "metadata": {
        "colab": {
          "base_uri": "https://localhost:8080/",
          "height": 430
        },
        "id": "-cM3YA9rUqxe",
        "outputId": "b084ad73-c906-4c4a-f979-c3cf2c800d62"
      },
      "id": "-cM3YA9rUqxe",
      "execution_count": null,
      "outputs": [
        {
          "output_type": "display_data",
          "data": {
            "text/plain": [
              "<Figure size 640x480 with 1 Axes>"
            ],
            "image/png": "[encoded data removed]"
          },
          "metadata": {}
        }
      ]
    },
    {
      "cell_type": "code",
      "source": [
        "x = df['Số phòng ngủ'].value_counts()\n",
        "plt.barh(x.keys(), x);"
      ],
      "metadata": {
        "colab": {
          "base_uri": "https://localhost:8080/",
          "height": 430
        },
        "id": "vbevbxHkU274",
        "outputId": "070310cb-345c-4858-b747-4555194488d5"
      },
      "id": "vbevbxHkU274",
      "execution_count": null,
      "outputs": [
        {
          "output_type": "display_data",
          "data": {
            "text/plain": [
              "<Figure size 640x480 with 1 Axes>"
            ],
            "image/png": "[encoded data removed]"
          },
          "metadata": {}
        }
      ]
    },
    {
      "cell_type": "markdown",
      "source": [
        "Based on the information above, most of the records have 4 to 5 floors. Moreover, most of the records have up to 3 or 4 rooms in each building."
      ],
      "metadata": {
        "id": "_HQM6U7OUtiM"
      },
      "id": "_HQM6U7OUtiM"
    },
    {
      "cell_type": "code",
      "source": [
        "df[\"Ngày\"] = pd.to_datetime(df[\"Ngày\"])\n",
        "df[\"Ngày\"].dt.year.value_counts()"
      ],
      "metadata": {
        "colab": {
          "base_uri": "https://localhost:8080/"
        },
        "id": "3NKubotjRS0a",
        "outputId": "fc80f0ea-5aab-4638-d593-9c5fcc24652f"
      },
      "id": "3NKubotjRS0a",
      "execution_count": null,
      "outputs": [
        {
          "output_type": "execute_result",
          "data": {
            "text/plain": [
              "2020.0    82478\n",
              "2019.0       18\n",
              "Name: Ngày, dtype: int64"
            ]
          },
          "metadata": {},
          "execution_count": 12
        }
      ]
    },
    {
      "cell_type": "markdown",
      "source": [
        "Based on the information above, all of the records in this data set are collected in 2019 and 2020."
      ],
      "metadata": {
        "id": "wQ00teOnRtEm"
      },
      "id": "wQ00teOnRtEm"
    },
    {
      "cell_type": "code",
      "source": [
        "df[\"Ngày\"] = df[\"Ngày\"].astype(str)"
      ],
      "metadata": {
        "id": "oQWmZwoK7K-S"
      },
      "id": "oQWmZwoK7K-S",
      "execution_count": null,
      "outputs": []
    },
    {
      "cell_type": "markdown",
      "id": "40535867",
      "metadata": {
        "papermill": {
          "duration": 0.02459,
          "end_time": "2022-03-21T23:13:52.916464",
          "exception": false,
          "start_time": "2022-03-21T23:13:52.891874",
          "status": "completed"
        },
        "tags": [],
        "id": "40535867"
      },
      "source": [
        "## Cleaning data and removing outliers"
      ]
    },
    {
      "cell_type": "markdown",
      "id": "6d1c1d7c",
      "metadata": {
        "papermill": {
          "duration": 0.024198,
          "end_time": "2022-03-21T23:13:52.970785",
          "exception": false,
          "start_time": "2022-03-21T23:13:52.946587",
          "status": "completed"
        },
        "tags": [],
        "id": "6d1c1d7c"
      },
      "source": [
        "### Renaming/Translating column names"
      ]
    },
    {
      "cell_type": "code",
      "execution_count": 7,
      "id": "16633a86",
      "metadata": {
        "execution": {
          "iopub.execute_input": "2022-03-21T23:13:53.026043Z",
          "iopub.status.busy": "2022-03-21T23:13:53.025377Z",
          "iopub.status.idle": "2022-03-21T23:13:53.164860Z",
          "shell.execute_reply": "2022-03-21T23:13:53.164329Z",
          "shell.execute_reply.started": "2022-03-21T15:03:23.924742Z"
        },
        "papermill": {
          "duration": 0.170169,
          "end_time": "2022-03-21T23:13:53.165015",
          "exception": false,
          "start_time": "2022-03-21T23:13:52.994846",
          "status": "completed"
        },
        "tags": [],
        "id": "16633a86"
      },
      "outputs": [],
      "source": [
        "df = df.rename(columns = {\"Ngày\":\"date\", \"Địa chỉ\":\"address\", \"Quận\":\"district\",\n",
        "                                  \"Huyện\":\"ward\", \"Loại hình nhà ở\":\"type_of_housing\",\n",
        "                                 \"Giấy tờ pháp lý\":\"legal_paper\", \"Số tầng\":\"num_floors\",\n",
        "                                 \"Số phòng ngủ\":\"num_bed_rooms\", \"Diện tích\":\"squared_meter_area\",\n",
        "                                 \"Dài\":\"length_meter\", \"Rộng\":\"width_meter\", \"Giá/m2\":\"price_in_million_per_square_meter\"})"
      ]
    },
    {
      "cell_type": "code",
      "source": [
        "df.head()"
      ],
      "metadata": {
        "colab": {
          "base_uri": "https://localhost:8080/",
          "height": 903
        },
        "id": "hzdys12ojfyx",
        "outputId": "cb08e40d-c079-44c5-e5eb-9408112c7f51"
      },
      "id": "hzdys12ojfyx",
      "execution_count": null,
      "outputs": [
        {
          "output_type": "execute_result",
          "data": {
            "text/plain": [
              "   Unnamed: 0        date                                            address  \\\n",
              "0         0.0  2020-08-05  Đường Hoàng Quốc Việt, Phường Nghĩa Đô, Quận C...   \n",
              "1         1.0  2020-08-05  Đường Kim Giang, Phường Kim Giang, Quận Thanh ...   \n",
              "2         2.0  2020-08-05  phố minh khai, Phường Minh Khai, Quận Hai Bà T...   \n",
              "3         3.0  2020-08-05  Đường Võng Thị, Phường Thụy Khuê, Quận Tây Hồ,...   \n",
              "4         4.0  2020-08-05  Đường Kim Giang, Phường Kim Giang, Quận Thanh ...   \n",
              "\n",
              "            district              ward        type_of_housing legal_paper  \\\n",
              "0      Quận Cầu Giấy   Phường Nghĩa Đô           Nhà ngõ, hẻm    Đã có sổ   \n",
              "1    Quận Thanh Xuân  Phường Kim Giang  Nhà mặt phố, mặt tiền         NaN   \n",
              "2  Quận Hai Bà Trưng  Phường Minh Khai           Nhà ngõ, hẻm    Đã có sổ   \n",
              "3        Quận Tây Hồ  Phường Thụy Khuê           Nhà ngõ, hẻm    Đã có sổ   \n",
              "4    Quận Thanh Xuân  Phường Kim Giang           Nhà ngõ, hẻm         NaN   \n",
              "\n",
              "  num_floors num_bed_rooms squared_meter_area length_meter width_meter  \\\n",
              "0          4       5 phòng              46 m²          NaN         NaN   \n",
              "1        NaN       3 phòng              37 m²          NaN         NaN   \n",
              "2          4       4 phòng              40 m²         10 m         4 m   \n",
              "3        NaN       6 phòng              51 m²      12.75 m         4 m   \n",
              "4        NaN       4 phòng              36 m²          9 m         4 m   \n",
              "\n",
              "  price_in_million_per_square_meter  \n",
              "0                    86,96 triệu/m²  \n",
              "1                   116,22 triệu/m²  \n",
              "2                       65 triệu/m²  \n",
              "3                      100 triệu/m²  \n",
              "4                    86,11 triệu/m²  "
            ],
            "text/html": [
              "\n",
              "  <div id=\"df-a13075c6-c444-4882-8faf-3d0b3793d335\" class=\"colab-df-container\">\n",
              "    <div>\n",
              "<style scoped>\n",
              "    .dataframe tbody tr th:only-of-type {\n",
              "        vertical-align: middle;\n",
              "    }\n",
              "\n",
              "    .dataframe tbody tr th {\n",
              "        vertical-align: top;\n",
              "    }\n",
              "\n",
              "    .dataframe thead th {\n",
              "        text-align: right;\n",
              "    }\n",
              "</style>\n",
              "<table border=\"1\" class=\"dataframe\">\n",
              "  <thead>\n",
              "    <tr style=\"text-align: right;\">\n",
              "      <th></th>\n",
              "      <th>Unnamed: 0</th>\n",
              "      <th>date</th>\n",
              "      <th>address</th>\n",
              "      <th>district</th>\n",
              "      <th>ward</th>\n",
              "      <th>type_of_housing</th>\n",
              "      <th>legal_paper</th>\n",
              "      <th>num_floors</th>\n",
              "      <th>num_bed_rooms</th>\n",
              "      <th>squared_meter_area</th>\n",
              "      <th>length_meter</th>\n",
              "      <th>width_meter</th>\n",
              "      <th>price_in_million_per_square_meter</th>\n",
              "    </tr>\n",
              "  </thead>\n",
              "  <tbody>\n",
              "    <tr>\n",
              "      <th>0</th>\n",
              "      <td>0.0</td>\n",
              "      <td>2020-08-05</td>\n",
              "      <td>Đường Hoàng Quốc Việt, Phường Nghĩa Đô, Quận C...</td>\n",
              "      <td>Quận Cầu Giấy</td>\n",
              "      <td>Phường Nghĩa Đô</td>\n",
              "      <td>Nhà ngõ, hẻm</td>\n",
              "      <td>Đã có sổ</td>\n",
              "      <td>4</td>\n",
              "      <td>5 phòng</td>\n",
              "      <td>46 m²</td>\n",
              "      <td>NaN</td>\n",
              "      <td>NaN</td>\n",
              "      <td>86,96 triệu/m²</td>\n",
              "    </tr>\n",
              "    <tr>\n",
              "      <th>1</th>\n",
              "      <td>1.0</td>\n",
              "      <td>2020-08-05</td>\n",
              "      <td>Đường Kim Giang, Phường Kim Giang, Quận Thanh ...</td>\n",
              "      <td>Quận Thanh Xuân</td>\n",
              "      <td>Phường Kim Giang</td>\n",
              "      <td>Nhà mặt phố, mặt tiền</td>\n",
              "      <td>NaN</td>\n",
              "      <td>NaN</td>\n",
              "      <td>3 phòng</td>\n",
              "      <td>37 m²</td>\n",
              "      <td>NaN</td>\n",
              "      <td>NaN</td>\n",
              "      <td>116,22 triệu/m²</td>\n",
              "    </tr>\n",
              "    <tr>\n",
              "      <th>2</th>\n",
              "      <td>2.0</td>\n",
              "      <td>2020-08-05</td>\n",
              "      <td>phố minh khai, Phường Minh Khai, Quận Hai Bà T...</td>\n",
              "      <td>Quận Hai Bà Trưng</td>\n",
              "      <td>Phường Minh Khai</td>\n",
              "      <td>Nhà ngõ, hẻm</td>\n",
              "      <td>Đã có sổ</td>\n",
              "      <td>4</td>\n",
              "      <td>4 phòng</td>\n",
              "      <td>40 m²</td>\n",
              "      <td>10 m</td>\n",
              "      <td>4 m</td>\n",
              "      <td>65 triệu/m²</td>\n",
              "    </tr>\n",
              "    <tr>\n",
              "      <th>3</th>\n",
              "      <td>3.0</td>\n",
              "      <td>2020-08-05</td>\n",
              "      <td>Đường Võng Thị, Phường Thụy Khuê, Quận Tây Hồ,...</td>\n",
              "      <td>Quận Tây Hồ</td>\n",
              "      <td>Phường Thụy Khuê</td>\n",
              "      <td>Nhà ngõ, hẻm</td>\n",
              "      <td>Đã có sổ</td>\n",
              "      <td>NaN</td>\n",
              "      <td>6 phòng</td>\n",
              "      <td>51 m²</td>\n",
              "      <td>12.75 m</td>\n",
              "      <td>4 m</td>\n",
              "      <td>100 triệu/m²</td>\n",
              "    </tr>\n",
              "    <tr>\n",
              "      <th>4</th>\n",
              "      <td>4.0</td>\n",
              "      <td>2020-08-05</td>\n",
              "      <td>Đường Kim Giang, Phường Kim Giang, Quận Thanh ...</td>\n",
              "      <td>Quận Thanh Xuân</td>\n",
              "      <td>Phường Kim Giang</td>\n",
              "      <td>Nhà ngõ, hẻm</td>\n",
              "      <td>NaN</td>\n",
              "      <td>NaN</td>\n",
              "      <td>4 phòng</td>\n",
              "      <td>36 m²</td>\n",
              "      <td>9 m</td>\n",
              "      <td>4 m</td>\n",
              "      <td>86,11 triệu/m²</td>\n",
              "    </tr>\n",
              "  </tbody>\n",
              "</table>\n",
              "</div>\n",
              "    <div class=\"colab-df-buttons\">\n",
              "\n",
              "  <div class=\"colab-df-container\">\n",
              "    <button class=\"colab-df-convert\" onclick=\"convertToInteractive('df-a13075c6-c444-4882-8faf-3d0b3793d335')\"\n",
              "            title=\"Convert this dataframe to an interactive table.\"\n",
              "            style=\"display:none;\">\n",
              "\n",
              "  <svg xmlns=\"http://www.w3.org/2000/svg\" height=\"24px\" viewBox=\"0 -960 960 960\">\n",
              "    <path d=\"M120-120v-720h720v720H120Zm60-500h600v-160H180v160Zm220 220h160v-160H400v160Zm0 220h160v-160H400v160ZM180-400h160v-160H180v160Zm440 0h160v-160H620v160ZM180-180h160v-160H180v160Zm440 0h160v-160H620v160Z\"/>\n",
              "  </svg>\n",
              "    </button>\n",
              "\n",
              "  <style>\n",
              "    .colab-df-container {\n",
              "      display:flex;\n",
              "      gap: 12px;\n",
              "    }\n",
              "\n",
              "    .colab-df-convert {\n",
              "      background-color: #E8F0FE;\n",
              "      border: none;\n",
              "      border-radius: 50%;\n",
              "      cursor: pointer;\n",
              "      display: none;\n",
              "      fill: #1967D2;\n",
              "      height: 32px;\n",
              "      padding: 0 0 0 0;\n",
              "      width: 32px;\n",
              "    }\n",
              "\n",
              "    .colab-df-convert:hover {\n",
              "      background-color: #E2EBFA;\n",
              "      box-shadow: 0px 1px 2px rgba(60, 64, 67, 0.3), 0px 1px 3px 1px rgba(60, 64, 67, 0.15);\n",
              "      fill: #174EA6;\n",
              "    }\n",
              "\n",
              "    .colab-df-buttons div {\n",
              "      margin-bottom: 4px;\n",
              "    }\n",
              "\n",
              "    [theme=dark] .colab-df-convert {\n",
              "      background-color: #3B4455;\n",
              "      fill: #D2E3FC;\n",
              "    }\n",
              "\n",
              "    [theme=dark] .colab-df-convert:hover {\n",
              "      background-color: #434B5C;\n",
              "      box-shadow: 0px 1px 3px 1px rgba(0, 0, 0, 0.15);\n",
              "      filter: drop-shadow(0px 1px 2px rgba(0, 0, 0, 0.3));\n",
              "      fill: #FFFFFF;\n",
              "    }\n",
              "  </style>\n",
              "\n",
              "    <script>\n",
              "      const buttonEl =\n",
              "        document.querySelector('#df-a13075c6-c444-4882-8faf-3d0b3793d335 button.colab-df-convert');\n",
              "      buttonEl.style.display =\n",
              "        google.colab.kernel.accessAllowed ? 'block' : 'none';\n",
              "\n",
              "      async function convertToInteractive(key) {\n",
              "        const element = document.querySelector('#df-a13075c6-c444-4882-8faf-3d0b3793d335');\n",
              "        const dataTable =\n",
              "          await google.colab.kernel.invokeFunction('convertToInteractive',\n",
              "                                                    [key], {});\n",
              "        if (!dataTable) return;\n",
              "\n",
              "        const docLinkHtml = 'Like what you see? Visit the ' +\n",
              "          '<a target=\"_blank\" href=https://colab.research.google.com/notebooks/data_table.ipynb>data table notebook</a>'\n",
              "          + ' to learn more about interactive tables.';\n",
              "        element.innerHTML = '';\n",
              "        dataTable['output_type'] = 'display_data';\n",
              "        await google.colab.output.renderOutput(dataTable, element);\n",
              "        const docLink = document.createElement('div');\n",
              "        docLink.innerHTML = docLinkHtml;\n",
              "        element.appendChild(docLink);\n",
              "      }\n",
              "    </script>\n",
              "  </div>\n",
              "\n",
              "\n",
              "<div id=\"df-c3a64d04-4800-415a-aedc-526f3cce2f64\">\n",
              "  <button class=\"colab-df-quickchart\" onclick=\"quickchart('df-c3a64d04-4800-415a-aedc-526f3cce2f64')\"\n",
              "            title=\"Suggest charts.\"\n",
              "            style=\"display:none;\">\n",
              "\n",
              "<svg xmlns=\"http://www.w3.org/2000/svg\" height=\"24px\"viewBox=\"0 0 24 24\"\n",
              "     width=\"24px\">\n",
              "    <g>\n",
              "        <path d=\"M19 3H5c-1.1 0-2 .9-2 2v14c0 1.1.9 2 2 2h14c1.1 0 2-.9 2-2V5c0-1.1-.9-2-2-2zM9 17H7v-7h2v7zm4 0h-2V7h2v10zm4 0h-2v-4h2v4z\"/>\n",
              "    </g>\n",
              "</svg>\n",
              "  </button>\n",
              "\n",
              "<style>\n",
              "  .colab-df-quickchart {\n",
              "      --bg-color: #E8F0FE;\n",
              "      --fill-color: #1967D2;\n",
              "      --hover-bg-color: #E2EBFA;\n",
              "      --hover-fill-color: #174EA6;\n",
              "      --disabled-fill-color: #AAA;\n",
              "      --disabled-bg-color: #DDD;\n",
              "  }\n",
              "\n",
              "  [theme=dark] .colab-df-quickchart {\n",
              "      --bg-color: #3B4455;\n",
              "      --fill-color: #D2E3FC;\n",
              "      --hover-bg-color: #434B5C;\n",
              "      --hover-fill-color: #FFFFFF;\n",
              "      --disabled-bg-color: #3B4455;\n",
              "      --disabled-fill-color: #666;\n",
              "  }\n",
              "\n",
              "  .colab-df-quickchart {\n",
              "    background-color: var(--bg-color);\n",
              "    border: none;\n",
              "    border-radius: 50%;\n",
              "    cursor: pointer;\n",
              "    display: none;\n",
              "    fill: var(--fill-color);\n",
              "    height: 32px;\n",
              "    padding: 0;\n",
              "    width: 32px;\n",
              "  }\n",
              "\n",
              "  .colab-df-quickchart:hover {\n",
              "    background-color: var(--hover-bg-color);\n",
              "    box-shadow: 0 1px 2px rgba(60, 64, 67, 0.3), 0 1px 3px 1px rgba(60, 64, 67, 0.15);\n",
              "    fill: var(--button-hover-fill-color);\n",
              "  }\n",
              "\n",
              "  .colab-df-quickchart-complete:disabled,\n",
              "  .colab-df-quickchart-complete:disabled:hover {\n",
              "    background-color: var(--disabled-bg-color);\n",
              "    fill: var(--disabled-fill-color);\n",
              "    box-shadow: none;\n",
              "  }\n",
              "\n",
              "  .colab-df-spinner {\n",
              "    border: 2px solid var(--fill-color);\n",
              "    border-color: transparent;\n",
              "    border-bottom-color: var(--fill-color);\n",
              "    animation:\n",
              "      spin 1s steps(1) infinite;\n",
              "  }\n",
              "\n",
              "  @keyframes spin {\n",
              "    0% {\n",
              "      border-color: transparent;\n",
              "      border-bottom-color: var(--fill-color);\n",
              "      border-left-color: var(--fill-color);\n",
              "    }\n",
              "    20% {\n",
              "      border-color: transparent;\n",
              "      border-left-color: var(--fill-color);\n",
              "      border-top-color: var(--fill-color);\n",
              "    }\n",
              "    30% {\n",
              "      border-color: transparent;\n",
              "      border-left-color: var(--fill-color);\n",
              "      border-top-color: var(--fill-color);\n",
              "      border-right-color: var(--fill-color);\n",
              "    }\n",
              "    40% {\n",
              "      border-color: transparent;\n",
              "      border-right-color: var(--fill-color);\n",
              "      border-top-color: var(--fill-color);\n",
              "    }\n",
              "    60% {\n",
              "      border-color: transparent;\n",
              "      border-right-color: var(--fill-color);\n",
              "    }\n",
              "    80% {\n",
              "      border-color: transparent;\n",
              "      border-right-color: var(--fill-color);\n",
              "      border-bottom-color: var(--fill-color);\n",
              "    }\n",
              "    90% {\n",
              "      border-color: transparent;\n",
              "      border-bottom-color: var(--fill-color);\n",
              "    }\n",
              "  }\n",
              "</style>\n",
              "\n",
              "  <script>\n",
              "    async function quickchart(key) {\n",
              "      const quickchartButtonEl =\n",
              "        document.querySelector('#' + key + ' button');\n",
              "      quickchartButtonEl.disabled = true;  // To prevent multiple clicks.\n",
              "      quickchartButtonEl.classList.add('colab-df-spinner');\n",
              "      try {\n",
              "        const charts = await google.colab.kernel.invokeFunction(\n",
              "            'suggestCharts', [key], {});\n",
              "      } catch (error) {\n",
              "        console.error('Error during call to suggestCharts:', error);\n",
              "      }\n",
              "      quickchartButtonEl.classList.remove('colab-df-spinner');\n",
              "      quickchartButtonEl.classList.add('colab-df-quickchart-complete');\n",
              "    }\n",
              "    (() => {\n",
              "      let quickchartButtonEl =\n",
              "        document.querySelector('#df-c3a64d04-4800-415a-aedc-526f3cce2f64 button');\n",
              "      quickchartButtonEl.style.display =\n",
              "        google.colab.kernel.accessAllowed ? 'block' : 'none';\n",
              "    })();\n",
              "  </script>\n",
              "</div>\n",
              "    </div>\n",
              "  </div>\n"
            ]
          },
          "metadata": {},
          "execution_count": 15
        }
      ]
    },
    {
      "cell_type": "markdown",
      "source": [
        "### Filtering duplicates"
      ],
      "metadata": {
        "id": "kBGcCNJzFAsL"
      },
      "id": "kBGcCNJzFAsL"
    },
    {
      "cell_type": "code",
      "source": [
        "df[df.duplicated(keep=False)]"
      ],
      "metadata": {
        "colab": {
          "base_uri": "https://localhost:8080/",
          "height": 87
        },
        "id": "hTRSbe70FCpq",
        "outputId": "a2b6e983-1918-43dd-ac8b-2ce8b7539f73"
      },
      "id": "hTRSbe70FCpq",
      "execution_count": 8,
      "outputs": [
        {
          "output_type": "execute_result",
          "data": {
            "text/plain": [
              "Empty DataFrame\n",
              "Columns: [Unnamed: 0, date, address, district, ward, type_of_housing, legal_paper, num_floors, num_bed_rooms, squared_meter_area, length_meter, width_meter, price_in_million_per_square_meter]\n",
              "Index: []"
            ],
            "text/html": [
              "\n",
              "  <div id=\"df-46f1d37b-a6d8-49e7-a2ca-db89008508f2\" class=\"colab-df-container\">\n",
              "    <div>\n",
              "<style scoped>\n",
              "    .dataframe tbody tr th:only-of-type {\n",
              "        vertical-align: middle;\n",
              "    }\n",
              "\n",
              "    .dataframe tbody tr th {\n",
              "        vertical-align: top;\n",
              "    }\n",
              "\n",
              "    .dataframe thead th {\n",
              "        text-align: right;\n",
              "    }\n",
              "</style>\n",
              "<table border=\"1\" class=\"dataframe\">\n",
              "  <thead>\n",
              "    <tr style=\"text-align: right;\">\n",
              "      <th></th>\n",
              "      <th>Unnamed: 0</th>\n",
              "      <th>date</th>\n",
              "      <th>address</th>\n",
              "      <th>district</th>\n",
              "      <th>ward</th>\n",
              "      <th>type_of_housing</th>\n",
              "      <th>legal_paper</th>\n",
              "      <th>num_floors</th>\n",
              "      <th>num_bed_rooms</th>\n",
              "      <th>squared_meter_area</th>\n",
              "      <th>length_meter</th>\n",
              "      <th>width_meter</th>\n",
              "      <th>price_in_million_per_square_meter</th>\n",
              "    </tr>\n",
              "  </thead>\n",
              "  <tbody>\n",
              "  </tbody>\n",
              "</table>\n",
              "</div>\n",
              "    <div class=\"colab-df-buttons\">\n",
              "\n",
              "  <div class=\"colab-df-container\">\n",
              "    <button class=\"colab-df-convert\" onclick=\"convertToInteractive('df-46f1d37b-a6d8-49e7-a2ca-db89008508f2')\"\n",
              "            title=\"Convert this dataframe to an interactive table.\"\n",
              "            style=\"display:none;\">\n",
              "\n",
              "  <svg xmlns=\"http://www.w3.org/2000/svg\" height=\"24px\" viewBox=\"0 -960 960 960\">\n",
              "    <path d=\"M120-120v-720h720v720H120Zm60-500h600v-160H180v160Zm220 220h160v-160H400v160Zm0 220h160v-160H400v160ZM180-400h160v-160H180v160Zm440 0h160v-160H620v160ZM180-180h160v-160H180v160Zm440 0h160v-160H620v160Z\"/>\n",
              "  </svg>\n",
              "    </button>\n",
              "\n",
              "  <style>\n",
              "    .colab-df-container {\n",
              "      display:flex;\n",
              "      gap: 12px;\n",
              "    }\n",
              "\n",
              "    .colab-df-convert {\n",
              "      background-color: #E8F0FE;\n",
              "      border: none;\n",
              "      border-radius: 50%;\n",
              "      cursor: pointer;\n",
              "      display: none;\n",
              "      fill: #1967D2;\n",
              "      height: 32px;\n",
              "      padding: 0 0 0 0;\n",
              "      width: 32px;\n",
              "    }\n",
              "\n",
              "    .colab-df-convert:hover {\n",
              "      background-color: #E2EBFA;\n",
              "      box-shadow: 0px 1px 2px rgba(60, 64, 67, 0.3), 0px 1px 3px 1px rgba(60, 64, 67, 0.15);\n",
              "      fill: #174EA6;\n",
              "    }\n",
              "\n",
              "    .colab-df-buttons div {\n",
              "      margin-bottom: 4px;\n",
              "    }\n",
              "\n",
              "    [theme=dark] .colab-df-convert {\n",
              "      background-color: #3B4455;\n",
              "      fill: #D2E3FC;\n",
              "    }\n",
              "\n",
              "    [theme=dark] .colab-df-convert:hover {\n",
              "      background-color: #434B5C;\n",
              "      box-shadow: 0px 1px 3px 1px rgba(0, 0, 0, 0.15);\n",
              "      filter: drop-shadow(0px 1px 2px rgba(0, 0, 0, 0.3));\n",
              "      fill: #FFFFFF;\n",
              "    }\n",
              "  </style>\n",
              "\n",
              "    <script>\n",
              "      const buttonEl =\n",
              "        document.querySelector('#df-46f1d37b-a6d8-49e7-a2ca-db89008508f2 button.colab-df-convert');\n",
              "      buttonEl.style.display =\n",
              "        google.colab.kernel.accessAllowed ? 'block' : 'none';\n",
              "\n",
              "      async function convertToInteractive(key) {\n",
              "        const element = document.querySelector('#df-46f1d37b-a6d8-49e7-a2ca-db89008508f2');\n",
              "        const dataTable =\n",
              "          await google.colab.kernel.invokeFunction('convertToInteractive',\n",
              "                                                    [key], {});\n",
              "        if (!dataTable) return;\n",
              "\n",
              "        const docLinkHtml = 'Like what you see? Visit the ' +\n",
              "          '<a target=\"_blank\" href=https://colab.research.google.com/notebooks/data_table.ipynb>data table notebook</a>'\n",
              "          + ' to learn more about interactive tables.';\n",
              "        element.innerHTML = '';\n",
              "        dataTable['output_type'] = 'display_data';\n",
              "        await google.colab.output.renderOutput(dataTable, element);\n",
              "        const docLink = document.createElement('div');\n",
              "        docLink.innerHTML = docLinkHtml;\n",
              "        element.appendChild(docLink);\n",
              "      }\n",
              "    </script>\n",
              "  </div>\n",
              "\n",
              "    </div>\n",
              "  </div>\n"
            ]
          },
          "metadata": {},
          "execution_count": 8
        }
      ]
    },
    {
      "cell_type": "markdown",
      "source": [
        "There are no duplicate values in this data set"
      ],
      "metadata": {
        "id": "YyzRmch0Fx9w"
      },
      "id": "YyzRmch0Fx9w"
    },
    {
      "cell_type": "markdown",
      "source": [
        "### Filtering null values"
      ],
      "metadata": {
        "id": "kAiWP9uHjalm"
      },
      "id": "kAiWP9uHjalm"
    },
    {
      "cell_type": "markdown",
      "source": [
        "We can see that there are many NaN values in the data set. Therefore, we have to filter them out."
      ],
      "metadata": {
        "id": "Z7ljepsx_k7x"
      },
      "id": "Z7ljepsx_k7x"
    },
    {
      "cell_type": "code",
      "source": [
        "df = df.drop(\"Unnamed: 0\", axis = 1)\n",
        "df = df.dropna()\n",
        "df = df.reset_index()\n",
        "\n",
        "# The total records of the dataset after dropping null values\n",
        "print(\"The total records of the dataset are: \", str(len(df)), \"records.\")"
      ],
      "metadata": {
        "colab": {
          "base_uri": "https://localhost:8080/"
        },
        "id": "d12Noz1RjZZw",
        "outputId": "cd5351ee-503a-4910-937c-f97fac480d84"
      },
      "id": "d12Noz1RjZZw",
      "execution_count": 9,
      "outputs": [
        {
          "output_type": "stream",
          "name": "stdout",
          "text": [
            "The total records of the dataset are:  11473 records.\n"
          ]
        }
      ]
    },
    {
      "cell_type": "code",
      "source": [
        "df.head()"
      ],
      "metadata": {
        "colab": {
          "base_uri": "https://localhost:8080/",
          "height": 764
        },
        "id": "7ZE2j0KDjkvP",
        "outputId": "99c949fb-446d-454a-a2c0-b64437b9e1a6"
      },
      "id": "7ZE2j0KDjkvP",
      "execution_count": null,
      "outputs": [
        {
          "output_type": "execute_result",
          "data": {
            "text/plain": [
              "   index        date                                            address  \\\n",
              "0      2  2020-08-05  phố minh khai, Phường Minh Khai, Quận Hai Bà T...   \n",
              "1     15  2020-08-05  Đường Bồ Đề, Phường Bồ Đề, Quận Long Biên, Hà Nội   \n",
              "2     24  2020-08-04  Đường Tố Hữu, Phường La Khê, Quận Hà Đông, Hà Nội   \n",
              "3     29  2020-08-04  180/61/5, Đường Tây Mỗ, Phường Tây Mỗ, Quận Na...   \n",
              "4     34  2020-08-04  Đường Tả Thanh Oai, Xã Tả Thanh Oai, Huyện Tha...   \n",
              "\n",
              "            district              ward        type_of_housing legal_paper  \\\n",
              "0  Quận Hai Bà Trưng  Phường Minh Khai           Nhà ngõ, hẻm    Đã có sổ   \n",
              "1     Quận Long Biên      Phường Bồ Đề           Nhà ngõ, hẻm    Đã có sổ   \n",
              "2       Quận Hà Đông     Phường La Khê  Nhà mặt phố, mặt tiền    Đã có sổ   \n",
              "3   Quận Nam Từ Liêm     Phường Tây Mỗ           Nhà ngõ, hẻm    Đã có sổ   \n",
              "4    Huyện Thanh Trì   Xã Tả Thanh Oai           Nhà ngõ, hẻm    Đã có sổ   \n",
              "\n",
              "  num_floors num_bed_rooms squared_meter_area length_meter width_meter  \\\n",
              "0          4       4 phòng              40 m²         10 m         4 m   \n",
              "1          5       4 phòng              52 m²         12 m       4.2 m   \n",
              "2          5       5 phòng              90 m²         18 m         5 m   \n",
              "3          4       3 phòng              32 m²        6.6 m       4.5 m   \n",
              "4          3       2 phòng              42 m²         11 m         4 m   \n",
              "\n",
              "  price_in_million_per_square_meter  \n",
              "0                       65 triệu/m²  \n",
              "1                    93,27 triệu/m²  \n",
              "2                   108,89 triệu/m²  \n",
              "3                    60,94 triệu/m²  \n",
              "4                    29,76 triệu/m²  "
            ],
            "text/html": [
              "\n",
              "  <div id=\"df-7fcefe2f-d5a8-4414-84a7-e9f34b32ee2a\" class=\"colab-df-container\">\n",
              "    <div>\n",
              "<style scoped>\n",
              "    .dataframe tbody tr th:only-of-type {\n",
              "        vertical-align: middle;\n",
              "    }\n",
              "\n",
              "    .dataframe tbody tr th {\n",
              "        vertical-align: top;\n",
              "    }\n",
              "\n",
              "    .dataframe thead th {\n",
              "        text-align: right;\n",
              "    }\n",
              "</style>\n",
              "<table border=\"1\" class=\"dataframe\">\n",
              "  <thead>\n",
              "    <tr style=\"text-align: right;\">\n",
              "      <th></th>\n",
              "      <th>index</th>\n",
              "      <th>date</th>\n",
              "      <th>address</th>\n",
              "      <th>district</th>\n",
              "      <th>ward</th>\n",
              "      <th>type_of_housing</th>\n",
              "      <th>legal_paper</th>\n",
              "      <th>num_floors</th>\n",
              "      <th>num_bed_rooms</th>\n",
              "      <th>squared_meter_area</th>\n",
              "      <th>length_meter</th>\n",
              "      <th>width_meter</th>\n",
              "      <th>price_in_million_per_square_meter</th>\n",
              "    </tr>\n",
              "  </thead>\n",
              "  <tbody>\n",
              "    <tr>\n",
              "      <th>0</th>\n",
              "      <td>2</td>\n",
              "      <td>2020-08-05</td>\n",
              "      <td>phố minh khai, Phường Minh Khai, Quận Hai Bà T...</td>\n",
              "      <td>Quận Hai Bà Trưng</td>\n",
              "      <td>Phường Minh Khai</td>\n",
              "      <td>Nhà ngõ, hẻm</td>\n",
              "      <td>Đã có sổ</td>\n",
              "      <td>4</td>\n",
              "      <td>4 phòng</td>\n",
              "      <td>40 m²</td>\n",
              "      <td>10 m</td>\n",
              "      <td>4 m</td>\n",
              "      <td>65 triệu/m²</td>\n",
              "    </tr>\n",
              "    <tr>\n",
              "      <th>1</th>\n",
              "      <td>15</td>\n",
              "      <td>2020-08-05</td>\n",
              "      <td>Đường Bồ Đề, Phường Bồ Đề, Quận Long Biên, Hà Nội</td>\n",
              "      <td>Quận Long Biên</td>\n",
              "      <td>Phường Bồ Đề</td>\n",
              "      <td>Nhà ngõ, hẻm</td>\n",
              "      <td>Đã có sổ</td>\n",
              "      <td>5</td>\n",
              "      <td>4 phòng</td>\n",
              "      <td>52 m²</td>\n",
              "      <td>12 m</td>\n",
              "      <td>4.2 m</td>\n",
              "      <td>93,27 triệu/m²</td>\n",
              "    </tr>\n",
              "    <tr>\n",
              "      <th>2</th>\n",
              "      <td>24</td>\n",
              "      <td>2020-08-04</td>\n",
              "      <td>Đường Tố Hữu, Phường La Khê, Quận Hà Đông, Hà Nội</td>\n",
              "      <td>Quận Hà Đông</td>\n",
              "      <td>Phường La Khê</td>\n",
              "      <td>Nhà mặt phố, mặt tiền</td>\n",
              "      <td>Đã có sổ</td>\n",
              "      <td>5</td>\n",
              "      <td>5 phòng</td>\n",
              "      <td>90 m²</td>\n",
              "      <td>18 m</td>\n",
              "      <td>5 m</td>\n",
              "      <td>108,89 triệu/m²</td>\n",
              "    </tr>\n",
              "    <tr>\n",
              "      <th>3</th>\n",
              "      <td>29</td>\n",
              "      <td>2020-08-04</td>\n",
              "      <td>180/61/5, Đường Tây Mỗ, Phường Tây Mỗ, Quận Na...</td>\n",
              "      <td>Quận Nam Từ Liêm</td>\n",
              "      <td>Phường Tây Mỗ</td>\n",
              "      <td>Nhà ngõ, hẻm</td>\n",
              "      <td>Đã có sổ</td>\n",
              "      <td>4</td>\n",
              "      <td>3 phòng</td>\n",
              "      <td>32 m²</td>\n",
              "      <td>6.6 m</td>\n",
              "      <td>4.5 m</td>\n",
              "      <td>60,94 triệu/m²</td>\n",
              "    </tr>\n",
              "    <tr>\n",
              "      <th>4</th>\n",
              "      <td>34</td>\n",
              "      <td>2020-08-04</td>\n",
              "      <td>Đường Tả Thanh Oai, Xã Tả Thanh Oai, Huyện Tha...</td>\n",
              "      <td>Huyện Thanh Trì</td>\n",
              "      <td>Xã Tả Thanh Oai</td>\n",
              "      <td>Nhà ngõ, hẻm</td>\n",
              "      <td>Đã có sổ</td>\n",
              "      <td>3</td>\n",
              "      <td>2 phòng</td>\n",
              "      <td>42 m²</td>\n",
              "      <td>11 m</td>\n",
              "      <td>4 m</td>\n",
              "      <td>29,76 triệu/m²</td>\n",
              "    </tr>\n",
              "  </tbody>\n",
              "</table>\n",
              "</div>\n",
              "    <div class=\"colab-df-buttons\">\n",
              "\n",
              "  <div class=\"colab-df-container\">\n",
              "    <button class=\"colab-df-convert\" onclick=\"convertToInteractive('df-7fcefe2f-d5a8-4414-84a7-e9f34b32ee2a')\"\n",
              "            title=\"Convert this dataframe to an interactive table.\"\n",
              "            style=\"display:none;\">\n",
              "\n",
              "  <svg xmlns=\"http://www.w3.org/2000/svg\" height=\"24px\" viewBox=\"0 -960 960 960\">\n",
              "    <path d=\"M120-120v-720h720v720H120Zm60-500h600v-160H180v160Zm220 220h160v-160H400v160Zm0 220h160v-160H400v160ZM180-400h160v-160H180v160Zm440 0h160v-160H620v160ZM180-180h160v-160H180v160Zm440 0h160v-160H620v160Z\"/>\n",
              "  </svg>\n",
              "    </button>\n",
              "\n",
              "  <style>\n",
              "    .colab-df-container {\n",
              "      display:flex;\n",
              "      gap: 12px;\n",
              "    }\n",
              "\n",
              "    .colab-df-convert {\n",
              "      background-color: #E8F0FE;\n",
              "      border: none;\n",
              "      border-radius: 50%;\n",
              "      cursor: pointer;\n",
              "      display: none;\n",
              "      fill: #1967D2;\n",
              "      height: 32px;\n",
              "      padding: 0 0 0 0;\n",
              "      width: 32px;\n",
              "    }\n",
              "\n",
              "    .colab-df-convert:hover {\n",
              "      background-color: #E2EBFA;\n",
              "      box-shadow: 0px 1px 2px rgba(60, 64, 67, 0.3), 0px 1px 3px 1px rgba(60, 64, 67, 0.15);\n",
              "      fill: #174EA6;\n",
              "    }\n",
              "\n",
              "    .colab-df-buttons div {\n",
              "      margin-bottom: 4px;\n",
              "    }\n",
              "\n",
              "    [theme=dark] .colab-df-convert {\n",
              "      background-color: #3B4455;\n",
              "      fill: #D2E3FC;\n",
              "    }\n",
              "\n",
              "    [theme=dark] .colab-df-convert:hover {\n",
              "      background-color: #434B5C;\n",
              "      box-shadow: 0px 1px 3px 1px rgba(0, 0, 0, 0.15);\n",
              "      filter: drop-shadow(0px 1px 2px rgba(0, 0, 0, 0.3));\n",
              "      fill: #FFFFFF;\n",
              "    }\n",
              "  </style>\n",
              "\n",
              "    <script>\n",
              "      const buttonEl =\n",
              "        document.querySelector('#df-7fcefe2f-d5a8-4414-84a7-e9f34b32ee2a button.colab-df-convert');\n",
              "      buttonEl.style.display =\n",
              "        google.colab.kernel.accessAllowed ? 'block' : 'none';\n",
              "\n",
              "      async function convertToInteractive(key) {\n",
              "        const element = document.querySelector('#df-7fcefe2f-d5a8-4414-84a7-e9f34b32ee2a');\n",
              "        const dataTable =\n",
              "          await google.colab.kernel.invokeFunction('convertToInteractive',\n",
              "                                                    [key], {});\n",
              "        if (!dataTable) return;\n",
              "\n",
              "        const docLinkHtml = 'Like what you see? Visit the ' +\n",
              "          '<a target=\"_blank\" href=https://colab.research.google.com/notebooks/data_table.ipynb>data table notebook</a>'\n",
              "          + ' to learn more about interactive tables.';\n",
              "        element.innerHTML = '';\n",
              "        dataTable['output_type'] = 'display_data';\n",
              "        await google.colab.output.renderOutput(dataTable, element);\n",
              "        const docLink = document.createElement('div');\n",
              "        docLink.innerHTML = docLinkHtml;\n",
              "        element.appendChild(docLink);\n",
              "      }\n",
              "    </script>\n",
              "  </div>\n",
              "\n",
              "\n",
              "<div id=\"df-c73635c1-f356-4fd8-8a1d-26a62fca83ea\">\n",
              "  <button class=\"colab-df-quickchart\" onclick=\"quickchart('df-c73635c1-f356-4fd8-8a1d-26a62fca83ea')\"\n",
              "            title=\"Suggest charts.\"\n",
              "            style=\"display:none;\">\n",
              "\n",
              "<svg xmlns=\"http://www.w3.org/2000/svg\" height=\"24px\"viewBox=\"0 0 24 24\"\n",
              "     width=\"24px\">\n",
              "    <g>\n",
              "        <path d=\"M19 3H5c-1.1 0-2 .9-2 2v14c0 1.1.9 2 2 2h14c1.1 0 2-.9 2-2V5c0-1.1-.9-2-2-2zM9 17H7v-7h2v7zm4 0h-2V7h2v10zm4 0h-2v-4h2v4z\"/>\n",
              "    </g>\n",
              "</svg>\n",
              "  </button>\n",
              "\n",
              "<style>\n",
              "  .colab-df-quickchart {\n",
              "      --bg-color: #E8F0FE;\n",
              "      --fill-color: #1967D2;\n",
              "      --hover-bg-color: #E2EBFA;\n",
              "      --hover-fill-color: #174EA6;\n",
              "      --disabled-fill-color: #AAA;\n",
              "      --disabled-bg-color: #DDD;\n",
              "  }\n",
              "\n",
              "  [theme=dark] .colab-df-quickchart {\n",
              "      --bg-color: #3B4455;\n",
              "      --fill-color: #D2E3FC;\n",
              "      --hover-bg-color: #434B5C;\n",
              "      --hover-fill-color: #FFFFFF;\n",
              "      --disabled-bg-color: #3B4455;\n",
              "      --disabled-fill-color: #666;\n",
              "  }\n",
              "\n",
              "  .colab-df-quickchart {\n",
              "    background-color: var(--bg-color);\n",
              "    border: none;\n",
              "    border-radius: 50%;\n",
              "    cursor: pointer;\n",
              "    display: none;\n",
              "    fill: var(--fill-color);\n",
              "    height: 32px;\n",
              "    padding: 0;\n",
              "    width: 32px;\n",
              "  }\n",
              "\n",
              "  .colab-df-quickchart:hover {\n",
              "    background-color: var(--hover-bg-color);\n",
              "    box-shadow: 0 1px 2px rgba(60, 64, 67, 0.3), 0 1px 3px 1px rgba(60, 64, 67, 0.15);\n",
              "    fill: var(--button-hover-fill-color);\n",
              "  }\n",
              "\n",
              "  .colab-df-quickchart-complete:disabled,\n",
              "  .colab-df-quickchart-complete:disabled:hover {\n",
              "    background-color: var(--disabled-bg-color);\n",
              "    fill: var(--disabled-fill-color);\n",
              "    box-shadow: none;\n",
              "  }\n",
              "\n",
              "  .colab-df-spinner {\n",
              "    border: 2px solid var(--fill-color);\n",
              "    border-color: transparent;\n",
              "    border-bottom-color: var(--fill-color);\n",
              "    animation:\n",
              "      spin 1s steps(1) infinite;\n",
              "  }\n",
              "\n",
              "  @keyframes spin {\n",
              "    0% {\n",
              "      border-color: transparent;\n",
              "      border-bottom-color: var(--fill-color);\n",
              "      border-left-color: var(--fill-color);\n",
              "    }\n",
              "    20% {\n",
              "      border-color: transparent;\n",
              "      border-left-color: var(--fill-color);\n",
              "      border-top-color: var(--fill-color);\n",
              "    }\n",
              "    30% {\n",
              "      border-color: transparent;\n",
              "      border-left-color: var(--fill-color);\n",
              "      border-top-color: var(--fill-color);\n",
              "      border-right-color: var(--fill-color);\n",
              "    }\n",
              "    40% {\n",
              "      border-color: transparent;\n",
              "      border-right-color: var(--fill-color);\n",
              "      border-top-color: var(--fill-color);\n",
              "    }\n",
              "    60% {\n",
              "      border-color: transparent;\n",
              "      border-right-color: var(--fill-color);\n",
              "    }\n",
              "    80% {\n",
              "      border-color: transparent;\n",
              "      border-right-color: var(--fill-color);\n",
              "      border-bottom-color: var(--fill-color);\n",
              "    }\n",
              "    90% {\n",
              "      border-color: transparent;\n",
              "      border-bottom-color: var(--fill-color);\n",
              "    }\n",
              "  }\n",
              "</style>\n",
              "\n",
              "  <script>\n",
              "    async function quickchart(key) {\n",
              "      const quickchartButtonEl =\n",
              "        document.querySelector('#' + key + ' button');\n",
              "      quickchartButtonEl.disabled = true;  // To prevent multiple clicks.\n",
              "      quickchartButtonEl.classList.add('colab-df-spinner');\n",
              "      try {\n",
              "        const charts = await google.colab.kernel.invokeFunction(\n",
              "            'suggestCharts', [key], {});\n",
              "      } catch (error) {\n",
              "        console.error('Error during call to suggestCharts:', error);\n",
              "      }\n",
              "      quickchartButtonEl.classList.remove('colab-df-spinner');\n",
              "      quickchartButtonEl.classList.add('colab-df-quickchart-complete');\n",
              "    }\n",
              "    (() => {\n",
              "      let quickchartButtonEl =\n",
              "        document.querySelector('#df-c73635c1-f356-4fd8-8a1d-26a62fca83ea button');\n",
              "      quickchartButtonEl.style.display =\n",
              "        google.colab.kernel.accessAllowed ? 'block' : 'none';\n",
              "    })();\n",
              "  </script>\n",
              "</div>\n",
              "    </div>\n",
              "  </div>\n"
            ]
          },
          "metadata": {},
          "execution_count": 18
        }
      ]
    },
    {
      "cell_type": "markdown",
      "id": "70ab1523",
      "metadata": {
        "papermill": {
          "duration": 0.024167,
          "end_time": "2022-03-21T23:13:53.215678",
          "exception": false,
          "start_time": "2022-03-21T23:13:53.191511",
          "status": "completed"
        },
        "tags": [],
        "id": "70ab1523"
      },
      "source": [
        "### Cleaning data within each columns"
      ]
    },
    {
      "cell_type": "markdown",
      "source": [
        "Removing houses with \"Nhiều hơn 10\" `num_floors` and \"nhiều hơn 10 phòng\" `num_bed_rooms` because this cannot be exactly quantified"
      ],
      "metadata": {
        "id": "zJF3TL2BAA0D"
      },
      "id": "zJF3TL2BAA0D"
    },
    {
      "cell_type": "code",
      "execution_count": 10,
      "id": "6ad8bd4d",
      "metadata": {
        "execution": {
          "iopub.execute_input": "2022-03-21T23:13:53.282681Z",
          "iopub.status.busy": "2022-03-21T23:13:53.281931Z",
          "iopub.status.idle": "2022-03-21T23:13:53.520523Z",
          "shell.execute_reply": "2022-03-21T23:13:53.519895Z",
          "shell.execute_reply.started": "2022-03-21T15:03:24.077549Z"
        },
        "papermill": {
          "duration": 0.28041,
          "end_time": "2022-03-21T23:13:53.520668",
          "exception": false,
          "start_time": "2022-03-21T23:13:53.240258",
          "status": "completed"
        },
        "tags": [],
        "id": "6ad8bd4d"
      },
      "outputs": [],
      "source": [
        "df = df[df['num_floors'] != 'Nhiều hơn 10']\n",
        "df = df[df['num_bed_rooms'] != 'nhiều hơn 10 phòng']"
      ]
    },
    {
      "cell_type": "markdown",
      "source": [
        "Clean columns and convert numerical columns to float type for further computation"
      ],
      "metadata": {
        "id": "TxLDsmJNBzGH"
      },
      "id": "TxLDsmJNBzGH"
    },
    {
      "cell_type": "code",
      "source": [
        "df['district'] = df['district'].str.replace('Quận ','').str.strip()\n",
        "df['ward'] = df['ward'].str.replace('Phường ','').str.strip()\n",
        "df['num_floors'] = df['num_floors'].str.strip().astype(float)\n",
        "df['num_bed_rooms'] = df['num_bed_rooms'].str.replace(' phòng','').str.strip().astype(float)\n",
        "df['squared_meter_area'] = df['squared_meter_area'].str.replace(' m²','').str.strip().astype(float)\n",
        "df['length_meter'] = df['length_meter'].str.replace(' m','').str.strip().astype(float)\n",
        "df['width_meter'] = df['width_meter'].str.replace(' m','').str.strip().astype(float)"
      ],
      "metadata": {
        "id": "zeiSSi4t_6Ju"
      },
      "id": "zeiSSi4t_6Ju",
      "execution_count": 11,
      "outputs": []
    },
    {
      "cell_type": "code",
      "source": [
        "df[[\"num_floors\", \"num_bed_rooms\", \"squared_meter_area\", \"length_meter\", \"width_meter\"]]"
      ],
      "metadata": {
        "colab": {
          "base_uri": "https://localhost:8080/",
          "height": 423
        },
        "id": "cE8kvlKlB8Hw",
        "outputId": "8f497360-b3ce-42e4-9e00-051f9ab2b2d8"
      },
      "id": "cE8kvlKlB8Hw",
      "execution_count": null,
      "outputs": [
        {
          "output_type": "execute_result",
          "data": {
            "text/plain": [
              "       num_floors  num_bed_rooms  squared_meter_area  length_meter  \\\n",
              "0             4.0            4.0                40.0          10.0   \n",
              "1             5.0            4.0                52.0          12.0   \n",
              "2             5.0            5.0                90.0          18.0   \n",
              "3             4.0            3.0                32.0           6.6   \n",
              "4             3.0            2.0                42.0          11.0   \n",
              "...           ...            ...                 ...           ...   \n",
              "11467         6.0            6.0                65.0          13.0   \n",
              "11468         2.0            2.0                37.0          13.0   \n",
              "11470         5.0            4.0                80.0          14.0   \n",
              "11471         3.0            5.0                89.0          20.0   \n",
              "11472         4.0            4.0                90.0          20.0   \n",
              "\n",
              "       width_meter  \n",
              "0              4.0  \n",
              "1              4.2  \n",
              "2              5.0  \n",
              "3              4.5  \n",
              "4              4.0  \n",
              "...            ...  \n",
              "11467          5.0  \n",
              "11468          3.0  \n",
              "11470          5.0  \n",
              "11471          4.0  \n",
              "11472          4.0  \n",
              "\n",
              "[11313 rows x 5 columns]"
            ],
            "text/html": [
              "\n",
              "  <div id=\"df-1b2f5d2a-e4ef-4bfa-9590-dea61ce422f8\" class=\"colab-df-container\">\n",
              "    <div>\n",
              "<style scoped>\n",
              "    .dataframe tbody tr th:only-of-type {\n",
              "        vertical-align: middle;\n",
              "    }\n",
              "\n",
              "    .dataframe tbody tr th {\n",
              "        vertical-align: top;\n",
              "    }\n",
              "\n",
              "    .dataframe thead th {\n",
              "        text-align: right;\n",
              "    }\n",
              "</style>\n",
              "<table border=\"1\" class=\"dataframe\">\n",
              "  <thead>\n",
              "    <tr style=\"text-align: right;\">\n",
              "      <th></th>\n",
              "      <th>num_floors</th>\n",
              "      <th>num_bed_rooms</th>\n",
              "      <th>squared_meter_area</th>\n",
              "      <th>length_meter</th>\n",
              "      <th>width_meter</th>\n",
              "    </tr>\n",
              "  </thead>\n",
              "  <tbody>\n",
              "    <tr>\n",
              "      <th>0</th>\n",
              "      <td>4.0</td>\n",
              "      <td>4.0</td>\n",
              "      <td>40.0</td>\n",
              "      <td>10.0</td>\n",
              "      <td>4.0</td>\n",
              "    </tr>\n",
              "    <tr>\n",
              "      <th>1</th>\n",
              "      <td>5.0</td>\n",
              "      <td>4.0</td>\n",
              "      <td>52.0</td>\n",
              "      <td>12.0</td>\n",
              "      <td>4.2</td>\n",
              "    </tr>\n",
              "    <tr>\n",
              "      <th>2</th>\n",
              "      <td>5.0</td>\n",
              "      <td>5.0</td>\n",
              "      <td>90.0</td>\n",
              "      <td>18.0</td>\n",
              "      <td>5.0</td>\n",
              "    </tr>\n",
              "    <tr>\n",
              "      <th>3</th>\n",
              "      <td>4.0</td>\n",
              "      <td>3.0</td>\n",
              "      <td>32.0</td>\n",
              "      <td>6.6</td>\n",
              "      <td>4.5</td>\n",
              "    </tr>\n",
              "    <tr>\n",
              "      <th>4</th>\n",
              "      <td>3.0</td>\n",
              "      <td>2.0</td>\n",
              "      <td>42.0</td>\n",
              "      <td>11.0</td>\n",
              "      <td>4.0</td>\n",
              "    </tr>\n",
              "    <tr>\n",
              "      <th>...</th>\n",
              "      <td>...</td>\n",
              "      <td>...</td>\n",
              "      <td>...</td>\n",
              "      <td>...</td>\n",
              "      <td>...</td>\n",
              "    </tr>\n",
              "    <tr>\n",
              "      <th>11467</th>\n",
              "      <td>6.0</td>\n",
              "      <td>6.0</td>\n",
              "      <td>65.0</td>\n",
              "      <td>13.0</td>\n",
              "      <td>5.0</td>\n",
              "    </tr>\n",
              "    <tr>\n",
              "      <th>11468</th>\n",
              "      <td>2.0</td>\n",
              "      <td>2.0</td>\n",
              "      <td>37.0</td>\n",
              "      <td>13.0</td>\n",
              "      <td>3.0</td>\n",
              "    </tr>\n",
              "    <tr>\n",
              "      <th>11470</th>\n",
              "      <td>5.0</td>\n",
              "      <td>4.0</td>\n",
              "      <td>80.0</td>\n",
              "      <td>14.0</td>\n",
              "      <td>5.0</td>\n",
              "    </tr>\n",
              "    <tr>\n",
              "      <th>11471</th>\n",
              "      <td>3.0</td>\n",
              "      <td>5.0</td>\n",
              "      <td>89.0</td>\n",
              "      <td>20.0</td>\n",
              "      <td>4.0</td>\n",
              "    </tr>\n",
              "    <tr>\n",
              "      <th>11472</th>\n",
              "      <td>4.0</td>\n",
              "      <td>4.0</td>\n",
              "      <td>90.0</td>\n",
              "      <td>20.0</td>\n",
              "      <td>4.0</td>\n",
              "    </tr>\n",
              "  </tbody>\n",
              "</table>\n",
              "<p>11313 rows × 5 columns</p>\n",
              "</div>\n",
              "    <div class=\"colab-df-buttons\">\n",
              "\n",
              "  <div class=\"colab-df-container\">\n",
              "    <button class=\"colab-df-convert\" onclick=\"convertToInteractive('df-1b2f5d2a-e4ef-4bfa-9590-dea61ce422f8')\"\n",
              "            title=\"Convert this dataframe to an interactive table.\"\n",
              "            style=\"display:none;\">\n",
              "\n",
              "  <svg xmlns=\"http://www.w3.org/2000/svg\" height=\"24px\" viewBox=\"0 -960 960 960\">\n",
              "    <path d=\"M120-120v-720h720v720H120Zm60-500h600v-160H180v160Zm220 220h160v-160H400v160Zm0 220h160v-160H400v160ZM180-400h160v-160H180v160Zm440 0h160v-160H620v160ZM180-180h160v-160H180v160Zm440 0h160v-160H620v160Z\"/>\n",
              "  </svg>\n",
              "    </button>\n",
              "\n",
              "  <style>\n",
              "    .colab-df-container {\n",
              "      display:flex;\n",
              "      gap: 12px;\n",
              "    }\n",
              "\n",
              "    .colab-df-convert {\n",
              "      background-color: #E8F0FE;\n",
              "      border: none;\n",
              "      border-radius: 50%;\n",
              "      cursor: pointer;\n",
              "      display: none;\n",
              "      fill: #1967D2;\n",
              "      height: 32px;\n",
              "      padding: 0 0 0 0;\n",
              "      width: 32px;\n",
              "    }\n",
              "\n",
              "    .colab-df-convert:hover {\n",
              "      background-color: #E2EBFA;\n",
              "      box-shadow: 0px 1px 2px rgba(60, 64, 67, 0.3), 0px 1px 3px 1px rgba(60, 64, 67, 0.15);\n",
              "      fill: #174EA6;\n",
              "    }\n",
              "\n",
              "    .colab-df-buttons div {\n",
              "      margin-bottom: 4px;\n",
              "    }\n",
              "\n",
              "    [theme=dark] .colab-df-convert {\n",
              "      background-color: #3B4455;\n",
              "      fill: #D2E3FC;\n",
              "    }\n",
              "\n",
              "    [theme=dark] .colab-df-convert:hover {\n",
              "      background-color: #434B5C;\n",
              "      box-shadow: 0px 1px 3px 1px rgba(0, 0, 0, 0.15);\n",
              "      filter: drop-shadow(0px 1px 2px rgba(0, 0, 0, 0.3));\n",
              "      fill: #FFFFFF;\n",
              "    }\n",
              "  </style>\n",
              "\n",
              "    <script>\n",
              "      const buttonEl =\n",
              "        document.querySelector('#df-1b2f5d2a-e4ef-4bfa-9590-dea61ce422f8 button.colab-df-convert');\n",
              "      buttonEl.style.display =\n",
              "        google.colab.kernel.accessAllowed ? 'block' : 'none';\n",
              "\n",
              "      async function convertToInteractive(key) {\n",
              "        const element = document.querySelector('#df-1b2f5d2a-e4ef-4bfa-9590-dea61ce422f8');\n",
              "        const dataTable =\n",
              "          await google.colab.kernel.invokeFunction('convertToInteractive',\n",
              "                                                    [key], {});\n",
              "        if (!dataTable) return;\n",
              "\n",
              "        const docLinkHtml = 'Like what you see? Visit the ' +\n",
              "          '<a target=\"_blank\" href=https://colab.research.google.com/notebooks/data_table.ipynb>data table notebook</a>'\n",
              "          + ' to learn more about interactive tables.';\n",
              "        element.innerHTML = '';\n",
              "        dataTable['output_type'] = 'display_data';\n",
              "        await google.colab.output.renderOutput(dataTable, element);\n",
              "        const docLink = document.createElement('div');\n",
              "        docLink.innerHTML = docLinkHtml;\n",
              "        element.appendChild(docLink);\n",
              "      }\n",
              "    </script>\n",
              "  </div>\n",
              "\n",
              "\n",
              "<div id=\"df-cc958c6a-9def-4a3b-a8b2-ad4e99adcdff\">\n",
              "  <button class=\"colab-df-quickchart\" onclick=\"quickchart('df-cc958c6a-9def-4a3b-a8b2-ad4e99adcdff')\"\n",
              "            title=\"Suggest charts.\"\n",
              "            style=\"display:none;\">\n",
              "\n",
              "<svg xmlns=\"http://www.w3.org/2000/svg\" height=\"24px\"viewBox=\"0 0 24 24\"\n",
              "     width=\"24px\">\n",
              "    <g>\n",
              "        <path d=\"M19 3H5c-1.1 0-2 .9-2 2v14c0 1.1.9 2 2 2h14c1.1 0 2-.9 2-2V5c0-1.1-.9-2-2-2zM9 17H7v-7h2v7zm4 0h-2V7h2v10zm4 0h-2v-4h2v4z\"/>\n",
              "    </g>\n",
              "</svg>\n",
              "  </button>\n",
              "\n",
              "<style>\n",
              "  .colab-df-quickchart {\n",
              "      --bg-color: #E8F0FE;\n",
              "      --fill-color: #1967D2;\n",
              "      --hover-bg-color: #E2EBFA;\n",
              "      --hover-fill-color: #174EA6;\n",
              "      --disabled-fill-color: #AAA;\n",
              "      --disabled-bg-color: #DDD;\n",
              "  }\n",
              "\n",
              "  [theme=dark] .colab-df-quickchart {\n",
              "      --bg-color: #3B4455;\n",
              "      --fill-color: #D2E3FC;\n",
              "      --hover-bg-color: #434B5C;\n",
              "      --hover-fill-color: #FFFFFF;\n",
              "      --disabled-bg-color: #3B4455;\n",
              "      --disabled-fill-color: #666;\n",
              "  }\n",
              "\n",
              "  .colab-df-quickchart {\n",
              "    background-color: var(--bg-color);\n",
              "    border: none;\n",
              "    border-radius: 50%;\n",
              "    cursor: pointer;\n",
              "    display: none;\n",
              "    fill: var(--fill-color);\n",
              "    height: 32px;\n",
              "    padding: 0;\n",
              "    width: 32px;\n",
              "  }\n",
              "\n",
              "  .colab-df-quickchart:hover {\n",
              "    background-color: var(--hover-bg-color);\n",
              "    box-shadow: 0 1px 2px rgba(60, 64, 67, 0.3), 0 1px 3px 1px rgba(60, 64, 67, 0.15);\n",
              "    fill: var(--button-hover-fill-color);\n",
              "  }\n",
              "\n",
              "  .colab-df-quickchart-complete:disabled,\n",
              "  .colab-df-quickchart-complete:disabled:hover {\n",
              "    background-color: var(--disabled-bg-color);\n",
              "    fill: var(--disabled-fill-color);\n",
              "    box-shadow: none;\n",
              "  }\n",
              "\n",
              "  .colab-df-spinner {\n",
              "    border: 2px solid var(--fill-color);\n",
              "    border-color: transparent;\n",
              "    border-bottom-color: var(--fill-color);\n",
              "    animation:\n",
              "      spin 1s steps(1) infinite;\n",
              "  }\n",
              "\n",
              "  @keyframes spin {\n",
              "    0% {\n",
              "      border-color: transparent;\n",
              "      border-bottom-color: var(--fill-color);\n",
              "      border-left-color: var(--fill-color);\n",
              "    }\n",
              "    20% {\n",
              "      border-color: transparent;\n",
              "      border-left-color: var(--fill-color);\n",
              "      border-top-color: var(--fill-color);\n",
              "    }\n",
              "    30% {\n",
              "      border-color: transparent;\n",
              "      border-left-color: var(--fill-color);\n",
              "      border-top-color: var(--fill-color);\n",
              "      border-right-color: var(--fill-color);\n",
              "    }\n",
              "    40% {\n",
              "      border-color: transparent;\n",
              "      border-right-color: var(--fill-color);\n",
              "      border-top-color: var(--fill-color);\n",
              "    }\n",
              "    60% {\n",
              "      border-color: transparent;\n",
              "      border-right-color: var(--fill-color);\n",
              "    }\n",
              "    80% {\n",
              "      border-color: transparent;\n",
              "      border-right-color: var(--fill-color);\n",
              "      border-bottom-color: var(--fill-color);\n",
              "    }\n",
              "    90% {\n",
              "      border-color: transparent;\n",
              "      border-bottom-color: var(--fill-color);\n",
              "    }\n",
              "  }\n",
              "</style>\n",
              "\n",
              "  <script>\n",
              "    async function quickchart(key) {\n",
              "      const quickchartButtonEl =\n",
              "        document.querySelector('#' + key + ' button');\n",
              "      quickchartButtonEl.disabled = true;  // To prevent multiple clicks.\n",
              "      quickchartButtonEl.classList.add('colab-df-spinner');\n",
              "      try {\n",
              "        const charts = await google.colab.kernel.invokeFunction(\n",
              "            'suggestCharts', [key], {});\n",
              "      } catch (error) {\n",
              "        console.error('Error during call to suggestCharts:', error);\n",
              "      }\n",
              "      quickchartButtonEl.classList.remove('colab-df-spinner');\n",
              "      quickchartButtonEl.classList.add('colab-df-quickchart-complete');\n",
              "    }\n",
              "    (() => {\n",
              "      let quickchartButtonEl =\n",
              "        document.querySelector('#df-cc958c6a-9def-4a3b-a8b2-ad4e99adcdff button');\n",
              "      quickchartButtonEl.style.display =\n",
              "        google.colab.kernel.accessAllowed ? 'block' : 'none';\n",
              "    })();\n",
              "  </script>\n",
              "</div>\n",
              "    </div>\n",
              "  </div>\n"
            ]
          },
          "metadata": {},
          "execution_count": 21
        }
      ]
    },
    {
      "cell_type": "code",
      "source": [
        "x = df['squared_meter_area']\n",
        "plt.hist(x, edgecolor='black', color='red', bins=np.arange(0, 150+1))\n",
        "plt.xlabel(\"Square meter (m2)\")"
      ],
      "metadata": {
        "colab": {
          "base_uri": "https://localhost:8080/",
          "height": 467
        },
        "id": "kP3nGgneVXIc",
        "outputId": "6f4299b6-0fe4-4578-a51f-c41c15c536fc"
      },
      "id": "kP3nGgneVXIc",
      "execution_count": null,
      "outputs": [
        {
          "output_type": "execute_result",
          "data": {
            "text/plain": [
              "Text(0.5, 0, 'Square meter (m2)')"
            ]
          },
          "metadata": {},
          "execution_count": 57
        },
        {
          "output_type": "display_data",
          "data": {
            "text/plain": [
              "<Figure size 640x480 with 1 Axes>"
            ],
            "image/png": "[encoded data removed]"
          },
          "metadata": {}
        }
      ]
    },
    {
      "cell_type": "markdown",
      "source": [
        "Based on the information above, most of the records have their area fall in 30 to 60 square meters (m2)"
      ],
      "metadata": {
        "id": "4cvTavOSVsU0"
      },
      "id": "4cvTavOSVsU0"
    },
    {
      "cell_type": "markdown",
      "source": [
        "Clean and convert all prices to million/m2 instead of VND/m2 or billion/m2"
      ],
      "metadata": {
        "id": "4NiQoL4UCPXq"
      },
      "id": "4NiQoL4UCPXq"
    },
    {
      "cell_type": "code",
      "source": [
        "df.groupby('price_in_million_per_square_meter').count()['date']"
      ],
      "metadata": {
        "colab": {
          "base_uri": "https://localhost:8080/"
        },
        "id": "XKzmjU6wCi4-",
        "outputId": "1e4ba07b-90ae-4ec7-cf20-a48c73b19a8c"
      },
      "id": "XKzmjU6wCi4-",
      "execution_count": null,
      "outputs": [
        {
          "output_type": "execute_result",
          "data": {
            "text/plain": [
              "price_in_million_per_square_meter\n",
              "1 triệu/m²           1\n",
              "1 tỷ/m²              2\n",
              "1,03 triệu/m²        1\n",
              "1,033333333 tỷ/m²    1\n",
              "1,05 triệu/m²        1\n",
              "                    ..\n",
              "99,75 triệu/m²       1\n",
              "99,8 triệu/m²        1\n",
              "99,83 triệu/m²       2\n",
              "99,9 triệu/m²        1\n",
              "99.415 đ/m²          1\n",
              "Name: date, Length: 3174, dtype: int64"
            ]
          },
          "metadata": {},
          "execution_count": 23
        }
      ]
    },
    {
      "cell_type": "code",
      "source": [
        "df.loc[df['price_in_million_per_square_meter'].str.contains(' tỷ/m²'), 'price_in_million_per_square_meter'] = df.loc[df['price_in_million_per_square_meter'].str.contains(' tỷ/m²'), 'price_in_million_per_square_meter'].str.replace(' tỷ/m²','').str.replace('.','').str.replace(',','.').astype(float) * 1000\n",
        "df.loc[df['price_in_million_per_square_meter'].str.contains(' triệu/m²', na=False), 'price_in_million_per_square_meter'] = df.loc[df['price_in_million_per_square_meter'].str.contains(' triệu/m²', na=False), 'price_in_million_per_square_meter'].str.replace(' triệu/m²','').str.replace(',','.').astype(float)\n",
        "df.loc[df['price_in_million_per_square_meter'].str.contains(' đ/m²', na=False), 'price_in_million_per_square_meter'] = df.loc[df['price_in_million_per_square_meter'].str.contains(' đ/m²', na=False), 'price_in_million_per_square_meter'].str.replace(' đ/m²','').str.replace('.','').astype(float) * 0.000001"
      ],
      "metadata": {
        "id": "LqbRd828_9IH"
      },
      "id": "LqbRd828_9IH",
      "execution_count": 12,
      "outputs": []
    },
    {
      "cell_type": "code",
      "source": [
        "x = df['price_in_million_per_square_meter'].value_counts()\n",
        "plt.bar(x.keys(), x);\n",
        "plt.xlabel(\"Price in Million VND per m2\")\n",
        "plt.xlim([0, 300]);"
      ],
      "metadata": {
        "colab": {
          "base_uri": "https://localhost:8080/",
          "height": 449
        },
        "id": "K5M5cNEOV86S",
        "outputId": "3083184b-bbc1-4310-859f-09ee0d695023"
      },
      "id": "K5M5cNEOV86S",
      "execution_count": null,
      "outputs": [
        {
          "output_type": "display_data",
          "data": {
            "text/plain": [
              "<Figure size 640x480 with 1 Axes>"
            ],
            "image/png": "[encoded data removed]"
          },
          "metadata": {}
        }
      ]
    },
    {
      "cell_type": "markdown",
      "source": [
        "According to the graph, most of the prices of the records fall into the range from 50 to 100 Million VND per m2, especially more than 300 houses that have the price of 100 Million VND/m2. It can be inferred that houses in Hanoi are pretty expensive compared to other cities."
      ],
      "metadata": {
        "id": "Dunue9KjXecO"
      },
      "id": "Dunue9KjXecO"
    },
    {
      "cell_type": "markdown",
      "source": [
        "Is price affected by `type_of_housing`?"
      ],
      "metadata": {
        "id": "rJShao4ZxgFo"
      },
      "id": "rJShao4ZxgFo"
    },
    {
      "cell_type": "code",
      "source": [
        "x = df['price_in_million_per_square_meter'].sort_values(ascending=False)[:100]\n",
        "x = df['type_of_housing'][x.index].value_counts()\n",
        "plt.barh(x.keys(), x);"
      ],
      "metadata": {
        "colab": {
          "base_uri": "https://localhost:8080/",
          "height": 430
        },
        "id": "Nt4MPvxktlD6",
        "outputId": "ffd0b4b0-fe28-4178-d866-357b647281e5"
      },
      "id": "Nt4MPvxktlD6",
      "execution_count": null,
      "outputs": [
        {
          "output_type": "display_data",
          "data": {
            "text/plain": [
              "<Figure size 640x480 with 1 Axes>"
            ],
            "image/png": "[encoded data removed]"
          },
          "metadata": {}
        }
      ]
    },
    {
      "cell_type": "markdown",
      "source": [
        "Is price affected by `legal paper`?"
      ],
      "metadata": {
        "id": "UxkR0jVYxYav"
      },
      "id": "UxkR0jVYxYav"
    },
    {
      "cell_type": "code",
      "source": [
        "x = df['price_in_million_per_square_meter'].sort_values(ascending=False)[:100]\n",
        "x = df['legal_paper'][x.index].value_counts()\n",
        "plt.barh(x.keys(), x);"
      ],
      "metadata": {
        "colab": {
          "base_uri": "https://localhost:8080/",
          "height": 430
        },
        "id": "omw1C-hguHVM",
        "outputId": "123d8071-dcfb-4951-98bd-53924cfd0a37"
      },
      "id": "omw1C-hguHVM",
      "execution_count": null,
      "outputs": [
        {
          "output_type": "display_data",
          "data": {
            "text/plain": [
              "<Figure size 640x480 with 1 Axes>"
            ],
            "image/png": "[encoded data removed]"
          },
          "metadata": {}
        }
      ]
    },
    {
      "cell_type": "code",
      "source": [
        "df[['address', 'district', 'price_in_million_per_square_meter']]"
      ],
      "metadata": {
        "colab": {
          "base_uri": "https://localhost:8080/",
          "height": 423
        },
        "id": "tgMffExIDQdX",
        "outputId": "63ad8195-4537-4de5-e0f4-37cacf41b598"
      },
      "id": "tgMffExIDQdX",
      "execution_count": null,
      "outputs": [
        {
          "output_type": "execute_result",
          "data": {
            "text/plain": [
              "                                                 address         district  \\\n",
              "0      phố minh khai, Phường Minh Khai, Quận Hai Bà T...     Hai Bà Trưng   \n",
              "1      Đường Bồ Đề, Phường Bồ Đề, Quận Long Biên, Hà Nội        Long Biên   \n",
              "2      Đường Tố Hữu, Phường La Khê, Quận Hà Đông, Hà Nội          Hà Đông   \n",
              "3      180/61/5, Đường Tây Mỗ, Phường Tây Mỗ, Quận Na...      Nam Từ Liêm   \n",
              "4      Đường Tả Thanh Oai, Xã Tả Thanh Oai, Huyện Tha...  Huyện Thanh Trì   \n",
              "...                                                  ...              ...   \n",
              "11467  Đường Ngụy Như Kon Tum, Phường Nhân Chính, Quậ...       Thanh Xuân   \n",
              "11468  101b-c4, ngõ 231, Đường Tân Mai, Phường Tân Ma...        Hoàng Mai   \n",
              "11470  Đường Hồ Đắc Di, Phường Nam Đồng, Quận Đống Đa...          Đống Đa   \n",
              "11471  Đường Khâm Thiên, Phường Khâm Thiên, Quận Đống...          Đống Đa   \n",
              "11472   KĐT Văn Phú, Phường Phú La, Quận Hà Đông, Hà Nội          Hà Đông   \n",
              "\n",
              "      price_in_million_per_square_meter  \n",
              "0                                  65.0  \n",
              "1                                 93.27  \n",
              "2                                108.89  \n",
              "3                                 60.94  \n",
              "4                                 29.76  \n",
              "...                                 ...  \n",
              "11467                            192.31  \n",
              "11468                             43.24  \n",
              "11470                             262.5  \n",
              "11471                            258.43  \n",
              "11472                             64.44  \n",
              "\n",
              "[11313 rows x 3 columns]"
            ],
            "text/html": [
              "\n",
              "  <div id=\"df-b6ad0282-1f88-40aa-9c14-645cce84d7e8\" class=\"colab-df-container\">\n",
              "    <div>\n",
              "<style scoped>\n",
              "    .dataframe tbody tr th:only-of-type {\n",
              "        vertical-align: middle;\n",
              "    }\n",
              "\n",
              "    .dataframe tbody tr th {\n",
              "        vertical-align: top;\n",
              "    }\n",
              "\n",
              "    .dataframe thead th {\n",
              "        text-align: right;\n",
              "    }\n",
              "</style>\n",
              "<table border=\"1\" class=\"dataframe\">\n",
              "  <thead>\n",
              "    <tr style=\"text-align: right;\">\n",
              "      <th></th>\n",
              "      <th>address</th>\n",
              "      <th>district</th>\n",
              "      <th>price_in_million_per_square_meter</th>\n",
              "    </tr>\n",
              "  </thead>\n",
              "  <tbody>\n",
              "    <tr>\n",
              "      <th>0</th>\n",
              "      <td>phố minh khai, Phường Minh Khai, Quận Hai Bà T...</td>\n",
              "      <td>Hai Bà Trưng</td>\n",
              "      <td>65.0</td>\n",
              "    </tr>\n",
              "    <tr>\n",
              "      <th>1</th>\n",
              "      <td>Đường Bồ Đề, Phường Bồ Đề, Quận Long Biên, Hà Nội</td>\n",
              "      <td>Long Biên</td>\n",
              "      <td>93.27</td>\n",
              "    </tr>\n",
              "    <tr>\n",
              "      <th>2</th>\n",
              "      <td>Đường Tố Hữu, Phường La Khê, Quận Hà Đông, Hà Nội</td>\n",
              "      <td>Hà Đông</td>\n",
              "      <td>108.89</td>\n",
              "    </tr>\n",
              "    <tr>\n",
              "      <th>3</th>\n",
              "      <td>180/61/5, Đường Tây Mỗ, Phường Tây Mỗ, Quận Na...</td>\n",
              "      <td>Nam Từ Liêm</td>\n",
              "      <td>60.94</td>\n",
              "    </tr>\n",
              "    <tr>\n",
              "      <th>4</th>\n",
              "      <td>Đường Tả Thanh Oai, Xã Tả Thanh Oai, Huyện Tha...</td>\n",
              "      <td>Huyện Thanh Trì</td>\n",
              "      <td>29.76</td>\n",
              "    </tr>\n",
              "    <tr>\n",
              "      <th>...</th>\n",
              "      <td>...</td>\n",
              "      <td>...</td>\n",
              "      <td>...</td>\n",
              "    </tr>\n",
              "    <tr>\n",
              "      <th>11467</th>\n",
              "      <td>Đường Ngụy Như Kon Tum, Phường Nhân Chính, Quậ...</td>\n",
              "      <td>Thanh Xuân</td>\n",
              "      <td>192.31</td>\n",
              "    </tr>\n",
              "    <tr>\n",
              "      <th>11468</th>\n",
              "      <td>101b-c4, ngõ 231, Đường Tân Mai, Phường Tân Ma...</td>\n",
              "      <td>Hoàng Mai</td>\n",
              "      <td>43.24</td>\n",
              "    </tr>\n",
              "    <tr>\n",
              "      <th>11470</th>\n",
              "      <td>Đường Hồ Đắc Di, Phường Nam Đồng, Quận Đống Đa...</td>\n",
              "      <td>Đống Đa</td>\n",
              "      <td>262.5</td>\n",
              "    </tr>\n",
              "    <tr>\n",
              "      <th>11471</th>\n",
              "      <td>Đường Khâm Thiên, Phường Khâm Thiên, Quận Đống...</td>\n",
              "      <td>Đống Đa</td>\n",
              "      <td>258.43</td>\n",
              "    </tr>\n",
              "    <tr>\n",
              "      <th>11472</th>\n",
              "      <td>KĐT Văn Phú, Phường Phú La, Quận Hà Đông, Hà Nội</td>\n",
              "      <td>Hà Đông</td>\n",
              "      <td>64.44</td>\n",
              "    </tr>\n",
              "  </tbody>\n",
              "</table>\n",
              "<p>11313 rows × 3 columns</p>\n",
              "</div>\n",
              "    <div class=\"colab-df-buttons\">\n",
              "\n",
              "  <div class=\"colab-df-container\">\n",
              "    <button class=\"colab-df-convert\" onclick=\"convertToInteractive('df-b6ad0282-1f88-40aa-9c14-645cce84d7e8')\"\n",
              "            title=\"Convert this dataframe to an interactive table.\"\n",
              "            style=\"display:none;\">\n",
              "\n",
              "  <svg xmlns=\"http://www.w3.org/2000/svg\" height=\"24px\" viewBox=\"0 -960 960 960\">\n",
              "    <path d=\"M120-120v-720h720v720H120Zm60-500h600v-160H180v160Zm220 220h160v-160H400v160Zm0 220h160v-160H400v160ZM180-400h160v-160H180v160Zm440 0h160v-160H620v160ZM180-180h160v-160H180v160Zm440 0h160v-160H620v160Z\"/>\n",
              "  </svg>\n",
              "    </button>\n",
              "\n",
              "  <style>\n",
              "    .colab-df-container {\n",
              "      display:flex;\n",
              "      gap: 12px;\n",
              "    }\n",
              "\n",
              "    .colab-df-convert {\n",
              "      background-color: #E8F0FE;\n",
              "      border: none;\n",
              "      border-radius: 50%;\n",
              "      cursor: pointer;\n",
              "      display: none;\n",
              "      fill: #1967D2;\n",
              "      height: 32px;\n",
              "      padding: 0 0 0 0;\n",
              "      width: 32px;\n",
              "    }\n",
              "\n",
              "    .colab-df-convert:hover {\n",
              "      background-color: #E2EBFA;\n",
              "      box-shadow: 0px 1px 2px rgba(60, 64, 67, 0.3), 0px 1px 3px 1px rgba(60, 64, 67, 0.15);\n",
              "      fill: #174EA6;\n",
              "    }\n",
              "\n",
              "    .colab-df-buttons div {\n",
              "      margin-bottom: 4px;\n",
              "    }\n",
              "\n",
              "    [theme=dark] .colab-df-convert {\n",
              "      background-color: #3B4455;\n",
              "      fill: #D2E3FC;\n",
              "    }\n",
              "\n",
              "    [theme=dark] .colab-df-convert:hover {\n",
              "      background-color: #434B5C;\n",
              "      box-shadow: 0px 1px 3px 1px rgba(0, 0, 0, 0.15);\n",
              "      filter: drop-shadow(0px 1px 2px rgba(0, 0, 0, 0.3));\n",
              "      fill: #FFFFFF;\n",
              "    }\n",
              "  </style>\n",
              "\n",
              "    <script>\n",
              "      const buttonEl =\n",
              "        document.querySelector('#df-b6ad0282-1f88-40aa-9c14-645cce84d7e8 button.colab-df-convert');\n",
              "      buttonEl.style.display =\n",
              "        google.colab.kernel.accessAllowed ? 'block' : 'none';\n",
              "\n",
              "      async function convertToInteractive(key) {\n",
              "        const element = document.querySelector('#df-b6ad0282-1f88-40aa-9c14-645cce84d7e8');\n",
              "        const dataTable =\n",
              "          await google.colab.kernel.invokeFunction('convertToInteractive',\n",
              "                                                    [key], {});\n",
              "        if (!dataTable) return;\n",
              "\n",
              "        const docLinkHtml = 'Like what you see? Visit the ' +\n",
              "          '<a target=\"_blank\" href=https://colab.research.google.com/notebooks/data_table.ipynb>data table notebook</a>'\n",
              "          + ' to learn more about interactive tables.';\n",
              "        element.innerHTML = '';\n",
              "        dataTable['output_type'] = 'display_data';\n",
              "        await google.colab.output.renderOutput(dataTable, element);\n",
              "        const docLink = document.createElement('div');\n",
              "        docLink.innerHTML = docLinkHtml;\n",
              "        element.appendChild(docLink);\n",
              "      }\n",
              "    </script>\n",
              "  </div>\n",
              "\n",
              "\n",
              "<div id=\"df-911f31aa-db03-4844-8f66-52193913f210\">\n",
              "  <button class=\"colab-df-quickchart\" onclick=\"quickchart('df-911f31aa-db03-4844-8f66-52193913f210')\"\n",
              "            title=\"Suggest charts.\"\n",
              "            style=\"display:none;\">\n",
              "\n",
              "<svg xmlns=\"http://www.w3.org/2000/svg\" height=\"24px\"viewBox=\"0 0 24 24\"\n",
              "     width=\"24px\">\n",
              "    <g>\n",
              "        <path d=\"M19 3H5c-1.1 0-2 .9-2 2v14c0 1.1.9 2 2 2h14c1.1 0 2-.9 2-2V5c0-1.1-.9-2-2-2zM9 17H7v-7h2v7zm4 0h-2V7h2v10zm4 0h-2v-4h2v4z\"/>\n",
              "    </g>\n",
              "</svg>\n",
              "  </button>\n",
              "\n",
              "<style>\n",
              "  .colab-df-quickchart {\n",
              "      --bg-color: #E8F0FE;\n",
              "      --fill-color: #1967D2;\n",
              "      --hover-bg-color: #E2EBFA;\n",
              "      --hover-fill-color: #174EA6;\n",
              "      --disabled-fill-color: #AAA;\n",
              "      --disabled-bg-color: #DDD;\n",
              "  }\n",
              "\n",
              "  [theme=dark] .colab-df-quickchart {\n",
              "      --bg-color: #3B4455;\n",
              "      --fill-color: #D2E3FC;\n",
              "      --hover-bg-color: #434B5C;\n",
              "      --hover-fill-color: #FFFFFF;\n",
              "      --disabled-bg-color: #3B4455;\n",
              "      --disabled-fill-color: #666;\n",
              "  }\n",
              "\n",
              "  .colab-df-quickchart {\n",
              "    background-color: var(--bg-color);\n",
              "    border: none;\n",
              "    border-radius: 50%;\n",
              "    cursor: pointer;\n",
              "    display: none;\n",
              "    fill: var(--fill-color);\n",
              "    height: 32px;\n",
              "    padding: 0;\n",
              "    width: 32px;\n",
              "  }\n",
              "\n",
              "  .colab-df-quickchart:hover {\n",
              "    background-color: var(--hover-bg-color);\n",
              "    box-shadow: 0 1px 2px rgba(60, 64, 67, 0.3), 0 1px 3px 1px rgba(60, 64, 67, 0.15);\n",
              "    fill: var(--button-hover-fill-color);\n",
              "  }\n",
              "\n",
              "  .colab-df-quickchart-complete:disabled,\n",
              "  .colab-df-quickchart-complete:disabled:hover {\n",
              "    background-color: var(--disabled-bg-color);\n",
              "    fill: var(--disabled-fill-color);\n",
              "    box-shadow: none;\n",
              "  }\n",
              "\n",
              "  .colab-df-spinner {\n",
              "    border: 2px solid var(--fill-color);\n",
              "    border-color: transparent;\n",
              "    border-bottom-color: var(--fill-color);\n",
              "    animation:\n",
              "      spin 1s steps(1) infinite;\n",
              "  }\n",
              "\n",
              "  @keyframes spin {\n",
              "    0% {\n",
              "      border-color: transparent;\n",
              "      border-bottom-color: var(--fill-color);\n",
              "      border-left-color: var(--fill-color);\n",
              "    }\n",
              "    20% {\n",
              "      border-color: transparent;\n",
              "      border-left-color: var(--fill-color);\n",
              "      border-top-color: var(--fill-color);\n",
              "    }\n",
              "    30% {\n",
              "      border-color: transparent;\n",
              "      border-left-color: var(--fill-color);\n",
              "      border-top-color: var(--fill-color);\n",
              "      border-right-color: var(--fill-color);\n",
              "    }\n",
              "    40% {\n",
              "      border-color: transparent;\n",
              "      border-right-color: var(--fill-color);\n",
              "      border-top-color: var(--fill-color);\n",
              "    }\n",
              "    60% {\n",
              "      border-color: transparent;\n",
              "      border-right-color: var(--fill-color);\n",
              "    }\n",
              "    80% {\n",
              "      border-color: transparent;\n",
              "      border-right-color: var(--fill-color);\n",
              "      border-bottom-color: var(--fill-color);\n",
              "    }\n",
              "    90% {\n",
              "      border-color: transparent;\n",
              "      border-bottom-color: var(--fill-color);\n",
              "    }\n",
              "  }\n",
              "</style>\n",
              "\n",
              "  <script>\n",
              "    async function quickchart(key) {\n",
              "      const quickchartButtonEl =\n",
              "        document.querySelector('#' + key + ' button');\n",
              "      quickchartButtonEl.disabled = true;  // To prevent multiple clicks.\n",
              "      quickchartButtonEl.classList.add('colab-df-spinner');\n",
              "      try {\n",
              "        const charts = await google.colab.kernel.invokeFunction(\n",
              "            'suggestCharts', [key], {});\n",
              "      } catch (error) {\n",
              "        console.error('Error during call to suggestCharts:', error);\n",
              "      }\n",
              "      quickchartButtonEl.classList.remove('colab-df-spinner');\n",
              "      quickchartButtonEl.classList.add('colab-df-quickchart-complete');\n",
              "    }\n",
              "    (() => {\n",
              "      let quickchartButtonEl =\n",
              "        document.querySelector('#df-911f31aa-db03-4844-8f66-52193913f210 button');\n",
              "      quickchartButtonEl.style.display =\n",
              "        google.colab.kernel.accessAllowed ? 'block' : 'none';\n",
              "    })();\n",
              "  </script>\n",
              "</div>\n",
              "    </div>\n",
              "  </div>\n"
            ]
          },
          "metadata": {},
          "execution_count": 28
        }
      ]
    },
    {
      "cell_type": "code",
      "source": [
        "x = df['price_in_million_per_square_meter'].sort_values(ascending=False)[:100]\n",
        "x = df['district'][x.index].value_counts()\n",
        "plt.barh(x.keys(), x);"
      ],
      "metadata": {
        "colab": {
          "base_uri": "https://localhost:8080/",
          "height": 430
        },
        "id": "Tvm881srwAZv",
        "outputId": "3d771727-e946-46e5-89d2-70c925de8f56"
      },
      "id": "Tvm881srwAZv",
      "execution_count": null,
      "outputs": [
        {
          "output_type": "display_data",
          "data": {
            "text/plain": [
              "<Figure size 640x480 with 1 Axes>"
            ],
            "image/png": "[encoded data removed]"
          },
          "metadata": {}
        }
      ]
    },
    {
      "cell_type": "markdown",
      "source": [
        "According to these graphs above, \"Đã có sổ\", \"Nhà mặt phố, mặt tiền\", \"Đống Đa\" and \"Hoàn Kiếm\" are the factors which affects a house's price. Therefore, the location of the house (\"Nhà mặt phố, mặt tiền\"), the legal paper of the house (\"Đã có sổ\"), and the district where the house located (\"Đống Đa\", \"Hoàn Kiếm\",...) can lead to a very high house's price."
      ],
      "metadata": {
        "id": "bRM9BSg0vTDF"
      },
      "id": "bRM9BSg0vTDF"
    },
    {
      "cell_type": "markdown",
      "source": [
        "Visualize the distribution of `type_of_housing` and `legal_paper`"
      ],
      "metadata": {
        "id": "iOKwviZMITn4"
      },
      "id": "iOKwviZMITn4"
    },
    {
      "cell_type": "code",
      "source": [
        "fig, axis = plt.subplots(2,1,figsize=(10,15))\n",
        "fig.subplots_adjust(left=1, right=2, wspace=0.5)\n",
        "\n",
        "df['type_of_housing'].value_counts().plot(kind='pie', autopct='%1.1f%%', ax=axis[0], fontsize=6)\n",
        "df['legal_paper'].value_counts().plot(kind='pie', autopct='%1.1f%%', ax=axis[1], fontsize=6)"
      ],
      "metadata": {
        "colab": {
          "base_uri": "https://localhost:8080/",
          "height": 1000
        },
        "id": "P-a4xZ2RIpJt",
        "outputId": "fe139720-8d66-4707-93da-20868be4e925"
      },
      "id": "P-a4xZ2RIpJt",
      "execution_count": null,
      "outputs": [
        {
          "output_type": "execute_result",
          "data": {
            "text/plain": [
              "<Axes: ylabel='legal_paper'>"
            ]
          },
          "metadata": {},
          "execution_count": 30
        },
        {
          "output_type": "display_data",
          "data": {
            "text/plain": [
              "<Figure size 1000x1500 with 2 Axes>"
            ],
            "image/png": "[encoded data removed]"
          },
          "metadata": {}
        }
      ]
    },
    {
      "cell_type": "markdown",
      "source": [
        "- Most of the houses in Hanoi are \"Nhà ngõ, hẻm\".\n",
        "- Most of the houses in Hanoi have legal paper \"Đã có sổ\"."
      ],
      "metadata": {
        "id": "VCYv12oNPzDF"
      },
      "id": "VCYv12oNPzDF"
    },
    {
      "cell_type": "markdown",
      "source": [
        "# Create dummies for categorical columns"
      ],
      "metadata": {
        "id": "RvvRFanvCr-g"
      },
      "id": "RvvRFanvCr-g"
    },
    {
      "cell_type": "code",
      "source": [
        "df.columns"
      ],
      "metadata": {
        "colab": {
          "base_uri": "https://localhost:8080/"
        },
        "id": "NVznLbhWEphg",
        "outputId": "7291703e-ae63-41cc-96cb-4c27b2030864"
      },
      "id": "NVznLbhWEphg",
      "execution_count": 14,
      "outputs": [
        {
          "output_type": "execute_result",
          "data": {
            "text/plain": [
              "Index(['index', 'date', 'address', 'district', 'ward', 'type_of_housing',\n",
              "       'legal_paper', 'num_floors', 'num_bed_rooms', 'squared_meter_area',\n",
              "       'length_meter', 'width_meter', 'price_in_million_per_square_meter'],\n",
              "      dtype='object')"
            ]
          },
          "metadata": {},
          "execution_count": 14
        }
      ]
    },
    {
      "cell_type": "code",
      "execution_count": 15,
      "id": "7a992685",
      "metadata": {
        "execution": {
          "iopub.execute_input": "2022-03-21T23:13:53.578255Z",
          "iopub.status.busy": "2022-03-21T23:13:53.577566Z",
          "iopub.status.idle": "2022-03-21T23:13:53.650566Z",
          "shell.execute_reply": "2022-03-21T23:13:53.651034Z",
          "shell.execute_reply.started": "2022-03-21T15:03:24.344884Z"
        },
        "papermill": {
          "duration": 0.106005,
          "end_time": "2022-03-21T23:13:53.651228",
          "exception": false,
          "start_time": "2022-03-21T23:13:53.545223",
          "status": "completed"
        },
        "tags": [],
        "id": "7a992685",
        "outputId": "af459d1e-a907-4de0-c778-b71db495a2b4",
        "colab": {
          "base_uri": "https://localhost:8080/",
          "height": 290
        }
      },
      "outputs": [
        {
          "output_type": "execute_result",
          "data": {
            "text/plain": [
              "   num_floors  num_bed_rooms  squared_meter_area  length_meter  width_meter  \\\n",
              "0         4.0            4.0                40.0          10.0          4.0   \n",
              "1         5.0            4.0                52.0          12.0          4.2   \n",
              "2         5.0            5.0                90.0          18.0          5.0   \n",
              "3         4.0            3.0                32.0           6.6          4.5   \n",
              "4         3.0            2.0                42.0          11.0          4.0   \n",
              "\n",
              "  price_in_million_per_square_meter  housing_type_Nhà biệt thự  \\\n",
              "0                              65.0                          0   \n",
              "1                             93.27                          0   \n",
              "2                            108.89                          0   \n",
              "3                             60.94                          0   \n",
              "4                             29.76                          0   \n",
              "\n",
              "   housing_type_Nhà mặt phố, mặt tiền  housing_type_Nhà ngõ, hẻm  \\\n",
              "0                                   0                          1   \n",
              "1                                   0                          1   \n",
              "2                                   1                          0   \n",
              "3                                   0                          1   \n",
              "4                                   0                          1   \n",
              "\n",
              "   housing_type_Nhà phố liền kề  ...  ward_Đại Mỗ  ward_Định Công  \\\n",
              "0                             0  ...            0               0   \n",
              "1                             0  ...            0               0   \n",
              "2                             0  ...            0               0   \n",
              "3                             0  ...            0               0   \n",
              "4                             0  ...            0               0   \n",
              "\n",
              "   ward_Đống Mác  ward_Đồng Mai  ward_Đồng Nhân  ward_Đồng Tâm  \\\n",
              "0              0              0               0              0   \n",
              "1              0              0               0              0   \n",
              "2              0              0               0              0   \n",
              "3              0              0               0              0   \n",
              "4              0              0               0              0   \n",
              "\n",
              "   ward_Đồng Xuân  ward_Đội Cấn  ward_Đức Giang  ward_Đức Thắng  \n",
              "0               0             0               0               0  \n",
              "1               0             0               0               0  \n",
              "2               0             0               0               0  \n",
              "3               0             0               0               0  \n",
              "4               0             0               0               0  \n",
              "\n",
              "[5 rows x 281 columns]"
            ],
            "text/html": [
              "\n",
              "  <div id=\"df-c2751b45-7aa4-4880-b216-10dc1db49ae4\" class=\"colab-df-container\">\n",
              "    <div>\n",
              "<style scoped>\n",
              "    .dataframe tbody tr th:only-of-type {\n",
              "        vertical-align: middle;\n",
              "    }\n",
              "\n",
              "    .dataframe tbody tr th {\n",
              "        vertical-align: top;\n",
              "    }\n",
              "\n",
              "    .dataframe thead th {\n",
              "        text-align: right;\n",
              "    }\n",
              "</style>\n",
              "<table border=\"1\" class=\"dataframe\">\n",
              "  <thead>\n",
              "    <tr style=\"text-align: right;\">\n",
              "      <th></th>\n",
              "      <th>num_floors</th>\n",
              "      <th>num_bed_rooms</th>\n",
              "      <th>squared_meter_area</th>\n",
              "      <th>length_meter</th>\n",
              "      <th>width_meter</th>\n",
              "      <th>price_in_million_per_square_meter</th>\n",
              "      <th>housing_type_Nhà biệt thự</th>\n",
              "      <th>housing_type_Nhà mặt phố, mặt tiền</th>\n",
              "      <th>housing_type_Nhà ngõ, hẻm</th>\n",
              "      <th>housing_type_Nhà phố liền kề</th>\n",
              "      <th>...</th>\n",
              "      <th>ward_Đại Mỗ</th>\n",
              "      <th>ward_Định Công</th>\n",
              "      <th>ward_Đống Mác</th>\n",
              "      <th>ward_Đồng Mai</th>\n",
              "      <th>ward_Đồng Nhân</th>\n",
              "      <th>ward_Đồng Tâm</th>\n",
              "      <th>ward_Đồng Xuân</th>\n",
              "      <th>ward_Đội Cấn</th>\n",
              "      <th>ward_Đức Giang</th>\n",
              "      <th>ward_Đức Thắng</th>\n",
              "    </tr>\n",
              "  </thead>\n",
              "  <tbody>\n",
              "    <tr>\n",
              "      <th>0</th>\n",
              "      <td>4.0</td>\n",
              "      <td>4.0</td>\n",
              "      <td>40.0</td>\n",
              "      <td>10.0</td>\n",
              "      <td>4.0</td>\n",
              "      <td>65.0</td>\n",
              "      <td>0</td>\n",
              "      <td>0</td>\n",
              "      <td>1</td>\n",
              "      <td>0</td>\n",
              "      <td>...</td>\n",
              "      <td>0</td>\n",
              "      <td>0</td>\n",
              "      <td>0</td>\n",
              "      <td>0</td>\n",
              "      <td>0</td>\n",
              "      <td>0</td>\n",
              "      <td>0</td>\n",
              "      <td>0</td>\n",
              "      <td>0</td>\n",
              "      <td>0</td>\n",
              "    </tr>\n",
              "    <tr>\n",
              "      <th>1</th>\n",
              "      <td>5.0</td>\n",
              "      <td>4.0</td>\n",
              "      <td>52.0</td>\n",
              "      <td>12.0</td>\n",
              "      <td>4.2</td>\n",
              "      <td>93.27</td>\n",
              "      <td>0</td>\n",
              "      <td>0</td>\n",
              "      <td>1</td>\n",
              "      <td>0</td>\n",
              "      <td>...</td>\n",
              "      <td>0</td>\n",
              "      <td>0</td>\n",
              "      <td>0</td>\n",
              "      <td>0</td>\n",
              "      <td>0</td>\n",
              "      <td>0</td>\n",
              "      <td>0</td>\n",
              "      <td>0</td>\n",
              "      <td>0</td>\n",
              "      <td>0</td>\n",
              "    </tr>\n",
              "    <tr>\n",
              "      <th>2</th>\n",
              "      <td>5.0</td>\n",
              "      <td>5.0</td>\n",
              "      <td>90.0</td>\n",
              "      <td>18.0</td>\n",
              "      <td>5.0</td>\n",
              "      <td>108.89</td>\n",
              "      <td>0</td>\n",
              "      <td>1</td>\n",
              "      <td>0</td>\n",
              "      <td>0</td>\n",
              "      <td>...</td>\n",
              "      <td>0</td>\n",
              "      <td>0</td>\n",
              "      <td>0</td>\n",
              "      <td>0</td>\n",
              "      <td>0</td>\n",
              "      <td>0</td>\n",
              "      <td>0</td>\n",
              "      <td>0</td>\n",
              "      <td>0</td>\n",
              "      <td>0</td>\n",
              "    </tr>\n",
              "    <tr>\n",
              "      <th>3</th>\n",
              "      <td>4.0</td>\n",
              "      <td>3.0</td>\n",
              "      <td>32.0</td>\n",
              "      <td>6.6</td>\n",
              "      <td>4.5</td>\n",
              "      <td>60.94</td>\n",
              "      <td>0</td>\n",
              "      <td>0</td>\n",
              "      <td>1</td>\n",
              "      <td>0</td>\n",
              "      <td>...</td>\n",
              "      <td>0</td>\n",
              "      <td>0</td>\n",
              "      <td>0</td>\n",
              "      <td>0</td>\n",
              "      <td>0</td>\n",
              "      <td>0</td>\n",
              "      <td>0</td>\n",
              "      <td>0</td>\n",
              "      <td>0</td>\n",
              "      <td>0</td>\n",
              "    </tr>\n",
              "    <tr>\n",
              "      <th>4</th>\n",
              "      <td>3.0</td>\n",
              "      <td>2.0</td>\n",
              "      <td>42.0</td>\n",
              "      <td>11.0</td>\n",
              "      <td>4.0</td>\n",
              "      <td>29.76</td>\n",
              "      <td>0</td>\n",
              "      <td>0</td>\n",
              "      <td>1</td>\n",
              "      <td>0</td>\n",
              "      <td>...</td>\n",
              "      <td>0</td>\n",
              "      <td>0</td>\n",
              "      <td>0</td>\n",
              "      <td>0</td>\n",
              "      <td>0</td>\n",
              "      <td>0</td>\n",
              "      <td>0</td>\n",
              "      <td>0</td>\n",
              "      <td>0</td>\n",
              "      <td>0</td>\n",
              "    </tr>\n",
              "  </tbody>\n",
              "</table>\n",
              "<p>5 rows × 281 columns</p>\n",
              "</div>\n",
              "    <div class=\"colab-df-buttons\">\n",
              "\n",
              "  <div class=\"colab-df-container\">\n",
              "    <button class=\"colab-df-convert\" onclick=\"convertToInteractive('df-c2751b45-7aa4-4880-b216-10dc1db49ae4')\"\n",
              "            title=\"Convert this dataframe to an interactive table.\"\n",
              "            style=\"display:none;\">\n",
              "\n",
              "  <svg xmlns=\"http://www.w3.org/2000/svg\" height=\"24px\" viewBox=\"0 -960 960 960\">\n",
              "    <path d=\"M120-120v-720h720v720H120Zm60-500h600v-160H180v160Zm220 220h160v-160H400v160Zm0 220h160v-160H400v160ZM180-400h160v-160H180v160Zm440 0h160v-160H620v160ZM180-180h160v-160H180v160Zm440 0h160v-160H620v160Z\"/>\n",
              "  </svg>\n",
              "    </button>\n",
              "\n",
              "  <style>\n",
              "    .colab-df-container {\n",
              "      display:flex;\n",
              "      gap: 12px;\n",
              "    }\n",
              "\n",
              "    .colab-df-convert {\n",
              "      background-color: #E8F0FE;\n",
              "      border: none;\n",
              "      border-radius: 50%;\n",
              "      cursor: pointer;\n",
              "      display: none;\n",
              "      fill: #1967D2;\n",
              "      height: 32px;\n",
              "      padding: 0 0 0 0;\n",
              "      width: 32px;\n",
              "    }\n",
              "\n",
              "    .colab-df-convert:hover {\n",
              "      background-color: #E2EBFA;\n",
              "      box-shadow: 0px 1px 2px rgba(60, 64, 67, 0.3), 0px 1px 3px 1px rgba(60, 64, 67, 0.15);\n",
              "      fill: #174EA6;\n",
              "    }\n",
              "\n",
              "    .colab-df-buttons div {\n",
              "      margin-bottom: 4px;\n",
              "    }\n",
              "\n",
              "    [theme=dark] .colab-df-convert {\n",
              "      background-color: #3B4455;\n",
              "      fill: #D2E3FC;\n",
              "    }\n",
              "\n",
              "    [theme=dark] .colab-df-convert:hover {\n",
              "      background-color: #434B5C;\n",
              "      box-shadow: 0px 1px 3px 1px rgba(0, 0, 0, 0.15);\n",
              "      filter: drop-shadow(0px 1px 2px rgba(0, 0, 0, 0.3));\n",
              "      fill: #FFFFFF;\n",
              "    }\n",
              "  </style>\n",
              "\n",
              "    <script>\n",
              "      const buttonEl =\n",
              "        document.querySelector('#df-c2751b45-7aa4-4880-b216-10dc1db49ae4 button.colab-df-convert');\n",
              "      buttonEl.style.display =\n",
              "        google.colab.kernel.accessAllowed ? 'block' : 'none';\n",
              "\n",
              "      async function convertToInteractive(key) {\n",
              "        const element = document.querySelector('#df-c2751b45-7aa4-4880-b216-10dc1db49ae4');\n",
              "        const dataTable =\n",
              "          await google.colab.kernel.invokeFunction('convertToInteractive',\n",
              "                                                    [key], {});\n",
              "        if (!dataTable) return;\n",
              "\n",
              "        const docLinkHtml = 'Like what you see? Visit the ' +\n",
              "          '<a target=\"_blank\" href=https://colab.research.google.com/notebooks/data_table.ipynb>data table notebook</a>'\n",
              "          + ' to learn more about interactive tables.';\n",
              "        element.innerHTML = '';\n",
              "        dataTable['output_type'] = 'display_data';\n",
              "        await google.colab.output.renderOutput(dataTable, element);\n",
              "        const docLink = document.createElement('div');\n",
              "        docLink.innerHTML = docLinkHtml;\n",
              "        element.appendChild(docLink);\n",
              "      }\n",
              "    </script>\n",
              "  </div>\n",
              "\n",
              "\n",
              "<div id=\"df-9c87f490-93c4-4ff4-b440-1ca42ebea1d2\">\n",
              "  <button class=\"colab-df-quickchart\" onclick=\"quickchart('df-9c87f490-93c4-4ff4-b440-1ca42ebea1d2')\"\n",
              "            title=\"Suggest charts.\"\n",
              "            style=\"display:none;\">\n",
              "\n",
              "<svg xmlns=\"http://www.w3.org/2000/svg\" height=\"24px\"viewBox=\"0 0 24 24\"\n",
              "     width=\"24px\">\n",
              "    <g>\n",
              "        <path d=\"M19 3H5c-1.1 0-2 .9-2 2v14c0 1.1.9 2 2 2h14c1.1 0 2-.9 2-2V5c0-1.1-.9-2-2-2zM9 17H7v-7h2v7zm4 0h-2V7h2v10zm4 0h-2v-4h2v4z\"/>\n",
              "    </g>\n",
              "</svg>\n",
              "  </button>\n",
              "\n",
              "<style>\n",
              "  .colab-df-quickchart {\n",
              "      --bg-color: #E8F0FE;\n",
              "      --fill-color: #1967D2;\n",
              "      --hover-bg-color: #E2EBFA;\n",
              "      --hover-fill-color: #174EA6;\n",
              "      --disabled-fill-color: #AAA;\n",
              "      --disabled-bg-color: #DDD;\n",
              "  }\n",
              "\n",
              "  [theme=dark] .colab-df-quickchart {\n",
              "      --bg-color: #3B4455;\n",
              "      --fill-color: #D2E3FC;\n",
              "      --hover-bg-color: #434B5C;\n",
              "      --hover-fill-color: #FFFFFF;\n",
              "      --disabled-bg-color: #3B4455;\n",
              "      --disabled-fill-color: #666;\n",
              "  }\n",
              "\n",
              "  .colab-df-quickchart {\n",
              "    background-color: var(--bg-color);\n",
              "    border: none;\n",
              "    border-radius: 50%;\n",
              "    cursor: pointer;\n",
              "    display: none;\n",
              "    fill: var(--fill-color);\n",
              "    height: 32px;\n",
              "    padding: 0;\n",
              "    width: 32px;\n",
              "  }\n",
              "\n",
              "  .colab-df-quickchart:hover {\n",
              "    background-color: var(--hover-bg-color);\n",
              "    box-shadow: 0 1px 2px rgba(60, 64, 67, 0.3), 0 1px 3px 1px rgba(60, 64, 67, 0.15);\n",
              "    fill: var(--button-hover-fill-color);\n",
              "  }\n",
              "\n",
              "  .colab-df-quickchart-complete:disabled,\n",
              "  .colab-df-quickchart-complete:disabled:hover {\n",
              "    background-color: var(--disabled-bg-color);\n",
              "    fill: var(--disabled-fill-color);\n",
              "    box-shadow: none;\n",
              "  }\n",
              "\n",
              "  .colab-df-spinner {\n",
              "    border: 2px solid var(--fill-color);\n",
              "    border-color: transparent;\n",
              "    border-bottom-color: var(--fill-color);\n",
              "    animation:\n",
              "      spin 1s steps(1) infinite;\n",
              "  }\n",
              "\n",
              "  @keyframes spin {\n",
              "    0% {\n",
              "      border-color: transparent;\n",
              "      border-bottom-color: var(--fill-color);\n",
              "      border-left-color: var(--fill-color);\n",
              "    }\n",
              "    20% {\n",
              "      border-color: transparent;\n",
              "      border-left-color: var(--fill-color);\n",
              "      border-top-color: var(--fill-color);\n",
              "    }\n",
              "    30% {\n",
              "      border-color: transparent;\n",
              "      border-left-color: var(--fill-color);\n",
              "      border-top-color: var(--fill-color);\n",
              "      border-right-color: var(--fill-color);\n",
              "    }\n",
              "    40% {\n",
              "      border-color: transparent;\n",
              "      border-right-color: var(--fill-color);\n",
              "      border-top-color: var(--fill-color);\n",
              "    }\n",
              "    60% {\n",
              "      border-color: transparent;\n",
              "      border-right-color: var(--fill-color);\n",
              "    }\n",
              "    80% {\n",
              "      border-color: transparent;\n",
              "      border-right-color: var(--fill-color);\n",
              "      border-bottom-color: var(--fill-color);\n",
              "    }\n",
              "    90% {\n",
              "      border-color: transparent;\n",
              "      border-bottom-color: var(--fill-color);\n",
              "    }\n",
              "  }\n",
              "</style>\n",
              "\n",
              "  <script>\n",
              "    async function quickchart(key) {\n",
              "      const quickchartButtonEl =\n",
              "        document.querySelector('#' + key + ' button');\n",
              "      quickchartButtonEl.disabled = true;  // To prevent multiple clicks.\n",
              "      quickchartButtonEl.classList.add('colab-df-spinner');\n",
              "      try {\n",
              "        const charts = await google.colab.kernel.invokeFunction(\n",
              "            'suggestCharts', [key], {});\n",
              "      } catch (error) {\n",
              "        console.error('Error during call to suggestCharts:', error);\n",
              "      }\n",
              "      quickchartButtonEl.classList.remove('colab-df-spinner');\n",
              "      quickchartButtonEl.classList.add('colab-df-quickchart-complete');\n",
              "    }\n",
              "    (() => {\n",
              "      let quickchartButtonEl =\n",
              "        document.querySelector('#df-9c87f490-93c4-4ff4-b440-1ca42ebea1d2 button');\n",
              "      quickchartButtonEl.style.display =\n",
              "        google.colab.kernel.accessAllowed ? 'block' : 'none';\n",
              "    })();\n",
              "  </script>\n",
              "</div>\n",
              "    </div>\n",
              "  </div>\n"
            ]
          },
          "metadata": {},
          "execution_count": 15
        }
      ],
      "source": [
        "dummy_type_of_housing = pd.get_dummies(df.type_of_housing, prefix=\"housing_type\")\n",
        "dummy_legal_paper = pd.get_dummies(df.legal_paper, prefix=\"legal_paper\")\n",
        "dummy_district = pd.get_dummies(df.district, prefix=\"district\")\n",
        "dummy_ward = pd.get_dummies(df.ward, prefix=\"ward\")\n",
        "\n",
        "df_cleaned = pd.concat([df, dummy_type_of_housing, dummy_legal_paper, dummy_district, dummy_ward], axis=1)\n",
        "df_cleaned = df_cleaned.drop(['index', 'date', 'address', 'district', 'ward', 'type_of_housing', 'legal_paper'], axis = 1)\n",
        "df_cleaned.head()"
      ]
    },
    {
      "cell_type": "code",
      "source": [
        "df_cleaned.columns"
      ],
      "metadata": {
        "colab": {
          "base_uri": "https://localhost:8080/"
        },
        "id": "IYK9zTm3Hmxc",
        "outputId": "7cb1a90d-a713-42f4-e92c-a630289849d3"
      },
      "id": "IYK9zTm3Hmxc",
      "execution_count": 16,
      "outputs": [
        {
          "output_type": "execute_result",
          "data": {
            "text/plain": [
              "Index(['num_floors', 'num_bed_rooms', 'squared_meter_area', 'length_meter',\n",
              "       'width_meter', 'price_in_million_per_square_meter',\n",
              "       'housing_type_Nhà biệt thự', 'housing_type_Nhà mặt phố, mặt tiền',\n",
              "       'housing_type_Nhà ngõ, hẻm', 'housing_type_Nhà phố liền kề',\n",
              "       ...\n",
              "       'ward_Đại Mỗ', 'ward_Định Công', 'ward_Đống Mác', 'ward_Đồng Mai',\n",
              "       'ward_Đồng Nhân', 'ward_Đồng Tâm', 'ward_Đồng Xuân', 'ward_Đội Cấn',\n",
              "       'ward_Đức Giang', 'ward_Đức Thắng'],\n",
              "      dtype='object', length=281)"
            ]
          },
          "metadata": {},
          "execution_count": 16
        }
      ]
    },
    {
      "cell_type": "markdown",
      "id": "daa4356d",
      "metadata": {
        "papermill": {
          "duration": 0.025046,
          "end_time": "2022-03-21T23:13:53.701836",
          "exception": false,
          "start_time": "2022-03-21T23:13:53.676790",
          "status": "completed"
        },
        "tags": [],
        "id": "daa4356d"
      },
      "source": [
        "# Removing outliers using IQR method"
      ]
    },
    {
      "cell_type": "code",
      "execution_count": 17,
      "id": "1492b871",
      "metadata": {
        "execution": {
          "iopub.execute_input": "2022-03-21T23:13:53.761188Z",
          "iopub.status.busy": "2022-03-21T23:13:53.754975Z",
          "iopub.status.idle": "2022-03-21T23:13:53.888566Z",
          "shell.execute_reply": "2022-03-21T23:13:53.887961Z",
          "shell.execute_reply.started": "2022-03-21T15:03:24.423936Z"
        },
        "papermill": {
          "duration": 0.161307,
          "end_time": "2022-03-21T23:13:53.888711",
          "exception": false,
          "start_time": "2022-03-21T23:13:53.727404",
          "status": "completed"
        },
        "tags": [],
        "id": "1492b871",
        "outputId": "5a837de3-76a4-4306-8a7b-1bc24ed41bcf",
        "colab": {
          "base_uri": "https://localhost:8080/"
        }
      },
      "outputs": [
        {
          "output_type": "stream",
          "name": "stdout",
          "text": [
            "The final length of the dataset is 7328 rows.\n"
          ]
        }
      ],
      "source": [
        "def remove_outlier_IQR(df, series):\n",
        "    Q1=df[series].quantile(0.25)\n",
        "    Q3=df[series].quantile(0.75)\n",
        "    IQR=Q3-Q1\n",
        "    df_final=df[~((df[series]<(Q1-1.5*IQR)) | (df[series]>(Q3+1.5*IQR)))]\n",
        "    return df_final\n",
        "\n",
        "removed_outliers = df_cleaned\n",
        "columns_to_remove_outliers = ['num_floors', 'num_bed_rooms', 'squared_meter_area', 'length_meter',\n",
        "                              'width_meter', 'price_in_million_per_square_meter']\n",
        "for column in columns_to_remove_outliers:\n",
        "    removed_outliers = remove_outlier_IQR(removed_outliers, column)\n",
        "\n",
        "print(\"The final length of the dataset is\", str(len(removed_outliers)), \"rows.\")"
      ]
    },
    {
      "cell_type": "markdown",
      "id": "b9929b24",
      "metadata": {
        "papermill": {
          "duration": 0.025233,
          "end_time": "2022-03-21T23:13:53.991600",
          "exception": false,
          "start_time": "2022-03-21T23:13:53.966367",
          "status": "completed"
        },
        "tags": [],
        "id": "b9929b24"
      },
      "source": [
        "# Scale variables using Standard Scaler and create train-test set"
      ]
    },
    {
      "cell_type": "code",
      "source": [
        "removed_outliers.head()"
      ],
      "metadata": {
        "colab": {
          "base_uri": "https://localhost:8080/",
          "height": 290
        },
        "id": "lTpE8CzX7o40",
        "outputId": "73e07f06-af55-4958-9d44-7d2124a66171"
      },
      "id": "lTpE8CzX7o40",
      "execution_count": null,
      "outputs": [
        {
          "output_type": "execute_result",
          "data": {
            "text/plain": [
              "   num_floors  num_bed_rooms  squared_meter_area  length_meter  width_meter  \\\n",
              "0         4.0            4.0                40.0          10.0          4.0   \n",
              "1         5.0            4.0                52.0          12.0          4.2   \n",
              "3         4.0            3.0                32.0           6.6          4.5   \n",
              "4         3.0            2.0                42.0          11.0          4.0   \n",
              "5         4.0            4.0                43.0          11.0          4.0   \n",
              "\n",
              "  price_in_million_per_square_meter  housing_type_Nhà biệt thự  \\\n",
              "0                              65.0                          0   \n",
              "1                             93.27                          0   \n",
              "3                             60.94                          0   \n",
              "4                             29.76                          0   \n",
              "5                              50.0                          0   \n",
              "\n",
              "   housing_type_Nhà mặt phố, mặt tiền  housing_type_Nhà ngõ, hẻm  \\\n",
              "0                                   0                          1   \n",
              "1                                   0                          1   \n",
              "3                                   0                          1   \n",
              "4                                   0                          1   \n",
              "5                                   0                          1   \n",
              "\n",
              "   housing_type_Nhà phố liền kề  ...  ward_Đại Mỗ  ward_Định Công  \\\n",
              "0                             0  ...            0               0   \n",
              "1                             0  ...            0               0   \n",
              "3                             0  ...            0               0   \n",
              "4                             0  ...            0               0   \n",
              "5                             0  ...            0               0   \n",
              "\n",
              "   ward_Đống Mác  ward_Đồng Mai  ward_Đồng Nhân  ward_Đồng Tâm  \\\n",
              "0              0              0               0              0   \n",
              "1              0              0               0              0   \n",
              "3              0              0               0              0   \n",
              "4              0              0               0              0   \n",
              "5              0              0               0              0   \n",
              "\n",
              "   ward_Đồng Xuân  ward_Đội Cấn  ward_Đức Giang  ward_Đức Thắng  \n",
              "0               0             0               0               0  \n",
              "1               0             0               0               0  \n",
              "3               0             0               0               0  \n",
              "4               0             0               0               0  \n",
              "5               0             0               0               0  \n",
              "\n",
              "[5 rows x 281 columns]"
            ],
            "text/html": [
              "\n",
              "  <div id=\"df-9b656e92-42fb-42cc-9541-fed331ce81ce\" class=\"colab-df-container\">\n",
              "    <div>\n",
              "<style scoped>\n",
              "    .dataframe tbody tr th:only-of-type {\n",
              "        vertical-align: middle;\n",
              "    }\n",
              "\n",
              "    .dataframe tbody tr th {\n",
              "        vertical-align: top;\n",
              "    }\n",
              "\n",
              "    .dataframe thead th {\n",
              "        text-align: right;\n",
              "    }\n",
              "</style>\n",
              "<table border=\"1\" class=\"dataframe\">\n",
              "  <thead>\n",
              "    <tr style=\"text-align: right;\">\n",
              "      <th></th>\n",
              "      <th>num_floors</th>\n",
              "      <th>num_bed_rooms</th>\n",
              "      <th>squared_meter_area</th>\n",
              "      <th>length_meter</th>\n",
              "      <th>width_meter</th>\n",
              "      <th>price_in_million_per_square_meter</th>\n",
              "      <th>housing_type_Nhà biệt thự</th>\n",
              "      <th>housing_type_Nhà mặt phố, mặt tiền</th>\n",
              "      <th>housing_type_Nhà ngõ, hẻm</th>\n",
              "      <th>housing_type_Nhà phố liền kề</th>\n",
              "      <th>...</th>\n",
              "      <th>ward_Đại Mỗ</th>\n",
              "      <th>ward_Định Công</th>\n",
              "      <th>ward_Đống Mác</th>\n",
              "      <th>ward_Đồng Mai</th>\n",
              "      <th>ward_Đồng Nhân</th>\n",
              "      <th>ward_Đồng Tâm</th>\n",
              "      <th>ward_Đồng Xuân</th>\n",
              "      <th>ward_Đội Cấn</th>\n",
              "      <th>ward_Đức Giang</th>\n",
              "      <th>ward_Đức Thắng</th>\n",
              "    </tr>\n",
              "  </thead>\n",
              "  <tbody>\n",
              "    <tr>\n",
              "      <th>0</th>\n",
              "      <td>4.0</td>\n",
              "      <td>4.0</td>\n",
              "      <td>40.0</td>\n",
              "      <td>10.0</td>\n",
              "      <td>4.0</td>\n",
              "      <td>65.0</td>\n",
              "      <td>0</td>\n",
              "      <td>0</td>\n",
              "      <td>1</td>\n",
              "      <td>0</td>\n",
              "      <td>...</td>\n",
              "      <td>0</td>\n",
              "      <td>0</td>\n",
              "      <td>0</td>\n",
              "      <td>0</td>\n",
              "      <td>0</td>\n",
              "      <td>0</td>\n",
              "      <td>0</td>\n",
              "      <td>0</td>\n",
              "      <td>0</td>\n",
              "      <td>0</td>\n",
              "    </tr>\n",
              "    <tr>\n",
              "      <th>1</th>\n",
              "      <td>5.0</td>\n",
              "      <td>4.0</td>\n",
              "      <td>52.0</td>\n",
              "      <td>12.0</td>\n",
              "      <td>4.2</td>\n",
              "      <td>93.27</td>\n",
              "      <td>0</td>\n",
              "      <td>0</td>\n",
              "      <td>1</td>\n",
              "      <td>0</td>\n",
              "      <td>...</td>\n",
              "      <td>0</td>\n",
              "      <td>0</td>\n",
              "      <td>0</td>\n",
              "      <td>0</td>\n",
              "      <td>0</td>\n",
              "      <td>0</td>\n",
              "      <td>0</td>\n",
              "      <td>0</td>\n",
              "      <td>0</td>\n",
              "      <td>0</td>\n",
              "    </tr>\n",
              "    <tr>\n",
              "      <th>3</th>\n",
              "      <td>4.0</td>\n",
              "      <td>3.0</td>\n",
              "      <td>32.0</td>\n",
              "      <td>6.6</td>\n",
              "      <td>4.5</td>\n",
              "      <td>60.94</td>\n",
              "      <td>0</td>\n",
              "      <td>0</td>\n",
              "      <td>1</td>\n",
              "      <td>0</td>\n",
              "      <td>...</td>\n",
              "      <td>0</td>\n",
              "      <td>0</td>\n",
              "      <td>0</td>\n",
              "      <td>0</td>\n",
              "      <td>0</td>\n",
              "      <td>0</td>\n",
              "      <td>0</td>\n",
              "      <td>0</td>\n",
              "      <td>0</td>\n",
              "      <td>0</td>\n",
              "    </tr>\n",
              "    <tr>\n",
              "      <th>4</th>\n",
              "      <td>3.0</td>\n",
              "      <td>2.0</td>\n",
              "      <td>42.0</td>\n",
              "      <td>11.0</td>\n",
              "      <td>4.0</td>\n",
              "      <td>29.76</td>\n",
              "      <td>0</td>\n",
              "      <td>0</td>\n",
              "      <td>1</td>\n",
              "      <td>0</td>\n",
              "      <td>...</td>\n",
              "      <td>0</td>\n",
              "      <td>0</td>\n",
              "      <td>0</td>\n",
              "      <td>0</td>\n",
              "      <td>0</td>\n",
              "      <td>0</td>\n",
              "      <td>0</td>\n",
              "      <td>0</td>\n",
              "      <td>0</td>\n",
              "      <td>0</td>\n",
              "    </tr>\n",
              "    <tr>\n",
              "      <th>5</th>\n",
              "      <td>4.0</td>\n",
              "      <td>4.0</td>\n",
              "      <td>43.0</td>\n",
              "      <td>11.0</td>\n",
              "      <td>4.0</td>\n",
              "      <td>50.0</td>\n",
              "      <td>0</td>\n",
              "      <td>0</td>\n",
              "      <td>1</td>\n",
              "      <td>0</td>\n",
              "      <td>...</td>\n",
              "      <td>0</td>\n",
              "      <td>0</td>\n",
              "      <td>0</td>\n",
              "      <td>0</td>\n",
              "      <td>0</td>\n",
              "      <td>0</td>\n",
              "      <td>0</td>\n",
              "      <td>0</td>\n",
              "      <td>0</td>\n",
              "      <td>0</td>\n",
              "    </tr>\n",
              "  </tbody>\n",
              "</table>\n",
              "<p>5 rows × 281 columns</p>\n",
              "</div>\n",
              "    <div class=\"colab-df-buttons\">\n",
              "\n",
              "  <div class=\"colab-df-container\">\n",
              "    <button class=\"colab-df-convert\" onclick=\"convertToInteractive('df-9b656e92-42fb-42cc-9541-fed331ce81ce')\"\n",
              "            title=\"Convert this dataframe to an interactive table.\"\n",
              "            style=\"display:none;\">\n",
              "\n",
              "  <svg xmlns=\"http://www.w3.org/2000/svg\" height=\"24px\" viewBox=\"0 -960 960 960\">\n",
              "    <path d=\"M120-120v-720h720v720H120Zm60-500h600v-160H180v160Zm220 220h160v-160H400v160Zm0 220h160v-160H400v160ZM180-400h160v-160H180v160Zm440 0h160v-160H620v160ZM180-180h160v-160H180v160Zm440 0h160v-160H620v160Z\"/>\n",
              "  </svg>\n",
              "    </button>\n",
              "\n",
              "  <style>\n",
              "    .colab-df-container {\n",
              "      display:flex;\n",
              "      gap: 12px;\n",
              "    }\n",
              "\n",
              "    .colab-df-convert {\n",
              "      background-color: #E8F0FE;\n",
              "      border: none;\n",
              "      border-radius: 50%;\n",
              "      cursor: pointer;\n",
              "      display: none;\n",
              "      fill: #1967D2;\n",
              "      height: 32px;\n",
              "      padding: 0 0 0 0;\n",
              "      width: 32px;\n",
              "    }\n",
              "\n",
              "    .colab-df-convert:hover {\n",
              "      background-color: #E2EBFA;\n",
              "      box-shadow: 0px 1px 2px rgba(60, 64, 67, 0.3), 0px 1px 3px 1px rgba(60, 64, 67, 0.15);\n",
              "      fill: #174EA6;\n",
              "    }\n",
              "\n",
              "    .colab-df-buttons div {\n",
              "      margin-bottom: 4px;\n",
              "    }\n",
              "\n",
              "    [theme=dark] .colab-df-convert {\n",
              "      background-color: #3B4455;\n",
              "      fill: #D2E3FC;\n",
              "    }\n",
              "\n",
              "    [theme=dark] .colab-df-convert:hover {\n",
              "      background-color: #434B5C;\n",
              "      box-shadow: 0px 1px 3px 1px rgba(0, 0, 0, 0.15);\n",
              "      filter: drop-shadow(0px 1px 2px rgba(0, 0, 0, 0.3));\n",
              "      fill: #FFFFFF;\n",
              "    }\n",
              "  </style>\n",
              "\n",
              "    <script>\n",
              "      const buttonEl =\n",
              "        document.querySelector('#df-9b656e92-42fb-42cc-9541-fed331ce81ce button.colab-df-convert');\n",
              "      buttonEl.style.display =\n",
              "        google.colab.kernel.accessAllowed ? 'block' : 'none';\n",
              "\n",
              "      async function convertToInteractive(key) {\n",
              "        const element = document.querySelector('#df-9b656e92-42fb-42cc-9541-fed331ce81ce');\n",
              "        const dataTable =\n",
              "          await google.colab.kernel.invokeFunction('convertToInteractive',\n",
              "                                                    [key], {});\n",
              "        if (!dataTable) return;\n",
              "\n",
              "        const docLinkHtml = 'Like what you see? Visit the ' +\n",
              "          '<a target=\"_blank\" href=https://colab.research.google.com/notebooks/data_table.ipynb>data table notebook</a>'\n",
              "          + ' to learn more about interactive tables.';\n",
              "        element.innerHTML = '';\n",
              "        dataTable['output_type'] = 'display_data';\n",
              "        await google.colab.output.renderOutput(dataTable, element);\n",
              "        const docLink = document.createElement('div');\n",
              "        docLink.innerHTML = docLinkHtml;\n",
              "        element.appendChild(docLink);\n",
              "      }\n",
              "    </script>\n",
              "  </div>\n",
              "\n",
              "\n",
              "<div id=\"df-35fc36cf-ae97-46aa-b840-93d5f56f0a34\">\n",
              "  <button class=\"colab-df-quickchart\" onclick=\"quickchart('df-35fc36cf-ae97-46aa-b840-93d5f56f0a34')\"\n",
              "            title=\"Suggest charts.\"\n",
              "            style=\"display:none;\">\n",
              "\n",
              "<svg xmlns=\"http://www.w3.org/2000/svg\" height=\"24px\"viewBox=\"0 0 24 24\"\n",
              "     width=\"24px\">\n",
              "    <g>\n",
              "        <path d=\"M19 3H5c-1.1 0-2 .9-2 2v14c0 1.1.9 2 2 2h14c1.1 0 2-.9 2-2V5c0-1.1-.9-2-2-2zM9 17H7v-7h2v7zm4 0h-2V7h2v10zm4 0h-2v-4h2v4z\"/>\n",
              "    </g>\n",
              "</svg>\n",
              "  </button>\n",
              "\n",
              "<style>\n",
              "  .colab-df-quickchart {\n",
              "      --bg-color: #E8F0FE;\n",
              "      --fill-color: #1967D2;\n",
              "      --hover-bg-color: #E2EBFA;\n",
              "      --hover-fill-color: #174EA6;\n",
              "      --disabled-fill-color: #AAA;\n",
              "      --disabled-bg-color: #DDD;\n",
              "  }\n",
              "\n",
              "  [theme=dark] .colab-df-quickchart {\n",
              "      --bg-color: #3B4455;\n",
              "      --fill-color: #D2E3FC;\n",
              "      --hover-bg-color: #434B5C;\n",
              "      --hover-fill-color: #FFFFFF;\n",
              "      --disabled-bg-color: #3B4455;\n",
              "      --disabled-fill-color: #666;\n",
              "  }\n",
              "\n",
              "  .colab-df-quickchart {\n",
              "    background-color: var(--bg-color);\n",
              "    border: none;\n",
              "    border-radius: 50%;\n",
              "    cursor: pointer;\n",
              "    display: none;\n",
              "    fill: var(--fill-color);\n",
              "    height: 32px;\n",
              "    padding: 0;\n",
              "    width: 32px;\n",
              "  }\n",
              "\n",
              "  .colab-df-quickchart:hover {\n",
              "    background-color: var(--hover-bg-color);\n",
              "    box-shadow: 0 1px 2px rgba(60, 64, 67, 0.3), 0 1px 3px 1px rgba(60, 64, 67, 0.15);\n",
              "    fill: var(--button-hover-fill-color);\n",
              "  }\n",
              "\n",
              "  .colab-df-quickchart-complete:disabled,\n",
              "  .colab-df-quickchart-complete:disabled:hover {\n",
              "    background-color: var(--disabled-bg-color);\n",
              "    fill: var(--disabled-fill-color);\n",
              "    box-shadow: none;\n",
              "  }\n",
              "\n",
              "  .colab-df-spinner {\n",
              "    border: 2px solid var(--fill-color);\n",
              "    border-color: transparent;\n",
              "    border-bottom-color: var(--fill-color);\n",
              "    animation:\n",
              "      spin 1s steps(1) infinite;\n",
              "  }\n",
              "\n",
              "  @keyframes spin {\n",
              "    0% {\n",
              "      border-color: transparent;\n",
              "      border-bottom-color: var(--fill-color);\n",
              "      border-left-color: var(--fill-color);\n",
              "    }\n",
              "    20% {\n",
              "      border-color: transparent;\n",
              "      border-left-color: var(--fill-color);\n",
              "      border-top-color: var(--fill-color);\n",
              "    }\n",
              "    30% {\n",
              "      border-color: transparent;\n",
              "      border-left-color: var(--fill-color);\n",
              "      border-top-color: var(--fill-color);\n",
              "      border-right-color: var(--fill-color);\n",
              "    }\n",
              "    40% {\n",
              "      border-color: transparent;\n",
              "      border-right-color: var(--fill-color);\n",
              "      border-top-color: var(--fill-color);\n",
              "    }\n",
              "    60% {\n",
              "      border-color: transparent;\n",
              "      border-right-color: var(--fill-color);\n",
              "    }\n",
              "    80% {\n",
              "      border-color: transparent;\n",
              "      border-right-color: var(--fill-color);\n",
              "      border-bottom-color: var(--fill-color);\n",
              "    }\n",
              "    90% {\n",
              "      border-color: transparent;\n",
              "      border-bottom-color: var(--fill-color);\n",
              "    }\n",
              "  }\n",
              "</style>\n",
              "\n",
              "  <script>\n",
              "    async function quickchart(key) {\n",
              "      const quickchartButtonEl =\n",
              "        document.querySelector('#' + key + ' button');\n",
              "      quickchartButtonEl.disabled = true;  // To prevent multiple clicks.\n",
              "      quickchartButtonEl.classList.add('colab-df-spinner');\n",
              "      try {\n",
              "        const charts = await google.colab.kernel.invokeFunction(\n",
              "            'suggestCharts', [key], {});\n",
              "      } catch (error) {\n",
              "        console.error('Error during call to suggestCharts:', error);\n",
              "      }\n",
              "      quickchartButtonEl.classList.remove('colab-df-spinner');\n",
              "      quickchartButtonEl.classList.add('colab-df-quickchart-complete');\n",
              "    }\n",
              "    (() => {\n",
              "      let quickchartButtonEl =\n",
              "        document.querySelector('#df-35fc36cf-ae97-46aa-b840-93d5f56f0a34 button');\n",
              "      quickchartButtonEl.style.display =\n",
              "        google.colab.kernel.accessAllowed ? 'block' : 'none';\n",
              "    })();\n",
              "  </script>\n",
              "</div>\n",
              "    </div>\n",
              "  </div>\n"
            ]
          },
          "metadata": {},
          "execution_count": 35
        }
      ]
    },
    {
      "cell_type": "code",
      "execution_count": 18,
      "id": "b2576306",
      "metadata": {
        "execution": {
          "iopub.execute_input": "2022-03-21T23:13:54.052884Z",
          "iopub.status.busy": "2022-03-21T23:13:54.050530Z",
          "iopub.status.idle": "2022-03-21T23:13:54.101867Z",
          "shell.execute_reply": "2022-03-21T23:13:54.101209Z",
          "shell.execute_reply.started": "2022-03-21T15:03:24.557986Z"
        },
        "papermill": {
          "duration": 0.084803,
          "end_time": "2022-03-21T23:13:54.102006",
          "exception": false,
          "start_time": "2022-03-21T23:13:54.017203",
          "status": "completed"
        },
        "tags": [],
        "id": "b2576306"
      },
      "outputs": [],
      "source": [
        "housing = removed_outliers\n",
        "\n",
        "# Separate predictors and response (price) variables\n",
        "X = housing.loc[:, (housing.columns != 'price_in_million_per_square_meter') & (housing.columns != 'date')]\n",
        "y = housing[['price_in_million_per_square_meter']]\n",
        "to_be_scaled = ['num_floors', 'num_bed_rooms', 'squared_meter_area', 'length_meter', 'width_meter']\n",
        "\n",
        "# Initiate scaler\n",
        "PredictorScaler=StandardScaler()\n",
        "TargetVarScaler=StandardScaler()\n",
        "\n",
        "X_scaled = X\n",
        "y_scaled = y\n",
        "\n",
        "# Storing the fit object for reference and reverse the scaling later\n",
        "PredictorScalerFit=PredictorScaler.fit(X_scaled[to_be_scaled])\n",
        "TargetVarScalerFit=TargetVarScaler.fit(y_scaled)\n",
        "\n",
        "# Generating the standardized values of X and y\n",
        "X_scaled[to_be_scaled]=PredictorScalerFit.transform(X_scaled[to_be_scaled])\n",
        "y_scaled=TargetVarScalerFit.transform(y)\n",
        "\n",
        "X_array = np.array(X_scaled.values).astype(\"float32\")\n",
        "y_array = np.array(y_scaled).astype(\"float32\")\n",
        "\n",
        "X_train, X_test, y_train, y_test = train_test_split(X_array, y_array,\n",
        "                                                    test_size=0.2,\n",
        "                                                    random_state=2023)\n",
        "\n",
        "# Sanity check to see if all train and test arrays have correct dimensions\n",
        "assert X_train.shape[0] == y_train.shape[0] and X_train.shape[1] == X_test.shape[1] and X_test.shape[0] == y_test.shape[0] and y_train.shape[1] == y_test.shape[1], \\\n",
        "\"All train and test sets should have correct dimensions.\""
      ]
    },
    {
      "cell_type": "code",
      "source": [
        "print(X_train.shape, X_test.shape, y_train.shape, y_test.shape)"
      ],
      "metadata": {
        "colab": {
          "base_uri": "https://localhost:8080/"
        },
        "id": "X-WMxN-Y_SbP",
        "outputId": "70d92919-60fd-4c85-97eb-6cae8de2b62e"
      },
      "id": "X-WMxN-Y_SbP",
      "execution_count": 19,
      "outputs": [
        {
          "output_type": "stream",
          "name": "stdout",
          "text": [
            "(5862, 280) (1466, 280) (5862, 1) (1466, 1)\n"
          ]
        }
      ]
    },
    {
      "cell_type": "markdown",
      "source": [
        "# Using Traditional Linear Regression in Statistics"
      ],
      "metadata": {
        "id": "OYBohtBqScPB"
      },
      "id": "OYBohtBqScPB"
    },
    {
      "cell_type": "code",
      "source": [
        "import numpy as np\n",
        "from sklearn.linear_model import LinearRegression"
      ],
      "metadata": {
        "id": "c27kyiENShCn"
      },
      "id": "c27kyiENShCn",
      "execution_count": 22,
      "outputs": []
    },
    {
      "cell_type": "code",
      "source": [
        "model = LinearRegression()\n",
        "model.fit(X_train, y_train)"
      ],
      "metadata": {
        "colab": {
          "base_uri": "https://localhost:8080/",
          "height": 74
        },
        "id": "OcL7zqkf9uYZ",
        "outputId": "10f4e2d2-cdee-451c-df6e-f350a0ac9550"
      },
      "id": "OcL7zqkf9uYZ",
      "execution_count": 40,
      "outputs": [
        {
          "output_type": "execute_result",
          "data": {
            "text/plain": [
              "LinearRegression()"
            ],
            "text/html": [
              "<style>#sk-container-id-2 {color: black;background-color: white;}#sk-container-id-2 pre{padding: 0;}#sk-container-id-2 div.sk-toggleable {background-color: white;}#sk-container-id-2 label.sk-toggleable__label {cursor: pointer;display: block;width: 100%;margin-bottom: 0;padding: 0.3em;box-sizing: border-box;text-align: center;}#sk-container-id-2 label.sk-toggleable__label-arrow:before {content: \"▸\";float: left;margin-right: 0.25em;color: #696969;}#sk-container-id-2 label.sk-toggleable__label-arrow:hover:before {color: black;}#sk-container-id-2 div.sk-estimator:hover label.sk-toggleable__label-arrow:before {color: black;}#sk-container-id-2 div.sk-toggleable__content {max-height: 0;max-width: 0;overflow: hidden;text-align: left;background-color: #f0f8ff;}#sk-container-id-2 div.sk-toggleable__content pre {margin: 0.2em;color: black;border-radius: 0.25em;background-color: #f0f8ff;}#sk-container-id-2 input.sk-toggleable__control:checked~div.sk-toggleable__content {max-height: 200px;max-width: 100%;overflow: auto;}#sk-container-id-2 input.sk-toggleable__control:checked~label.sk-toggleable__label-arrow:before {content: \"▾\";}#sk-container-id-2 div.sk-estimator input.sk-toggleable__control:checked~label.sk-toggleable__label {background-color: #d4ebff;}#sk-container-id-2 div.sk-label input.sk-toggleable__control:checked~label.sk-toggleable__label {background-color: #d4ebff;}#sk-container-id-2 input.sk-hidden--visually {border: 0;clip: rect(1px 1px 1px 1px);clip: rect(1px, 1px, 1px, 1px);height: 1px;margin: -1px;overflow: hidden;padding: 0;position: absolute;width: 1px;}#sk-container-id-2 div.sk-estimator {font-family: monospace;background-color: #f0f8ff;border: 1px dotted black;border-radius: 0.25em;box-sizing: border-box;margin-bottom: 0.5em;}#sk-container-id-2 div.sk-estimator:hover {background-color: #d4ebff;}#sk-container-id-2 div.sk-parallel-item::after {content: \"\";width: 100%;border-bottom: 1px solid gray;flex-grow: 1;}#sk-container-id-2 div.sk-label:hover label.sk-toggleable__label {background-color: #d4ebff;}#sk-container-id-2 div.sk-serial::before {content: \"\";position: absolute;border-left: 1px solid gray;box-sizing: border-box;top: 0;bottom: 0;left: 50%;z-index: 0;}#sk-container-id-2 div.sk-serial {display: flex;flex-direction: column;align-items: center;background-color: white;padding-right: 0.2em;padding-left: 0.2em;position: relative;}#sk-container-id-2 div.sk-item {position: relative;z-index: 1;}#sk-container-id-2 div.sk-parallel {display: flex;align-items: stretch;justify-content: center;background-color: white;position: relative;}#sk-container-id-2 div.sk-item::before, #sk-container-id-2 div.sk-parallel-item::before {content: \"\";position: absolute;border-left: 1px solid gray;box-sizing: border-box;top: 0;bottom: 0;left: 50%;z-index: -1;}#sk-container-id-2 div.sk-parallel-item {display: flex;flex-direction: column;z-index: 1;position: relative;background-color: white;}#sk-container-id-2 div.sk-parallel-item:first-child::after {align-self: flex-end;width: 50%;}#sk-container-id-2 div.sk-parallel-item:last-child::after {align-self: flex-start;width: 50%;}#sk-container-id-2 div.sk-parallel-item:only-child::after {width: 0;}#sk-container-id-2 div.sk-dashed-wrapped {border: 1px dashed gray;margin: 0 0.4em 0.5em 0.4em;box-sizing: border-box;padding-bottom: 0.4em;background-color: white;}#sk-container-id-2 div.sk-label label {font-family: monospace;font-weight: bold;display: inline-block;line-height: 1.2em;}#sk-container-id-2 div.sk-label-container {text-align: center;}#sk-container-id-2 div.sk-container {/* jupyter's `normalize.less` sets `[hidden] { display: none; }` but bootstrap.min.css set `[hidden] { display: none !important; }` so we also need the `!important` here to be able to override the default hidden behavior on the sphinx rendered scikit-learn.org. See: https://github.com/scikit-learn/scikit-learn/issues/21755 */display: inline-block !important;position: relative;}#sk-container-id-2 div.sk-text-repr-fallback {display: none;}</style><div id=\"sk-container-id-2\" class=\"sk-top-container\"><div class=\"sk-text-repr-fallback\"><pre>LinearRegression()</pre><b>In a Jupyter environment, please rerun this cell to show the HTML representation or trust the notebook. <br />On GitHub, the HTML representation is unable to render, please try loading this page with nbviewer.org.</b></div><div class=\"sk-container\" hidden><div class=\"sk-item\"><div class=\"sk-estimator sk-toggleable\"><input class=\"sk-toggleable__control sk-hidden--visually\" id=\"sk-estimator-id-2\" type=\"checkbox\" checked><label for=\"sk-estimator-id-2\" class=\"sk-toggleable__label sk-toggleable__label-arrow\">LinearRegression</label><div class=\"sk-toggleable__content\"><pre>LinearRegression()</pre></div></div></div></div></div>"
            ]
          },
          "metadata": {},
          "execution_count": 40
        }
      ]
    },
    {
      "cell_type": "code",
      "source": [
        "r_sq = model.score(X_train, y_train)\n",
        "print(f\"coefficient of determination: {r_sq}\")"
      ],
      "metadata": {
        "colab": {
          "base_uri": "https://localhost:8080/"
        },
        "id": "P9hDnveS-MIj",
        "outputId": "fc650034-1a3a-4d26-e3df-0641aaad7fc4"
      },
      "id": "P9hDnveS-MIj",
      "execution_count": 41,
      "outputs": [
        {
          "output_type": "stream",
          "name": "stdout",
          "text": [
            "coefficient of determination: 0.4749701498522668\n"
          ]
        }
      ]
    },
    {
      "cell_type": "code",
      "source": [
        "y_pred = model.intercept_ + np.sum(model.coef_ * X_test, axis=1)\n",
        "print(\"The prediction of the statistical Linear Regression model:\\n\", y_pred)"
      ],
      "metadata": {
        "colab": {
          "base_uri": "https://localhost:8080/"
        },
        "id": "e83WXgvC_mB6",
        "outputId": "1d87a0ce-fa39-41ec-c46f-d46168470587"
      },
      "id": "e83WXgvC_mB6",
      "execution_count": null,
      "outputs": [
        {
          "output_type": "stream",
          "name": "stdout",
          "text": [
            "The prediction of the statistical Linear Regression model:\n",
            " [ 0.4753418   1.5625      0.7519531  ... -0.40185547 -0.44799805\n",
            "  0.49487305]\n"
          ]
        }
      ]
    },
    {
      "cell_type": "markdown",
      "source": [
        "The results have already been scaled for better computation according to the previous commands. Therefore, we will not truly understand these numbers, except the model. Let's just consider the coefficient of determination: $R^2$ < 50% is not quite good enough! As a result, we can take Polynomial Regression into consideration."
      ],
      "metadata": {
        "id": "E7P--ZQ0BVfe"
      },
      "id": "E7P--ZQ0BVfe"
    },
    {
      "cell_type": "code",
      "source": [
        "from sklearn.preprocessing import PolynomialFeatures\n",
        "X_train_ = PolynomialFeatures(degree=2, include_bias=False).fit_transform(X_train)\n",
        "X_train_.shape"
      ],
      "metadata": {
        "id": "8y0L72RyCBdM",
        "colab": {
          "base_uri": "https://localhost:8080/"
        },
        "outputId": "7e033fa5-93f3-400f-d05c-e7d4bcbe677c"
      },
      "id": "8y0L72RyCBdM",
      "execution_count": 21,
      "outputs": [
        {
          "output_type": "execute_result",
          "data": {
            "text/plain": [
              "(5862, 39620)"
            ]
          },
          "metadata": {},
          "execution_count": 21
        }
      ]
    },
    {
      "cell_type": "code",
      "source": [
        "new_model = LinearRegression()\n",
        "new_model.fit(X_train_, y_train)"
      ],
      "metadata": {
        "colab": {
          "base_uri": "https://localhost:8080/",
          "height": 74
        },
        "id": "39IbzVDOCQXc",
        "outputId": "be9e2bc0-a0d9-462f-fd2d-cf3122a6b946"
      },
      "id": "39IbzVDOCQXc",
      "execution_count": 23,
      "outputs": [
        {
          "output_type": "execute_result",
          "data": {
            "text/plain": [
              "LinearRegression()"
            ],
            "text/html": [
              "<style>#sk-container-id-1 {color: black;background-color: white;}#sk-container-id-1 pre{padding: 0;}#sk-container-id-1 div.sk-toggleable {background-color: white;}#sk-container-id-1 label.sk-toggleable__label {cursor: pointer;display: block;width: 100%;margin-bottom: 0;padding: 0.3em;box-sizing: border-box;text-align: center;}#sk-container-id-1 label.sk-toggleable__label-arrow:before {content: \"▸\";float: left;margin-right: 0.25em;color: #696969;}#sk-container-id-1 label.sk-toggleable__label-arrow:hover:before {color: black;}#sk-container-id-1 div.sk-estimator:hover label.sk-toggleable__label-arrow:before {color: black;}#sk-container-id-1 div.sk-toggleable__content {max-height: 0;max-width: 0;overflow: hidden;text-align: left;background-color: #f0f8ff;}#sk-container-id-1 div.sk-toggleable__content pre {margin: 0.2em;color: black;border-radius: 0.25em;background-color: #f0f8ff;}#sk-container-id-1 input.sk-toggleable__control:checked~div.sk-toggleable__content {max-height: 200px;max-width: 100%;overflow: auto;}#sk-container-id-1 input.sk-toggleable__control:checked~label.sk-toggleable__label-arrow:before {content: \"▾\";}#sk-container-id-1 div.sk-estimator input.sk-toggleable__control:checked~label.sk-toggleable__label {background-color: #d4ebff;}#sk-container-id-1 div.sk-label input.sk-toggleable__control:checked~label.sk-toggleable__label {background-color: #d4ebff;}#sk-container-id-1 input.sk-hidden--visually {border: 0;clip: rect(1px 1px 1px 1px);clip: rect(1px, 1px, 1px, 1px);height: 1px;margin: -1px;overflow: hidden;padding: 0;position: absolute;width: 1px;}#sk-container-id-1 div.sk-estimator {font-family: monospace;background-color: #f0f8ff;border: 1px dotted black;border-radius: 0.25em;box-sizing: border-box;margin-bottom: 0.5em;}#sk-container-id-1 div.sk-estimator:hover {background-color: #d4ebff;}#sk-container-id-1 div.sk-parallel-item::after {content: \"\";width: 100%;border-bottom: 1px solid gray;flex-grow: 1;}#sk-container-id-1 div.sk-label:hover label.sk-toggleable__label {background-color: #d4ebff;}#sk-container-id-1 div.sk-serial::before {content: \"\";position: absolute;border-left: 1px solid gray;box-sizing: border-box;top: 0;bottom: 0;left: 50%;z-index: 0;}#sk-container-id-1 div.sk-serial {display: flex;flex-direction: column;align-items: center;background-color: white;padding-right: 0.2em;padding-left: 0.2em;position: relative;}#sk-container-id-1 div.sk-item {position: relative;z-index: 1;}#sk-container-id-1 div.sk-parallel {display: flex;align-items: stretch;justify-content: center;background-color: white;position: relative;}#sk-container-id-1 div.sk-item::before, #sk-container-id-1 div.sk-parallel-item::before {content: \"\";position: absolute;border-left: 1px solid gray;box-sizing: border-box;top: 0;bottom: 0;left: 50%;z-index: -1;}#sk-container-id-1 div.sk-parallel-item {display: flex;flex-direction: column;z-index: 1;position: relative;background-color: white;}#sk-container-id-1 div.sk-parallel-item:first-child::after {align-self: flex-end;width: 50%;}#sk-container-id-1 div.sk-parallel-item:last-child::after {align-self: flex-start;width: 50%;}#sk-container-id-1 div.sk-parallel-item:only-child::after {width: 0;}#sk-container-id-1 div.sk-dashed-wrapped {border: 1px dashed gray;margin: 0 0.4em 0.5em 0.4em;box-sizing: border-box;padding-bottom: 0.4em;background-color: white;}#sk-container-id-1 div.sk-label label {font-family: monospace;font-weight: bold;display: inline-block;line-height: 1.2em;}#sk-container-id-1 div.sk-label-container {text-align: center;}#sk-container-id-1 div.sk-container {/* jupyter's `normalize.less` sets `[hidden] { display: none; }` but bootstrap.min.css set `[hidden] { display: none !important; }` so we also need the `!important` here to be able to override the default hidden behavior on the sphinx rendered scikit-learn.org. See: https://github.com/scikit-learn/scikit-learn/issues/21755 */display: inline-block !important;position: relative;}#sk-container-id-1 div.sk-text-repr-fallback {display: none;}</style><div id=\"sk-container-id-1\" class=\"sk-top-container\"><div class=\"sk-text-repr-fallback\"><pre>LinearRegression()</pre><b>In a Jupyter environment, please rerun this cell to show the HTML representation or trust the notebook. <br />On GitHub, the HTML representation is unable to render, please try loading this page with nbviewer.org.</b></div><div class=\"sk-container\" hidden><div class=\"sk-item\"><div class=\"sk-estimator sk-toggleable\"><input class=\"sk-toggleable__control sk-hidden--visually\" id=\"sk-estimator-id-1\" type=\"checkbox\" checked><label for=\"sk-estimator-id-1\" class=\"sk-toggleable__label sk-toggleable__label-arrow\">LinearRegression</label><div class=\"sk-toggleable__content\"><pre>LinearRegression()</pre></div></div></div></div></div>"
            ]
          },
          "metadata": {},
          "execution_count": 23
        }
      ]
    },
    {
      "cell_type": "code",
      "source": [
        "r_sq = new_model.score(X_train_, y_train)\n",
        "print(f\"coefficient of determination: {r_sq}\")"
      ],
      "metadata": {
        "colab": {
          "base_uri": "https://localhost:8080/"
        },
        "id": "d7Lkw1dRCXKh",
        "outputId": "afd7eabc-8c3a-4059-f7ef-1f89b75d48e1"
      },
      "id": "d7Lkw1dRCXKh",
      "execution_count": 24,
      "outputs": [
        {
          "output_type": "stream",
          "name": "stdout",
          "text": [
            "coefficient of determination: 0.6136797454248304\n"
          ]
        }
      ]
    },
    {
      "cell_type": "markdown",
      "source": [
        "As you can see, our results when applied with Polynomial Regression have improved significantly, from < 50% to > 60%. However, we can still apply current Machine Learning methods for even better results. In this case, we try to use a traditional Machine Learning algorithm which is Random Forest, and a modern one, Neural Network. Let's dive deep into them!"
      ],
      "metadata": {
        "id": "aMzOIRUQD9p1"
      },
      "id": "aMzOIRUQD9p1"
    },
    {
      "cell_type": "markdown",
      "id": "1cd21ba5",
      "metadata": {
        "papermill": {
          "duration": 0.025655,
          "end_time": "2022-03-21T23:13:53.940487",
          "exception": false,
          "start_time": "2022-03-21T23:13:53.914832",
          "status": "completed"
        },
        "tags": [],
        "id": "1cd21ba5"
      },
      "source": [
        "# Training a Machine Learning Model for Regression"
      ]
    },
    {
      "cell_type": "markdown",
      "id": "c2d2e448",
      "metadata": {
        "papermill": {
          "duration": 0.025467,
          "end_time": "2022-03-21T23:13:54.153522",
          "exception": false,
          "start_time": "2022-03-21T23:13:54.128055",
          "status": "completed"
        },
        "tags": [],
        "id": "c2d2e448"
      },
      "source": [
        "## Finding best parameters for the Neural Network using grid search"
      ]
    },
    {
      "cell_type": "markdown",
      "id": "d301f1f8",
      "metadata": {
        "papermill": {
          "duration": 0.02531,
          "end_time": "2022-03-21T23:13:54.204844",
          "exception": false,
          "start_time": "2022-03-21T23:13:54.179534",
          "status": "completed"
        },
        "tags": [],
        "id": "d301f1f8"
      },
      "source": [
        "It is generally believed that 1 hidden layer is enough for most problems, and the number of neurons is only 10 to prevent underfitting or overfitting.\n",
        "\n",
        "Further information regarding building a good NN model could be found within the book \"Neural Network Design\" by Hagan. M, Demuth. H, Beale. Mark, and Jesús. O. Link to the book: https://hagan.okstate.edu/NNDesign.pdf#page=469"
      ]
    },
    {
      "cell_type": "code",
      "execution_count": null,
      "id": "8e0da12c",
      "metadata": {
        "execution": {
          "iopub.execute_input": "2022-03-21T23:13:54.260033Z",
          "iopub.status.busy": "2022-03-21T23:13:54.259355Z",
          "iopub.status.idle": "2022-03-21T23:18:16.249969Z",
          "shell.execute_reply": "2022-03-21T23:18:16.250554Z",
          "shell.execute_reply.started": "2022-03-21T15:03:54.32895Z"
        },
        "papermill": {
          "duration": 262.020024,
          "end_time": "2022-03-21T23:18:16.250743",
          "exception": false,
          "start_time": "2022-03-21T23:13:54.230719",
          "status": "completed"
        },
        "tags": [],
        "id": "8e0da12c",
        "outputId": "9352383a-e4c1-4253-f741-df2a582b4b67",
        "colab": {
          "base_uri": "https://localhost:8080/"
        }
      },
      "outputs": [
        {
          "output_type": "stream",
          "name": "stdout",
          "text": [
            "Epoch 1/10\n",
            "587/587 [==============================] - 2s 2ms/step - loss: 0.7706\n",
            "Epoch 2/10\n",
            "587/587 [==============================] - 1s 2ms/step - loss: 0.5812\n",
            "Epoch 3/10\n",
            "587/587 [==============================] - 1s 2ms/step - loss: 0.5524\n",
            "Epoch 4/10\n",
            "587/587 [==============================] - 1s 2ms/step - loss: 0.5413\n",
            "Epoch 5/10\n",
            "587/587 [==============================] - 1s 2ms/step - loss: 0.5329\n",
            "Epoch 6/10\n",
            "587/587 [==============================] - 1s 2ms/step - loss: 0.5267\n",
            "Epoch 7/10\n",
            "587/587 [==============================] - 1s 2ms/step - loss: 0.5248\n",
            "Epoch 8/10\n",
            "587/587 [==============================] - 1s 2ms/step - loss: 0.5199\n",
            "Epoch 9/10\n",
            "587/587 [==============================] - 1s 2ms/step - loss: 0.5165\n",
            "Epoch 10/10\n",
            "587/587 [==============================] - 1s 2ms/step - loss: 0.5116\n"
          ]
        },
        {
          "output_type": "execute_result",
          "data": {
            "text/plain": [
              "{'batch_size': 10, 'epochs': 10}"
            ]
          },
          "metadata": {},
          "execution_count": 49
        }
      ],
      "source": [
        "# Turn off TensorFlow messages and warnings\n",
        "os.environ['TF_CPP_MIN_LOG_LEVEL'] = '3'\n",
        "os.environ[\"KMP_SETTINGS\"] = \"false\"\n",
        "\n",
        "# Create the base model\n",
        "def create_regression_NN():\n",
        "    model = Sequential()\n",
        "    model.add(Dense(units=10, input_dim=X_train.shape[1], kernel_initializer='normal', activation='relu'))\n",
        "    model.add(Dense(1, kernel_initializer='normal'))\n",
        "    model.compile(loss='mean_squared_error', optimizer='adam')\n",
        "    return model\n",
        "\n",
        "# Creathe a dictionary for trial parameters\n",
        "NN_params = {'batch_size':[10, 20, 30, 50],\n",
        "             'epochs':[10, 20, 50]}\n",
        "\n",
        "NN_trial = KerasRegressor(create_regression_NN, verbose=1)\n",
        "\n",
        "# Initiate the grid search and storing best parameters for later reference\n",
        "NN_grid_search = GridSearchCV(estimator=NN_trial, param_grid=NN_params,\n",
        "                               cv=3, n_jobs = -1).fit(X_train, y_train, verbose=1)\n",
        "NN_best_params = NN_grid_search.best_params_\n",
        "\n",
        "# Showing the best parameters\n",
        "NN_best_params"
      ]
    },
    {
      "cell_type": "markdown",
      "id": "09446591",
      "metadata": {
        "papermill": {
          "duration": 0.025522,
          "end_time": "2022-03-21T23:18:16.302463",
          "exception": false,
          "start_time": "2022-03-21T23:18:16.276941",
          "status": "completed"
        },
        "tags": [],
        "id": "09446591"
      },
      "source": [
        "## Training the NN model with the best parameters"
      ]
    },
    {
      "cell_type": "code",
      "execution_count": null,
      "id": "c5396393",
      "metadata": {
        "execution": {
          "iopub.execute_input": "2022-03-21T23:18:16.363900Z",
          "iopub.status.busy": "2022-03-21T23:18:16.363192Z",
          "iopub.status.idle": "2022-03-21T23:18:21.658398Z",
          "shell.execute_reply": "2022-03-21T23:18:21.658899Z",
          "shell.execute_reply.started": "2022-03-21T15:03:45.758398Z"
        },
        "papermill": {
          "duration": 5.330551,
          "end_time": "2022-03-21T23:18:21.659088",
          "exception": false,
          "start_time": "2022-03-21T23:18:16.328537",
          "status": "completed"
        },
        "tags": [],
        "id": "c5396393",
        "outputId": "3bb04ccc-1e85-4156-f6ca-966e500a537e",
        "colab": {
          "base_uri": "https://localhost:8080/",
          "height": 587
        }
      },
      "outputs": [
        {
          "output_type": "stream",
          "name": "stdout",
          "text": [
            "Epoch 1/10\n",
            "587/587 [==============================] - 2s 2ms/step - loss: 0.7589\n",
            "Epoch 2/10\n",
            "587/587 [==============================] - 1s 2ms/step - loss: 0.5819\n",
            "Epoch 3/10\n",
            "587/587 [==============================] - 1s 2ms/step - loss: 0.5576\n",
            "Epoch 4/10\n",
            "587/587 [==============================] - 1s 2ms/step - loss: 0.5460\n",
            "Epoch 5/10\n",
            "587/587 [==============================] - 1s 2ms/step - loss: 0.5395\n",
            "Epoch 6/10\n",
            "587/587 [==============================] - 2s 3ms/step - loss: 0.5333\n",
            "Epoch 7/10\n",
            "587/587 [==============================] - 1s 2ms/step - loss: 0.5286\n",
            "Epoch 8/10\n",
            "587/587 [==============================] - 1s 2ms/step - loss: 0.5236\n",
            "Epoch 9/10\n",
            "587/587 [==============================] - 1s 2ms/step - loss: 0.5197\n",
            "Epoch 10/10\n",
            "587/587 [==============================] - 1s 2ms/step - loss: 0.5164\n",
            "46/46 [==============================] - 0s 1ms/step\n"
          ]
        },
        {
          "output_type": "execute_result",
          "data": {
            "text/plain": [
              "        Price  NN_predictions\n",
              "0   85.709999      103.130692\n",
              "1  138.369995      123.741112\n",
              "2  132.000000      107.373596\n",
              "3  125.639999       95.246170\n",
              "4  110.190002      113.992134"
            ],
            "text/html": [
              "\n",
              "  <div id=\"df-0b2d8812-f2f0-4645-84ee-2c57fa0a13bd\" class=\"colab-df-container\">\n",
              "    <div>\n",
              "<style scoped>\n",
              "    .dataframe tbody tr th:only-of-type {\n",
              "        vertical-align: middle;\n",
              "    }\n",
              "\n",
              "    .dataframe tbody tr th {\n",
              "        vertical-align: top;\n",
              "    }\n",
              "\n",
              "    .dataframe thead th {\n",
              "        text-align: right;\n",
              "    }\n",
              "</style>\n",
              "<table border=\"1\" class=\"dataframe\">\n",
              "  <thead>\n",
              "    <tr style=\"text-align: right;\">\n",
              "      <th></th>\n",
              "      <th>Price</th>\n",
              "      <th>NN_predictions</th>\n",
              "    </tr>\n",
              "  </thead>\n",
              "  <tbody>\n",
              "    <tr>\n",
              "      <th>0</th>\n",
              "      <td>85.709999</td>\n",
              "      <td>103.130692</td>\n",
              "    </tr>\n",
              "    <tr>\n",
              "      <th>1</th>\n",
              "      <td>138.369995</td>\n",
              "      <td>123.741112</td>\n",
              "    </tr>\n",
              "    <tr>\n",
              "      <th>2</th>\n",
              "      <td>132.000000</td>\n",
              "      <td>107.373596</td>\n",
              "    </tr>\n",
              "    <tr>\n",
              "      <th>3</th>\n",
              "      <td>125.639999</td>\n",
              "      <td>95.246170</td>\n",
              "    </tr>\n",
              "    <tr>\n",
              "      <th>4</th>\n",
              "      <td>110.190002</td>\n",
              "      <td>113.992134</td>\n",
              "    </tr>\n",
              "  </tbody>\n",
              "</table>\n",
              "</div>\n",
              "    <div class=\"colab-df-buttons\">\n",
              "\n",
              "  <div class=\"colab-df-container\">\n",
              "    <button class=\"colab-df-convert\" onclick=\"convertToInteractive('df-0b2d8812-f2f0-4645-84ee-2c57fa0a13bd')\"\n",
              "            title=\"Convert this dataframe to an interactive table.\"\n",
              "            style=\"display:none;\">\n",
              "\n",
              "  <svg xmlns=\"http://www.w3.org/2000/svg\" height=\"24px\" viewBox=\"0 -960 960 960\">\n",
              "    <path d=\"M120-120v-720h720v720H120Zm60-500h600v-160H180v160Zm220 220h160v-160H400v160Zm0 220h160v-160H400v160ZM180-400h160v-160H180v160Zm440 0h160v-160H620v160ZM180-180h160v-160H180v160Zm440 0h160v-160H620v160Z\"/>\n",
              "  </svg>\n",
              "    </button>\n",
              "\n",
              "  <style>\n",
              "    .colab-df-container {\n",
              "      display:flex;\n",
              "      gap: 12px;\n",
              "    }\n",
              "\n",
              "    .colab-df-convert {\n",
              "      background-color: #E8F0FE;\n",
              "      border: none;\n",
              "      border-radius: 50%;\n",
              "      cursor: pointer;\n",
              "      display: none;\n",
              "      fill: #1967D2;\n",
              "      height: 32px;\n",
              "      padding: 0 0 0 0;\n",
              "      width: 32px;\n",
              "    }\n",
              "\n",
              "    .colab-df-convert:hover {\n",
              "      background-color: #E2EBFA;\n",
              "      box-shadow: 0px 1px 2px rgba(60, 64, 67, 0.3), 0px 1px 3px 1px rgba(60, 64, 67, 0.15);\n",
              "      fill: #174EA6;\n",
              "    }\n",
              "\n",
              "    .colab-df-buttons div {\n",
              "      margin-bottom: 4px;\n",
              "    }\n",
              "\n",
              "    [theme=dark] .colab-df-convert {\n",
              "      background-color: #3B4455;\n",
              "      fill: #D2E3FC;\n",
              "    }\n",
              "\n",
              "    [theme=dark] .colab-df-convert:hover {\n",
              "      background-color: #434B5C;\n",
              "      box-shadow: 0px 1px 3px 1px rgba(0, 0, 0, 0.15);\n",
              "      filter: drop-shadow(0px 1px 2px rgba(0, 0, 0, 0.3));\n",
              "      fill: #FFFFFF;\n",
              "    }\n",
              "  </style>\n",
              "\n",
              "    <script>\n",
              "      const buttonEl =\n",
              "        document.querySelector('#df-0b2d8812-f2f0-4645-84ee-2c57fa0a13bd button.colab-df-convert');\n",
              "      buttonEl.style.display =\n",
              "        google.colab.kernel.accessAllowed ? 'block' : 'none';\n",
              "\n",
              "      async function convertToInteractive(key) {\n",
              "        const element = document.querySelector('#df-0b2d8812-f2f0-4645-84ee-2c57fa0a13bd');\n",
              "        const dataTable =\n",
              "          await google.colab.kernel.invokeFunction('convertToInteractive',\n",
              "                                                    [key], {});\n",
              "        if (!dataTable) return;\n",
              "\n",
              "        const docLinkHtml = 'Like what you see? Visit the ' +\n",
              "          '<a target=\"_blank\" href=https://colab.research.google.com/notebooks/data_table.ipynb>data table notebook</a>'\n",
              "          + ' to learn more about interactive tables.';\n",
              "        element.innerHTML = '';\n",
              "        dataTable['output_type'] = 'display_data';\n",
              "        await google.colab.output.renderOutput(dataTable, element);\n",
              "        const docLink = document.createElement('div');\n",
              "        docLink.innerHTML = docLinkHtml;\n",
              "        element.appendChild(docLink);\n",
              "      }\n",
              "    </script>\n",
              "  </div>\n",
              "\n",
              "\n",
              "<div id=\"df-479c453f-d284-4317-8e89-c5f96cdeebb7\">\n",
              "  <button class=\"colab-df-quickchart\" onclick=\"quickchart('df-479c453f-d284-4317-8e89-c5f96cdeebb7')\"\n",
              "            title=\"Suggest charts.\"\n",
              "            style=\"display:none;\">\n",
              "\n",
              "<svg xmlns=\"http://www.w3.org/2000/svg\" height=\"24px\"viewBox=\"0 0 24 24\"\n",
              "     width=\"24px\">\n",
              "    <g>\n",
              "        <path d=\"M19 3H5c-1.1 0-2 .9-2 2v14c0 1.1.9 2 2 2h14c1.1 0 2-.9 2-2V5c0-1.1-.9-2-2-2zM9 17H7v-7h2v7zm4 0h-2V7h2v10zm4 0h-2v-4h2v4z\"/>\n",
              "    </g>\n",
              "</svg>\n",
              "  </button>\n",
              "\n",
              "<style>\n",
              "  .colab-df-quickchart {\n",
              "      --bg-color: #E8F0FE;\n",
              "      --fill-color: #1967D2;\n",
              "      --hover-bg-color: #E2EBFA;\n",
              "      --hover-fill-color: #174EA6;\n",
              "      --disabled-fill-color: #AAA;\n",
              "      --disabled-bg-color: #DDD;\n",
              "  }\n",
              "\n",
              "  [theme=dark] .colab-df-quickchart {\n",
              "      --bg-color: #3B4455;\n",
              "      --fill-color: #D2E3FC;\n",
              "      --hover-bg-color: #434B5C;\n",
              "      --hover-fill-color: #FFFFFF;\n",
              "      --disabled-bg-color: #3B4455;\n",
              "      --disabled-fill-color: #666;\n",
              "  }\n",
              "\n",
              "  .colab-df-quickchart {\n",
              "    background-color: var(--bg-color);\n",
              "    border: none;\n",
              "    border-radius: 50%;\n",
              "    cursor: pointer;\n",
              "    display: none;\n",
              "    fill: var(--fill-color);\n",
              "    height: 32px;\n",
              "    padding: 0;\n",
              "    width: 32px;\n",
              "  }\n",
              "\n",
              "  .colab-df-quickchart:hover {\n",
              "    background-color: var(--hover-bg-color);\n",
              "    box-shadow: 0 1px 2px rgba(60, 64, 67, 0.3), 0 1px 3px 1px rgba(60, 64, 67, 0.15);\n",
              "    fill: var(--button-hover-fill-color);\n",
              "  }\n",
              "\n",
              "  .colab-df-quickchart-complete:disabled,\n",
              "  .colab-df-quickchart-complete:disabled:hover {\n",
              "    background-color: var(--disabled-bg-color);\n",
              "    fill: var(--disabled-fill-color);\n",
              "    box-shadow: none;\n",
              "  }\n",
              "\n",
              "  .colab-df-spinner {\n",
              "    border: 2px solid var(--fill-color);\n",
              "    border-color: transparent;\n",
              "    border-bottom-color: var(--fill-color);\n",
              "    animation:\n",
              "      spin 1s steps(1) infinite;\n",
              "  }\n",
              "\n",
              "  @keyframes spin {\n",
              "    0% {\n",
              "      border-color: transparent;\n",
              "      border-bottom-color: var(--fill-color);\n",
              "      border-left-color: var(--fill-color);\n",
              "    }\n",
              "    20% {\n",
              "      border-color: transparent;\n",
              "      border-left-color: var(--fill-color);\n",
              "      border-top-color: var(--fill-color);\n",
              "    }\n",
              "    30% {\n",
              "      border-color: transparent;\n",
              "      border-left-color: var(--fill-color);\n",
              "      border-top-color: var(--fill-color);\n",
              "      border-right-color: var(--fill-color);\n",
              "    }\n",
              "    40% {\n",
              "      border-color: transparent;\n",
              "      border-right-color: var(--fill-color);\n",
              "      border-top-color: var(--fill-color);\n",
              "    }\n",
              "    60% {\n",
              "      border-color: transparent;\n",
              "      border-right-color: var(--fill-color);\n",
              "    }\n",
              "    80% {\n",
              "      border-color: transparent;\n",
              "      border-right-color: var(--fill-color);\n",
              "      border-bottom-color: var(--fill-color);\n",
              "    }\n",
              "    90% {\n",
              "      border-color: transparent;\n",
              "      border-bottom-color: var(--fill-color);\n",
              "    }\n",
              "  }\n",
              "</style>\n",
              "\n",
              "  <script>\n",
              "    async function quickchart(key) {\n",
              "      const quickchartButtonEl =\n",
              "        document.querySelector('#' + key + ' button');\n",
              "      quickchartButtonEl.disabled = true;  // To prevent multiple clicks.\n",
              "      quickchartButtonEl.classList.add('colab-df-spinner');\n",
              "      try {\n",
              "        const charts = await google.colab.kernel.invokeFunction(\n",
              "            'suggestCharts', [key], {});\n",
              "      } catch (error) {\n",
              "        console.error('Error during call to suggestCharts:', error);\n",
              "      }\n",
              "      quickchartButtonEl.classList.remove('colab-df-spinner');\n",
              "      quickchartButtonEl.classList.add('colab-df-quickchart-complete');\n",
              "    }\n",
              "    (() => {\n",
              "      let quickchartButtonEl =\n",
              "        document.querySelector('#df-479c453f-d284-4317-8e89-c5f96cdeebb7 button');\n",
              "      quickchartButtonEl.style.display =\n",
              "        google.colab.kernel.accessAllowed ? 'block' : 'none';\n",
              "    })();\n",
              "  </script>\n",
              "</div>\n",
              "    </div>\n",
              "  </div>\n"
            ]
          },
          "metadata": {},
          "execution_count": 52
        }
      ],
      "source": [
        "# Fitting the NN to the Training set\n",
        "NN = Sequential()\n",
        "NN.add(Dense(units=10, input_dim=X_train.shape[1],\n",
        "                kernel_initializer='normal', activation='relu'))\n",
        "NN.add(Dense(1, kernel_initializer='normal'))\n",
        "NN.compile(loss='mean_squared_error', optimizer='adam')\n",
        "\n",
        "NN.fit(X_train, y_train,\n",
        "       batch_size = int(NN_best_params['batch_size']),\n",
        "        epochs = int(NN_best_params['epochs']),\n",
        "       verbose=1)\n",
        "\n",
        "# Generating Predictions on testing data\n",
        "NN_predictions = NN.predict(X_test)\n",
        "\n",
        "# Scaling the predicted Price data back to original price scale\n",
        "NN_predictions = TargetVarScalerFit.inverse_transform(NN_predictions)\n",
        "\n",
        "# Scaling the y_test Price data back to original price scale\n",
        "y_test_orig = TargetVarScalerFit.inverse_transform(y_test)\n",
        "\n",
        "# Scaling the test data back to original scale\n",
        "Test_Data = np.concatenate((PredictorScalerFit.inverse_transform(X_test[:,:5]), X_test[:,5:]), axis=1)\n",
        "\n",
        "# Recreating the dataset, now with predicted price using the NN model\n",
        "TestingData = pd.DataFrame(data=Test_Data, columns=X.columns)\n",
        "TestingData['Price'] = y_test_orig\n",
        "TestingData['NN_predictions'] = NN_predictions\n",
        "\n",
        "TestingData[['Price', 'NN_predictions']].head()"
      ]
    },
    {
      "cell_type": "markdown",
      "id": "f33313e7",
      "metadata": {
        "papermill": {
          "duration": 0.026556,
          "end_time": "2022-03-21T23:18:21.712788",
          "exception": false,
          "start_time": "2022-03-21T23:18:21.686232",
          "status": "completed"
        },
        "tags": [],
        "id": "f33313e7"
      },
      "source": [
        "# Training a Random Forest model for Regression"
      ]
    },
    {
      "cell_type": "markdown",
      "id": "65e73f8b",
      "metadata": {
        "papermill": {
          "duration": 0.026704,
          "end_time": "2022-03-21T23:18:21.767211",
          "exception": false,
          "start_time": "2022-03-21T23:18:21.740507",
          "status": "completed"
        },
        "tags": [],
        "id": "65e73f8b"
      },
      "source": [
        "## Finding best parameters for the Random Forest model using random search and grid search"
      ]
    },
    {
      "cell_type": "code",
      "execution_count": null,
      "id": "2d939cda",
      "metadata": {
        "execution": {
          "iopub.execute_input": "2022-03-21T23:18:21.827983Z",
          "iopub.status.busy": "2022-03-21T23:18:21.827337Z",
          "iopub.status.idle": "2022-03-21T23:18:21.829109Z",
          "shell.execute_reply": "2022-03-21T23:18:21.829574Z",
          "shell.execute_reply.started": "2022-03-21T15:03:45.760218Z"
        },
        "papermill": {
          "duration": 0.035831,
          "end_time": "2022-03-21T23:18:21.829747",
          "exception": false,
          "start_time": "2022-03-21T23:18:21.793916",
          "status": "completed"
        },
        "tags": [],
        "id": "2d939cda"
      },
      "outputs": [],
      "source": [
        "# Create a dictionary of random parameters for the model\n",
        "RF_random_grid = {'n_estimators': [int(x) for x in np.linspace(start = 100, stop = 1000, num = 10)],\n",
        "               'max_features': ['auto', 'sqrt', 'log2'],\n",
        "               'max_depth': [int(x) for x in np.linspace(10, 100, num = 10)],\n",
        "               'min_samples_split': [2, 5, 10],\n",
        "               'min_samples_leaf': [1, 2, 4],\n",
        "               'bootstrap': [True, False]}"
      ]
    },
    {
      "cell_type": "code",
      "execution_count": null,
      "id": "14d6bc79",
      "metadata": {
        "execution": {
          "iopub.execute_input": "2022-03-21T23:18:21.887646Z",
          "iopub.status.busy": "2022-03-21T23:18:21.886635Z",
          "iopub.status.idle": "2022-03-22T00:03:18.504032Z",
          "shell.execute_reply": "2022-03-22T00:03:18.504615Z",
          "shell.execute_reply.started": "2022-03-21T15:03:45.761576Z"
        },
        "papermill": {
          "duration": 2696.648333,
          "end_time": "2022-03-22T00:03:18.504964",
          "exception": false,
          "start_time": "2022-03-21T23:18:21.856631",
          "status": "completed"
        },
        "tags": [],
        "id": "14d6bc79",
        "outputId": "b8e327e7-8870-4e85-867c-d2f020db4156",
        "colab": {
          "base_uri": "https://localhost:8080/"
        }
      },
      "outputs": [
        {
          "output_type": "stream",
          "name": "stdout",
          "text": [
            "Fitting 2 folds for each of 50 candidates, totalling 100 fits\n"
          ]
        },
        {
          "output_type": "execute_result",
          "data": {
            "text/plain": [
              "{'n_estimators': 600,\n",
              " 'min_samples_split': 5,\n",
              " 'min_samples_leaf': 1,\n",
              " 'max_features': 'log2',\n",
              " 'max_depth': 80,\n",
              " 'bootstrap': True}"
            ]
          },
          "metadata": {},
          "execution_count": 59
        }
      ],
      "source": [
        "# Turn off TensorFlow messages and warnings\n",
        "os.environ['TF_CPP_MIN_LOG_LEVEL'] = '3'\n",
        "os.environ[\"KMP_SETTINGS\"] = \"false\"\n",
        "\n",
        "# Create the base RF model and fit the random search\n",
        "RF_regressor = RandomForestRegressor()\n",
        "RF_random_search = RandomizedSearchCV(estimator=RF_regressor, param_distributions=RF_random_grid, n_iter=50, cv=2,\n",
        "                                      verbose=1, random_state=2022, n_jobs = -1).fit(X_train, np.ravel(y_train))\n",
        "RF_best_params = RF_random_search.best_params_\n",
        "RF_best_params"
      ]
    },
    {
      "cell_type": "code",
      "execution_count": null,
      "id": "f4d32154",
      "metadata": {
        "execution": {
          "iopub.execute_input": "2022-03-22T00:03:18.568225Z",
          "iopub.status.busy": "2022-03-22T00:03:18.567475Z",
          "iopub.status.idle": "2022-03-22T00:03:18.570198Z",
          "shell.execute_reply": "2022-03-22T00:03:18.569647Z",
          "shell.execute_reply.started": "2022-03-21T15:03:45.763983Z"
        },
        "papermill": {
          "duration": 0.038152,
          "end_time": "2022-03-22T00:03:18.570348",
          "exception": false,
          "start_time": "2022-03-22T00:03:18.532196",
          "status": "completed"
        },
        "tags": [],
        "id": "f4d32154"
      },
      "outputs": [],
      "source": [
        "# Narrowing the parameters grid based on the best parameters given by the random search, then feed the grid to a grid search\n",
        "RF_param_grid = {'n_estimators': [RF_best_params['n_estimators']-100, RF_best_params['n_estimators']],\n",
        "               'max_features': ['sqrt', 'log2'],\n",
        "               'max_depth': [RF_best_params['max_depth'] - 10, RF_best_params['max_depth']],\n",
        "               'min_samples_split': [5, 10],\n",
        "               'min_samples_leaf': [1, 2],\n",
        "               'bootstrap': [True, False]}"
      ]
    },
    {
      "cell_type": "code",
      "execution_count": null,
      "id": "7e2e6b28",
      "metadata": {
        "execution": {
          "iopub.execute_input": "2022-03-22T00:03:18.633073Z",
          "iopub.status.busy": "2022-03-22T00:03:18.632350Z",
          "iopub.status.idle": "2022-03-22T00:22:31.463039Z",
          "shell.execute_reply": "2022-03-22T00:22:31.463581Z",
          "shell.execute_reply.started": "2022-03-21T15:03:45.766412Z"
        },
        "papermill": {
          "duration": 1152.86586,
          "end_time": "2022-03-22T00:22:31.463769",
          "exception": false,
          "start_time": "2022-03-22T00:03:18.597909",
          "status": "completed"
        },
        "tags": [],
        "id": "7e2e6b28",
        "outputId": "1a4997c0-0ea5-425f-82d0-59020787312e",
        "colab": {
          "base_uri": "https://localhost:8080/"
        }
      },
      "outputs": [
        {
          "output_type": "stream",
          "name": "stdout",
          "text": [
            "Fitting 2 folds for each of 64 candidates, totalling 128 fits\n"
          ]
        },
        {
          "output_type": "execute_result",
          "data": {
            "text/plain": [
              "{'bootstrap': True,\n",
              " 'max_depth': 80,\n",
              " 'max_features': 'sqrt',\n",
              " 'min_samples_leaf': 1,\n",
              " 'min_samples_split': 5,\n",
              " 'n_estimators': 600}"
            ]
          },
          "metadata": {},
          "execution_count": 71
        }
      ],
      "source": [
        "# Turn off TensorFlow messages and warnings\n",
        "os.environ['TF_CPP_MIN_LOG_LEVEL'] = '3'\n",
        "os.environ[\"KMP_SETTINGS\"] = \"false\"\n",
        "\n",
        "# Create another base RF model and fit the grid search\n",
        "RF_regressor_2 = RandomForestRegressor()\n",
        "RF_grid_search = GridSearchCV(estimator=RF_regressor_2, param_grid=RF_param_grid,\n",
        "                              cv=2, n_jobs=-1, verbose=4).fit(X_train, np.ravel(y_train))\n",
        "\n",
        "# Showing the best parameters\n",
        "RF_grid_search.best_params_"
      ]
    },
    {
      "cell_type": "markdown",
      "id": "51cf6272",
      "metadata": {
        "papermill": {
          "duration": 0.027649,
          "end_time": "2022-03-22T00:22:31.518852",
          "exception": false,
          "start_time": "2022-03-22T00:22:31.491203",
          "status": "completed"
        },
        "tags": [],
        "id": "51cf6272"
      },
      "source": [
        "## Testing the RF model with the best parameters"
      ]
    },
    {
      "cell_type": "code",
      "execution_count": null,
      "id": "8aa84a71",
      "metadata": {
        "execution": {
          "iopub.execute_input": "2022-03-22T00:22:31.577585Z",
          "iopub.status.busy": "2022-03-22T00:22:31.576605Z",
          "iopub.status.idle": "2022-03-22T00:22:31.891009Z",
          "shell.execute_reply": "2022-03-22T00:22:31.891621Z",
          "shell.execute_reply.started": "2022-03-21T15:03:45.768029Z"
        },
        "papermill": {
          "duration": 0.345483,
          "end_time": "2022-03-22T00:22:31.891798",
          "exception": false,
          "start_time": "2022-03-22T00:22:31.546315",
          "status": "completed"
        },
        "tags": [],
        "id": "8aa84a71",
        "outputId": "752dd7dd-3260-4c4f-fdd4-af83b6142cda",
        "colab": {
          "base_uri": "https://localhost:8080/",
          "height": 206
        }
      },
      "outputs": [
        {
          "output_type": "execute_result",
          "data": {
            "text/plain": [
              "        Price  NN_predictions  RF_predictions\n",
              "0   85.709999      103.130692      112.884286\n",
              "1  138.369995      123.741112      128.450722\n",
              "2  132.000000      107.373596      105.617056\n",
              "3  125.639999       95.246170       84.380990\n",
              "4  110.190002      113.992134      107.257111"
            ],
            "text/html": [
              "\n",
              "  <div id=\"df-a929351e-84a5-49d4-9e8c-0b6ef5737286\" class=\"colab-df-container\">\n",
              "    <div>\n",
              "<style scoped>\n",
              "    .dataframe tbody tr th:only-of-type {\n",
              "        vertical-align: middle;\n",
              "    }\n",
              "\n",
              "    .dataframe tbody tr th {\n",
              "        vertical-align: top;\n",
              "    }\n",
              "\n",
              "    .dataframe thead th {\n",
              "        text-align: right;\n",
              "    }\n",
              "</style>\n",
              "<table border=\"1\" class=\"dataframe\">\n",
              "  <thead>\n",
              "    <tr style=\"text-align: right;\">\n",
              "      <th></th>\n",
              "      <th>Price</th>\n",
              "      <th>NN_predictions</th>\n",
              "      <th>RF_predictions</th>\n",
              "    </tr>\n",
              "  </thead>\n",
              "  <tbody>\n",
              "    <tr>\n",
              "      <th>0</th>\n",
              "      <td>85.709999</td>\n",
              "      <td>103.130692</td>\n",
              "      <td>112.884286</td>\n",
              "    </tr>\n",
              "    <tr>\n",
              "      <th>1</th>\n",
              "      <td>138.369995</td>\n",
              "      <td>123.741112</td>\n",
              "      <td>128.450722</td>\n",
              "    </tr>\n",
              "    <tr>\n",
              "      <th>2</th>\n",
              "      <td>132.000000</td>\n",
              "      <td>107.373596</td>\n",
              "      <td>105.617056</td>\n",
              "    </tr>\n",
              "    <tr>\n",
              "      <th>3</th>\n",
              "      <td>125.639999</td>\n",
              "      <td>95.246170</td>\n",
              "      <td>84.380990</td>\n",
              "    </tr>\n",
              "    <tr>\n",
              "      <th>4</th>\n",
              "      <td>110.190002</td>\n",
              "      <td>113.992134</td>\n",
              "      <td>107.257111</td>\n",
              "    </tr>\n",
              "  </tbody>\n",
              "</table>\n",
              "</div>\n",
              "    <div class=\"colab-df-buttons\">\n",
              "\n",
              "  <div class=\"colab-df-container\">\n",
              "    <button class=\"colab-df-convert\" onclick=\"convertToInteractive('df-a929351e-84a5-49d4-9e8c-0b6ef5737286')\"\n",
              "            title=\"Convert this dataframe to an interactive table.\"\n",
              "            style=\"display:none;\">\n",
              "\n",
              "  <svg xmlns=\"http://www.w3.org/2000/svg\" height=\"24px\" viewBox=\"0 -960 960 960\">\n",
              "    <path d=\"M120-120v-720h720v720H120Zm60-500h600v-160H180v160Zm220 220h160v-160H400v160Zm0 220h160v-160H400v160ZM180-400h160v-160H180v160Zm440 0h160v-160H620v160ZM180-180h160v-160H180v160Zm440 0h160v-160H620v160Z\"/>\n",
              "  </svg>\n",
              "    </button>\n",
              "\n",
              "  <style>\n",
              "    .colab-df-container {\n",
              "      display:flex;\n",
              "      gap: 12px;\n",
              "    }\n",
              "\n",
              "    .colab-df-convert {\n",
              "      background-color: #E8F0FE;\n",
              "      border: none;\n",
              "      border-radius: 50%;\n",
              "      cursor: pointer;\n",
              "      display: none;\n",
              "      fill: #1967D2;\n",
              "      height: 32px;\n",
              "      padding: 0 0 0 0;\n",
              "      width: 32px;\n",
              "    }\n",
              "\n",
              "    .colab-df-convert:hover {\n",
              "      background-color: #E2EBFA;\n",
              "      box-shadow: 0px 1px 2px rgba(60, 64, 67, 0.3), 0px 1px 3px 1px rgba(60, 64, 67, 0.15);\n",
              "      fill: #174EA6;\n",
              "    }\n",
              "\n",
              "    .colab-df-buttons div {\n",
              "      margin-bottom: 4px;\n",
              "    }\n",
              "\n",
              "    [theme=dark] .colab-df-convert {\n",
              "      background-color: #3B4455;\n",
              "      fill: #D2E3FC;\n",
              "    }\n",
              "\n",
              "    [theme=dark] .colab-df-convert:hover {\n",
              "      background-color: #434B5C;\n",
              "      box-shadow: 0px 1px 3px 1px rgba(0, 0, 0, 0.15);\n",
              "      filter: drop-shadow(0px 1px 2px rgba(0, 0, 0, 0.3));\n",
              "      fill: #FFFFFF;\n",
              "    }\n",
              "  </style>\n",
              "\n",
              "    <script>\n",
              "      const buttonEl =\n",
              "        document.querySelector('#df-a929351e-84a5-49d4-9e8c-0b6ef5737286 button.colab-df-convert');\n",
              "      buttonEl.style.display =\n",
              "        google.colab.kernel.accessAllowed ? 'block' : 'none';\n",
              "\n",
              "      async function convertToInteractive(key) {\n",
              "        const element = document.querySelector('#df-a929351e-84a5-49d4-9e8c-0b6ef5737286');\n",
              "        const dataTable =\n",
              "          await google.colab.kernel.invokeFunction('convertToInteractive',\n",
              "                                                    [key], {});\n",
              "        if (!dataTable) return;\n",
              "\n",
              "        const docLinkHtml = 'Like what you see? Visit the ' +\n",
              "          '<a target=\"_blank\" href=https://colab.research.google.com/notebooks/data_table.ipynb>data table notebook</a>'\n",
              "          + ' to learn more about interactive tables.';\n",
              "        element.innerHTML = '';\n",
              "        dataTable['output_type'] = 'display_data';\n",
              "        await google.colab.output.renderOutput(dataTable, element);\n",
              "        const docLink = document.createElement('div');\n",
              "        docLink.innerHTML = docLinkHtml;\n",
              "        element.appendChild(docLink);\n",
              "      }\n",
              "    </script>\n",
              "  </div>\n",
              "\n",
              "\n",
              "<div id=\"df-eb4a2b27-5f8f-497c-95c1-53177bee5245\">\n",
              "  <button class=\"colab-df-quickchart\" onclick=\"quickchart('df-eb4a2b27-5f8f-497c-95c1-53177bee5245')\"\n",
              "            title=\"Suggest charts.\"\n",
              "            style=\"display:none;\">\n",
              "\n",
              "<svg xmlns=\"http://www.w3.org/2000/svg\" height=\"24px\"viewBox=\"0 0 24 24\"\n",
              "     width=\"24px\">\n",
              "    <g>\n",
              "        <path d=\"M19 3H5c-1.1 0-2 .9-2 2v14c0 1.1.9 2 2 2h14c1.1 0 2-.9 2-2V5c0-1.1-.9-2-2-2zM9 17H7v-7h2v7zm4 0h-2V7h2v10zm4 0h-2v-4h2v4z\"/>\n",
              "    </g>\n",
              "</svg>\n",
              "  </button>\n",
              "\n",
              "<style>\n",
              "  .colab-df-quickchart {\n",
              "      --bg-color: #E8F0FE;\n",
              "      --fill-color: #1967D2;\n",
              "      --hover-bg-color: #E2EBFA;\n",
              "      --hover-fill-color: #174EA6;\n",
              "      --disabled-fill-color: #AAA;\n",
              "      --disabled-bg-color: #DDD;\n",
              "  }\n",
              "\n",
              "  [theme=dark] .colab-df-quickchart {\n",
              "      --bg-color: #3B4455;\n",
              "      --fill-color: #D2E3FC;\n",
              "      --hover-bg-color: #434B5C;\n",
              "      --hover-fill-color: #FFFFFF;\n",
              "      --disabled-bg-color: #3B4455;\n",
              "      --disabled-fill-color: #666;\n",
              "  }\n",
              "\n",
              "  .colab-df-quickchart {\n",
              "    background-color: var(--bg-color);\n",
              "    border: none;\n",
              "    border-radius: 50%;\n",
              "    cursor: pointer;\n",
              "    display: none;\n",
              "    fill: var(--fill-color);\n",
              "    height: 32px;\n",
              "    padding: 0;\n",
              "    width: 32px;\n",
              "  }\n",
              "\n",
              "  .colab-df-quickchart:hover {\n",
              "    background-color: var(--hover-bg-color);\n",
              "    box-shadow: 0 1px 2px rgba(60, 64, 67, 0.3), 0 1px 3px 1px rgba(60, 64, 67, 0.15);\n",
              "    fill: var(--button-hover-fill-color);\n",
              "  }\n",
              "\n",
              "  .colab-df-quickchart-complete:disabled,\n",
              "  .colab-df-quickchart-complete:disabled:hover {\n",
              "    background-color: var(--disabled-bg-color);\n",
              "    fill: var(--disabled-fill-color);\n",
              "    box-shadow: none;\n",
              "  }\n",
              "\n",
              "  .colab-df-spinner {\n",
              "    border: 2px solid var(--fill-color);\n",
              "    border-color: transparent;\n",
              "    border-bottom-color: var(--fill-color);\n",
              "    animation:\n",
              "      spin 1s steps(1) infinite;\n",
              "  }\n",
              "\n",
              "  @keyframes spin {\n",
              "    0% {\n",
              "      border-color: transparent;\n",
              "      border-bottom-color: var(--fill-color);\n",
              "      border-left-color: var(--fill-color);\n",
              "    }\n",
              "    20% {\n",
              "      border-color: transparent;\n",
              "      border-left-color: var(--fill-color);\n",
              "      border-top-color: var(--fill-color);\n",
              "    }\n",
              "    30% {\n",
              "      border-color: transparent;\n",
              "      border-left-color: var(--fill-color);\n",
              "      border-top-color: var(--fill-color);\n",
              "      border-right-color: var(--fill-color);\n",
              "    }\n",
              "    40% {\n",
              "      border-color: transparent;\n",
              "      border-right-color: var(--fill-color);\n",
              "      border-top-color: var(--fill-color);\n",
              "    }\n",
              "    60% {\n",
              "      border-color: transparent;\n",
              "      border-right-color: var(--fill-color);\n",
              "    }\n",
              "    80% {\n",
              "      border-color: transparent;\n",
              "      border-right-color: var(--fill-color);\n",
              "      border-bottom-color: var(--fill-color);\n",
              "    }\n",
              "    90% {\n",
              "      border-color: transparent;\n",
              "      border-bottom-color: var(--fill-color);\n",
              "    }\n",
              "  }\n",
              "</style>\n",
              "\n",
              "  <script>\n",
              "    async function quickchart(key) {\n",
              "      const quickchartButtonEl =\n",
              "        document.querySelector('#' + key + ' button');\n",
              "      quickchartButtonEl.disabled = true;  // To prevent multiple clicks.\n",
              "      quickchartButtonEl.classList.add('colab-df-spinner');\n",
              "      try {\n",
              "        const charts = await google.colab.kernel.invokeFunction(\n",
              "            'suggestCharts', [key], {});\n",
              "      } catch (error) {\n",
              "        console.error('Error during call to suggestCharts:', error);\n",
              "      }\n",
              "      quickchartButtonEl.classList.remove('colab-df-spinner');\n",
              "      quickchartButtonEl.classList.add('colab-df-quickchart-complete');\n",
              "    }\n",
              "    (() => {\n",
              "      let quickchartButtonEl =\n",
              "        document.querySelector('#df-eb4a2b27-5f8f-497c-95c1-53177bee5245 button');\n",
              "      quickchartButtonEl.style.display =\n",
              "        google.colab.kernel.accessAllowed ? 'block' : 'none';\n",
              "    })();\n",
              "  </script>\n",
              "</div>\n",
              "    </div>\n",
              "  </div>\n"
            ]
          },
          "metadata": {},
          "execution_count": 74
        }
      ],
      "source": [
        "# Fitting a RF model with the best parameters\n",
        "RF = RF_grid_search.best_estimator_\n",
        "\n",
        "# Generating Predictions on testing data\n",
        "RF_predictions = RF.predict(X_test)\n",
        "\n",
        "# Scaling the predicted Price data back to original price scale\n",
        "RF_predictions = TargetVarScalerFit.inverse_transform(np.resize(RF_predictions, (1466,1)))\n",
        "TestingData['RF_predictions'] = RF_predictions"
      ]
    },
    {
      "cell_type": "code",
      "source": [
        "LR_predictions = model.predict(X_test)\n",
        "LR_predictions = TargetVarScalerFit.inverse_transform(LR_predictions)\n",
        "TestingData['LR_predictions'] = LR_predictions\n",
        "from sklearn.metrics import mean_squared_error\n",
        "np.sqrt(mean_squared_error(LR_predictions, y_test))"
      ],
      "metadata": {
        "id": "VveJJPZJi1nM",
        "colab": {
          "base_uri": "https://localhost:8080/"
        },
        "outputId": "ec6ad1aa-1d23-4e74-c205-c3d0e2084783"
      },
      "id": "VveJJPZJi1nM",
      "execution_count": 47,
      "outputs": [
        {
          "output_type": "execute_result",
          "data": {
            "text/plain": [
              "382.58224"
            ]
          },
          "metadata": {},
          "execution_count": 47
        }
      ]
    },
    {
      "cell_type": "code",
      "source": [
        "X_test_ = PolynomialFeatures(degree=2, include_bias=False).fit_transform(X_test)\n",
        "X_test_.shape"
      ],
      "metadata": {
        "colab": {
          "base_uri": "https://localhost:8080/"
        },
        "id": "yoAXO5Q3H3yx",
        "outputId": "5abea7c1-4da9-41d2-8276-5516fac7ae6b"
      },
      "id": "yoAXO5Q3H3yx",
      "execution_count": 27,
      "outputs": [
        {
          "output_type": "execute_result",
          "data": {
            "text/plain": [
              "(1466, 39620)"
            ]
          },
          "metadata": {},
          "execution_count": 27
        }
      ]
    },
    {
      "cell_type": "code",
      "source": [
        "# Scaling the y_test Price data back to original price scale\n",
        "y_test_orig = TargetVarScalerFit.inverse_transform(y_test)\n",
        "\n",
        "# Scaling the test data back to original scale\n",
        "Test_Data = np.concatenate((PredictorScalerFit.inverse_transform(X_test[:,:5]), X_test[:,5:]), axis=1)\n",
        "\n",
        "# Recreating the dataset, now with predicted price using the NN model\n",
        "TestingData = pd.DataFrame(data=Test_Data, columns=X.columns)\n",
        "TestingData['Price'] = y_test_orig"
      ],
      "metadata": {
        "id": "MxMmwDx0LA03"
      },
      "id": "MxMmwDx0LA03",
      "execution_count": 55,
      "outputs": []
    },
    {
      "cell_type": "code",
      "source": [
        "PR_predictions = new_model.predict(X_test_)\n",
        "PR_predictions = TargetVarScalerFit.inverse_transform(PR_predictions)\n",
        "TestingData['PR_predictions'] = PR_predictions\n",
        "from sklearn.metrics import mean_squared_error\n",
        "np.sqrt(mean_squared_error(PR_predictions, y_test))"
      ],
      "metadata": {
        "colab": {
          "base_uri": "https://localhost:8080/"
        },
        "id": "0xIGyqWsFtwp",
        "outputId": "5f40c792-48fb-4aeb-c6a1-44b4a7a47f81"
      },
      "id": "0xIGyqWsFtwp",
      "execution_count": 58,
      "outputs": [
        {
          "output_type": "execute_result",
          "data": {
            "text/plain": [
              "13389.269"
            ]
          },
          "metadata": {},
          "execution_count": 58
        }
      ]
    },
    {
      "cell_type": "code",
      "source": [
        "TestingData['PR_predictions']"
      ],
      "metadata": {
        "colab": {
          "base_uri": "https://localhost:8080/"
        },
        "id": "2RIYhVTuLGQr",
        "outputId": "54720fa9-b004-4ce8-cc9e-52a308557847"
      },
      "id": "2RIYhVTuLGQr",
      "execution_count": 59,
      "outputs": [
        {
          "output_type": "execute_result",
          "data": {
            "text/plain": [
              "0          146.405167\n",
              "1          168.620789\n",
              "2          127.057732\n",
              "3           90.859802\n",
              "4          147.195190\n",
              "            ...      \n",
              "1461        78.327431\n",
              "1462    130826.593750\n",
              "1463        74.437637\n",
              "1464        77.654808\n",
              "1465       100.416130\n",
              "Name: PR_predictions, Length: 1466, dtype: float32"
            ]
          },
          "metadata": {},
          "execution_count": 59
        }
      ]
    },
    {
      "cell_type": "code",
      "source": [
        "TestingData[['Price', 'NN_predictions', 'RF_predictions', 'LR_predictions']].head()"
      ],
      "metadata": {
        "colab": {
          "base_uri": "https://localhost:8080/",
          "height": 206
        },
        "id": "659TNsp0mw8k",
        "outputId": "9c779730-02db-4778-d911-cba8d1ce8a42"
      },
      "id": "659TNsp0mw8k",
      "execution_count": null,
      "outputs": [
        {
          "output_type": "execute_result",
          "data": {
            "text/plain": [
              "        Price  NN_predictions  RF_predictions  LR_predictions\n",
              "0   85.709999      103.130692      112.884286      100.638222\n",
              "1  138.369995      123.741112      128.450722      128.888412\n",
              "2  132.000000      107.373596      105.617056      107.821335\n",
              "3  125.639999       95.246170       84.380990       95.961586\n",
              "4  110.190002      113.992134      107.257111      112.923119"
            ],
            "text/html": [
              "\n",
              "  <div id=\"df-fd703115-0fa9-40f1-8da2-90071ed6560d\" class=\"colab-df-container\">\n",
              "    <div>\n",
              "<style scoped>\n",
              "    .dataframe tbody tr th:only-of-type {\n",
              "        vertical-align: middle;\n",
              "    }\n",
              "\n",
              "    .dataframe tbody tr th {\n",
              "        vertical-align: top;\n",
              "    }\n",
              "\n",
              "    .dataframe thead th {\n",
              "        text-align: right;\n",
              "    }\n",
              "</style>\n",
              "<table border=\"1\" class=\"dataframe\">\n",
              "  <thead>\n",
              "    <tr style=\"text-align: right;\">\n",
              "      <th></th>\n",
              "      <th>Price</th>\n",
              "      <th>NN_predictions</th>\n",
              "      <th>RF_predictions</th>\n",
              "      <th>LR_predictions</th>\n",
              "    </tr>\n",
              "  </thead>\n",
              "  <tbody>\n",
              "    <tr>\n",
              "      <th>0</th>\n",
              "      <td>85.709999</td>\n",
              "      <td>103.130692</td>\n",
              "      <td>112.884286</td>\n",
              "      <td>100.638222</td>\n",
              "    </tr>\n",
              "    <tr>\n",
              "      <th>1</th>\n",
              "      <td>138.369995</td>\n",
              "      <td>123.741112</td>\n",
              "      <td>128.450722</td>\n",
              "      <td>128.888412</td>\n",
              "    </tr>\n",
              "    <tr>\n",
              "      <th>2</th>\n",
              "      <td>132.000000</td>\n",
              "      <td>107.373596</td>\n",
              "      <td>105.617056</td>\n",
              "      <td>107.821335</td>\n",
              "    </tr>\n",
              "    <tr>\n",
              "      <th>3</th>\n",
              "      <td>125.639999</td>\n",
              "      <td>95.246170</td>\n",
              "      <td>84.380990</td>\n",
              "      <td>95.961586</td>\n",
              "    </tr>\n",
              "    <tr>\n",
              "      <th>4</th>\n",
              "      <td>110.190002</td>\n",
              "      <td>113.992134</td>\n",
              "      <td>107.257111</td>\n",
              "      <td>112.923119</td>\n",
              "    </tr>\n",
              "  </tbody>\n",
              "</table>\n",
              "</div>\n",
              "    <div class=\"colab-df-buttons\">\n",
              "\n",
              "  <div class=\"colab-df-container\">\n",
              "    <button class=\"colab-df-convert\" onclick=\"convertToInteractive('df-fd703115-0fa9-40f1-8da2-90071ed6560d')\"\n",
              "            title=\"Convert this dataframe to an interactive table.\"\n",
              "            style=\"display:none;\">\n",
              "\n",
              "  <svg xmlns=\"http://www.w3.org/2000/svg\" height=\"24px\" viewBox=\"0 -960 960 960\">\n",
              "    <path d=\"M120-120v-720h720v720H120Zm60-500h600v-160H180v160Zm220 220h160v-160H400v160Zm0 220h160v-160H400v160ZM180-400h160v-160H180v160Zm440 0h160v-160H620v160ZM180-180h160v-160H180v160Zm440 0h160v-160H620v160Z\"/>\n",
              "  </svg>\n",
              "    </button>\n",
              "\n",
              "  <style>\n",
              "    .colab-df-container {\n",
              "      display:flex;\n",
              "      gap: 12px;\n",
              "    }\n",
              "\n",
              "    .colab-df-convert {\n",
              "      background-color: #E8F0FE;\n",
              "      border: none;\n",
              "      border-radius: 50%;\n",
              "      cursor: pointer;\n",
              "      display: none;\n",
              "      fill: #1967D2;\n",
              "      height: 32px;\n",
              "      padding: 0 0 0 0;\n",
              "      width: 32px;\n",
              "    }\n",
              "\n",
              "    .colab-df-convert:hover {\n",
              "      background-color: #E2EBFA;\n",
              "      box-shadow: 0px 1px 2px rgba(60, 64, 67, 0.3), 0px 1px 3px 1px rgba(60, 64, 67, 0.15);\n",
              "      fill: #174EA6;\n",
              "    }\n",
              "\n",
              "    .colab-df-buttons div {\n",
              "      margin-bottom: 4px;\n",
              "    }\n",
              "\n",
              "    [theme=dark] .colab-df-convert {\n",
              "      background-color: #3B4455;\n",
              "      fill: #D2E3FC;\n",
              "    }\n",
              "\n",
              "    [theme=dark] .colab-df-convert:hover {\n",
              "      background-color: #434B5C;\n",
              "      box-shadow: 0px 1px 3px 1px rgba(0, 0, 0, 0.15);\n",
              "      filter: drop-shadow(0px 1px 2px rgba(0, 0, 0, 0.3));\n",
              "      fill: #FFFFFF;\n",
              "    }\n",
              "  </style>\n",
              "\n",
              "    <script>\n",
              "      const buttonEl =\n",
              "        document.querySelector('#df-fd703115-0fa9-40f1-8da2-90071ed6560d button.colab-df-convert');\n",
              "      buttonEl.style.display =\n",
              "        google.colab.kernel.accessAllowed ? 'block' : 'none';\n",
              "\n",
              "      async function convertToInteractive(key) {\n",
              "        const element = document.querySelector('#df-fd703115-0fa9-40f1-8da2-90071ed6560d');\n",
              "        const dataTable =\n",
              "          await google.colab.kernel.invokeFunction('convertToInteractive',\n",
              "                                                    [key], {});\n",
              "        if (!dataTable) return;\n",
              "\n",
              "        const docLinkHtml = 'Like what you see? Visit the ' +\n",
              "          '<a target=\"_blank\" href=https://colab.research.google.com/notebooks/data_table.ipynb>data table notebook</a>'\n",
              "          + ' to learn more about interactive tables.';\n",
              "        element.innerHTML = '';\n",
              "        dataTable['output_type'] = 'display_data';\n",
              "        await google.colab.output.renderOutput(dataTable, element);\n",
              "        const docLink = document.createElement('div');\n",
              "        docLink.innerHTML = docLinkHtml;\n",
              "        element.appendChild(docLink);\n",
              "      }\n",
              "    </script>\n",
              "  </div>\n",
              "\n",
              "\n",
              "<div id=\"df-9d797a82-64c9-4d8e-b248-97591403c3c7\">\n",
              "  <button class=\"colab-df-quickchart\" onclick=\"quickchart('df-9d797a82-64c9-4d8e-b248-97591403c3c7')\"\n",
              "            title=\"Suggest charts.\"\n",
              "            style=\"display:none;\">\n",
              "\n",
              "<svg xmlns=\"http://www.w3.org/2000/svg\" height=\"24px\"viewBox=\"0 0 24 24\"\n",
              "     width=\"24px\">\n",
              "    <g>\n",
              "        <path d=\"M19 3H5c-1.1 0-2 .9-2 2v14c0 1.1.9 2 2 2h14c1.1 0 2-.9 2-2V5c0-1.1-.9-2-2-2zM9 17H7v-7h2v7zm4 0h-2V7h2v10zm4 0h-2v-4h2v4z\"/>\n",
              "    </g>\n",
              "</svg>\n",
              "  </button>\n",
              "\n",
              "<style>\n",
              "  .colab-df-quickchart {\n",
              "      --bg-color: #E8F0FE;\n",
              "      --fill-color: #1967D2;\n",
              "      --hover-bg-color: #E2EBFA;\n",
              "      --hover-fill-color: #174EA6;\n",
              "      --disabled-fill-color: #AAA;\n",
              "      --disabled-bg-color: #DDD;\n",
              "  }\n",
              "\n",
              "  [theme=dark] .colab-df-quickchart {\n",
              "      --bg-color: #3B4455;\n",
              "      --fill-color: #D2E3FC;\n",
              "      --hover-bg-color: #434B5C;\n",
              "      --hover-fill-color: #FFFFFF;\n",
              "      --disabled-bg-color: #3B4455;\n",
              "      --disabled-fill-color: #666;\n",
              "  }\n",
              "\n",
              "  .colab-df-quickchart {\n",
              "    background-color: var(--bg-color);\n",
              "    border: none;\n",
              "    border-radius: 50%;\n",
              "    cursor: pointer;\n",
              "    display: none;\n",
              "    fill: var(--fill-color);\n",
              "    height: 32px;\n",
              "    padding: 0;\n",
              "    width: 32px;\n",
              "  }\n",
              "\n",
              "  .colab-df-quickchart:hover {\n",
              "    background-color: var(--hover-bg-color);\n",
              "    box-shadow: 0 1px 2px rgba(60, 64, 67, 0.3), 0 1px 3px 1px rgba(60, 64, 67, 0.15);\n",
              "    fill: var(--button-hover-fill-color);\n",
              "  }\n",
              "\n",
              "  .colab-df-quickchart-complete:disabled,\n",
              "  .colab-df-quickchart-complete:disabled:hover {\n",
              "    background-color: var(--disabled-bg-color);\n",
              "    fill: var(--disabled-fill-color);\n",
              "    box-shadow: none;\n",
              "  }\n",
              "\n",
              "  .colab-df-spinner {\n",
              "    border: 2px solid var(--fill-color);\n",
              "    border-color: transparent;\n",
              "    border-bottom-color: var(--fill-color);\n",
              "    animation:\n",
              "      spin 1s steps(1) infinite;\n",
              "  }\n",
              "\n",
              "  @keyframes spin {\n",
              "    0% {\n",
              "      border-color: transparent;\n",
              "      border-bottom-color: var(--fill-color);\n",
              "      border-left-color: var(--fill-color);\n",
              "    }\n",
              "    20% {\n",
              "      border-color: transparent;\n",
              "      border-left-color: var(--fill-color);\n",
              "      border-top-color: var(--fill-color);\n",
              "    }\n",
              "    30% {\n",
              "      border-color: transparent;\n",
              "      border-left-color: var(--fill-color);\n",
              "      border-top-color: var(--fill-color);\n",
              "      border-right-color: var(--fill-color);\n",
              "    }\n",
              "    40% {\n",
              "      border-color: transparent;\n",
              "      border-right-color: var(--fill-color);\n",
              "      border-top-color: var(--fill-color);\n",
              "    }\n",
              "    60% {\n",
              "      border-color: transparent;\n",
              "      border-right-color: var(--fill-color);\n",
              "    }\n",
              "    80% {\n",
              "      border-color: transparent;\n",
              "      border-right-color: var(--fill-color);\n",
              "      border-bottom-color: var(--fill-color);\n",
              "    }\n",
              "    90% {\n",
              "      border-color: transparent;\n",
              "      border-bottom-color: var(--fill-color);\n",
              "    }\n",
              "  }\n",
              "</style>\n",
              "\n",
              "  <script>\n",
              "    async function quickchart(key) {\n",
              "      const quickchartButtonEl =\n",
              "        document.querySelector('#' + key + ' button');\n",
              "      quickchartButtonEl.disabled = true;  // To prevent multiple clicks.\n",
              "      quickchartButtonEl.classList.add('colab-df-spinner');\n",
              "      try {\n",
              "        const charts = await google.colab.kernel.invokeFunction(\n",
              "            'suggestCharts', [key], {});\n",
              "      } catch (error) {\n",
              "        console.error('Error during call to suggestCharts:', error);\n",
              "      }\n",
              "      quickchartButtonEl.classList.remove('colab-df-spinner');\n",
              "      quickchartButtonEl.classList.add('colab-df-quickchart-complete');\n",
              "    }\n",
              "    (() => {\n",
              "      let quickchartButtonEl =\n",
              "        document.querySelector('#df-9d797a82-64c9-4d8e-b248-97591403c3c7 button');\n",
              "      quickchartButtonEl.style.display =\n",
              "        google.colab.kernel.accessAllowed ? 'block' : 'none';\n",
              "    })();\n",
              "  </script>\n",
              "</div>\n",
              "    </div>\n",
              "  </div>\n"
            ]
          },
          "metadata": {},
          "execution_count": 89
        }
      ]
    },
    {
      "cell_type": "markdown",
      "id": "4a5c2ab7",
      "metadata": {
        "papermill": {
          "duration": 0.028633,
          "end_time": "2022-03-22T00:22:31.948564",
          "exception": false,
          "start_time": "2022-03-22T00:22:31.919931",
          "status": "completed"
        },
        "tags": [],
        "id": "4a5c2ab7"
      },
      "source": [
        "# Final result: Neural Network vs. Random Forest vs. Linear Regression"
      ]
    },
    {
      "cell_type": "code",
      "execution_count": 49,
      "id": "9fbf06ac",
      "metadata": {
        "execution": {
          "iopub.execute_input": "2022-03-22T00:22:32.009721Z",
          "iopub.status.busy": "2022-03-22T00:22:32.008779Z",
          "iopub.status.idle": "2022-03-22T00:22:32.012869Z",
          "shell.execute_reply": "2022-03-22T00:22:32.013474Z",
          "shell.execute_reply.started": "2022-03-21T15:03:45.769697Z"
        },
        "papermill": {
          "duration": 0.03678,
          "end_time": "2022-03-22T00:22:32.013640",
          "exception": false,
          "start_time": "2022-03-22T00:22:31.976860",
          "status": "completed"
        },
        "tags": [],
        "id": "9fbf06ac"
      },
      "outputs": [],
      "source": [
        "# Define a function evaluate the predictions\n",
        "def Accuracy_Score(orig, pred):\n",
        "    MAPE = np.mean(100 * (np.abs(orig - pred) / orig))\n",
        "    return(100 - MAPE)"
      ]
    },
    {
      "cell_type": "code",
      "execution_count": null,
      "id": "0d3231ad",
      "metadata": {
        "execution": {
          "iopub.execute_input": "2022-03-22T00:22:32.074861Z",
          "iopub.status.busy": "2022-03-22T00:22:32.073874Z",
          "iopub.status.idle": "2022-03-22T00:22:32.084081Z",
          "shell.execute_reply": "2022-03-22T00:22:32.084816Z",
          "shell.execute_reply.started": "2022-03-21T15:03:45.771238Z"
        },
        "papermill": {
          "duration": 0.043209,
          "end_time": "2022-03-22T00:22:32.085049",
          "exception": false,
          "start_time": "2022-03-22T00:22:32.041840",
          "status": "completed"
        },
        "tags": [],
        "id": "0d3231ad",
        "outputId": "4057c1f5-629c-4900-a0c1-20d1857aca96",
        "colab": {
          "base_uri": "https://localhost:8080/"
        }
      },
      "outputs": [
        {
          "output_type": "stream",
          "name": "stdout",
          "text": [
            "Accuracy for the NN model is: 83.17332649230957\n",
            "Accuracy for the RF model is: 82.91723853965496\n",
            "Accuracy for the LR model is: 57.06610870361328\n"
          ]
        }
      ],
      "source": [
        "# Showing scores for both the NN and the RF model\n",
        "print(\"Accuracy for the NN model is:\", str(Accuracy_Score(TestingData['Price'], TestingData['NN_predictions'])))\n",
        "print(\"Accuracy for the RF model is:\", str(Accuracy_Score(TestingData['Price'], TestingData['RF_predictions'])))\n",
        "print(\"Accuracy for the LR model is:\", str(Accuracy_Score(TestingData['Price'], TestingData['LR_predictions'])))"
      ]
    },
    {
      "cell_type": "code",
      "source": [
        "print(\"Accuracy for the PR model is:\", str(Accuracy_Score(TestingData['Price'], TestingData['PR_predictions'])))"
      ],
      "metadata": {
        "colab": {
          "base_uri": "https://localhost:8080/"
        },
        "id": "Om7QSej6Ksk8",
        "outputId": "2710cecf-1d75-44c8-f132-01a0665e8112"
      },
      "id": "Om7QSej6Ksk8",
      "execution_count": 60,
      "outputs": [
        {
          "output_type": "stream",
          "name": "stdout",
          "text": [
            "Accuracy for the PR model is: -1886.8079833984375\n"
          ]
        }
      ]
    },
    {
      "cell_type": "markdown",
      "source": [
        "Polynomial Regression seems to be Overfitting."
      ],
      "metadata": {
        "id": "exdQrFxxLZVv"
      },
      "id": "exdQrFxxLZVv"
    },
    {
      "cell_type": "markdown",
      "source": [
        "# Final conclusion"
      ],
      "metadata": {
        "id": "Sw_-xVCcj6O4"
      },
      "id": "Sw_-xVCcj6O4"
    },
    {
      "cell_type": "markdown",
      "source": [
        "NN > Random Forest > Linear Regression (Traditional econometric method)"
      ],
      "metadata": {
        "id": "XPOz8oUsj8GK"
      },
      "id": "XPOz8oUsj8GK"
    }
  ],
  "metadata": {
    "kernelspec": {
      "display_name": "Python 3",
      "language": "python",
      "name": "python3"
    },
    "language_info": {
      "codemirror_mode": {
        "name": "ipython",
        "version": 3
      },
      "file_extension": ".py",
      "mimetype": "text/x-python",
      "name": "python",
      "nbconvert_exporter": "python",
      "pygments_lexer": "ipython3",
      "version": "3.7.12"
    },
    "papermill": {
      "default_parameters": {},
      "duration": 4140.430834,
      "end_time": "2022-03-22T00:22:35.380295",
      "environment_variables": {},
      "exception": null,
      "input_path": "__notebook__.ipynb",
      "output_path": "__notebook__.ipynb",
      "parameters": {},
      "start_time": "2022-03-21T23:13:34.949461",
      "version": "2.3.3"
    },
    "colab": {
      "provenance": [],
      "toc_visible": true
    }
  },
  "nbformat": 4,
  "nbformat_minor": 5
}